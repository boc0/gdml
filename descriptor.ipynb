{
  "cells": [
    {
      "cell_type": "code",
      "source": [
        "import numpy as onp\n",
        "import jax.numpy as np\n",
        "import pandas as pd\n",
        "\n",
        "import matplotlib.pyplot as plt\n",
        "import seaborn as sns\n",
        "\n",
        "from sklearn.model_selection import GridSearchCV\n",
        "\n",
        "from dipole import VectorValuedKRR\n",
        "from utils import matern, coulomb"
      ],
      "outputs": [],
      "execution_count": 3,
      "metadata": {
        "collapsed": true,
        "execution": {
          "iopub.execute_input": "2020-12-04T02:18:31.181Z",
          "iopub.status.busy": "2020-12-04T02:18:31.150Z",
          "iopub.status.idle": "2020-12-04T02:18:31.216Z",
          "shell.execute_reply": "2020-12-04T02:18:31.225Z"
        },
        "jupyter": {
          "outputs_hidden": false,
          "source_hidden": false
        },
        "nteract": {
          "transient": {
            "deleting": false
          }
        }
      }
    },
    {
      "cell_type": "code",
      "source": [
        "data = np.load('data/HOOH.DFT.PBE-TS.light.MD.500K.50k.R_E_F_D_Q.npz')\n",
        "X = np.array(data['R'])\n",
        "y = np.array(data['D'])"
      ],
      "outputs": [
        {
          "output_type": "stream",
          "name": "stderr",
          "text": [
            "WARNING:absl:No GPU/TPU found, falling back to CPU. (Set TF_CPP_MIN_LOG_LEVEL=0 and rerun for more info.)\n"
          ]
        }
      ],
      "execution_count": 4,
      "metadata": {
        "collapsed": true,
        "execution": {
          "iopub.execute_input": "2020-12-04T02:18:32.528Z",
          "iopub.status.busy": "2020-12-04T02:18:32.524Z",
          "iopub.status.idle": "2020-12-04T02:18:33.015Z",
          "shell.execute_reply": "2020-12-04T02:18:33.024Z"
        },
        "jupyter": {
          "outputs_hidden": false,
          "source_hidden": false
        },
        "nteract": {
          "transient": {
            "deleting": false
          }
        }
      }
    },
    {
      "cell_type": "code",
      "source": [
        "from functools import partial\n",
        "\n",
        "nop = lambda x: x\n",
        "no_descriptor = partial(matern, descriptor=nop)"
      ],
      "outputs": [],
      "execution_count": 6,
      "metadata": {
        "collapsed": true,
        "jupyter": {
          "source_hidden": false,
          "outputs_hidden": false
        },
        "nteract": {
          "transient": {
            "deleting": false
          }
        },
        "execution": {
          "iopub.status.busy": "2020-12-04T02:33:05.508Z",
          "iopub.execute_input": "2020-12-04T02:33:05.513Z",
          "iopub.status.idle": "2020-12-04T02:33:05.520Z",
          "shell.execute_reply": "2020-12-04T02:33:05.596Z"
        }
      }
    },
    {
      "cell_type": "code",
      "source": [
        "sigma_choices = list(onp.linspace(10, 100, 10, dtype=int))\n",
        "parameters = {'sigma': sigma_choices}\n",
        "\n",
        "test = slice(20000, 20100)\n",
        "Xtest, ytest = X[test], y[test]\n",
        "errors, errors_no_desc = [], []\n",
        "M = X.shape[0]\n",
        "size = 50\n",
        "\n",
        "for _ in range(5):\n",
        "\n",
        "    indices = onp.random.choice(M, size=size, replace=False)\n",
        "    Xtrain, ytrain = X[indices], y[indices]\n",
        "\n",
        "    cross_validation = GridSearchCV(VectorValuedKRR(), parameters)\n",
        "    cross_validation.fit(Xtrain, ytrain)\n",
        "    results = cross_validation.cv_results_\n",
        "    best = np.argmin(results['rank_test_score'])\n",
        "    best_params = results['params'][best]\n",
        "    print(f'best params: {best_params}')\n",
        "    best_model = VectorValuedKRR(**best_params)\n",
        "    best_model.fit(Xtrain, ytrain)\n",
        "    best_test_error_matern = -best_model.score(Xtest, ytest).item()\n",
        "    errors.append(best_test_error_matern)\n",
        "    print(f'descriptor error: {best_test_error_matern}')\n",
        "\n",
        "    cross_validation = GridSearchCV(VectorValuedKRR(similarity=no_descriptor), parameters) #, dict(**parameters, similarity=[no]))\n",
        "    cross_validation.fit(Xtrain, ytrain)\n",
        "    results = cross_validation.cv_results_\n",
        "    best = np.argmin(results['rank_test_score'])\n",
        "    best_params = results['params'][best]\n",
        "    print(f'best params: {best_params}')\n",
        "    best_model = VectorValuedKRR(**best_params)\n",
        "    best_model.fit(Xtrain, ytrain)\n",
        "    best_test_error_gaussian = -best_model.score(Xtest, ytest).item()\n",
        "    print(f'no descriptor error: {best_test_error_gaussian}')\n",
        "    errors_no_desc.append(best_test_error_gaussian)\n",
        "\n",
        "\n"
      ],
      "outputs": [
        {
          "output_type": "stream",
          "name": "stdout",
          "text": [
            "best params: {'sigma': 10}\n",
            "descriptor error: 0.16881799697875977\n",
            "best params: {'sigma': 20}\n",
            "no descriptor error: 0.16444164514541626\n",
            "best params: {'sigma': 100}\n",
            "descriptor error: 0.162628173828125\n",
            "best params: {'sigma': 20}\n",
            "no descriptor error: 0.16377870738506317\n",
            "best params: {'sigma': 10}\n",
            "descriptor error: 0.1588732749223709\n",
            "best params: {'sigma': 10}\n",
            "no descriptor error: 0.1588732749223709\n",
            "best params: {'sigma': 100}\n",
            "descriptor error: 0.15167932212352753\n",
            "best params: {'sigma': 50}\n",
            "no descriptor error: 0.15212534368038177\n",
            "best params: {'sigma': 20}\n",
            "descriptor error: 0.16591697931289673\n",
            "best params: {'sigma': 20}\n",
            "no descriptor error: 0.16591697931289673\n"
          ]
        }
      ],
      "execution_count": 8,
      "metadata": {
        "execution": {
          "iopub.execute_input": "2020-12-04T02:34:26.885Z",
          "iopub.status.busy": "2020-12-04T02:34:26.881Z",
          "iopub.status.idle": "2020-12-04T02:43:16.809Z",
          "shell.execute_reply": "2020-12-04T02:43:16.819Z"
        },
        "jupyter": {
          "outputs_hidden": false,
          "source_hidden": false
        },
        "nteract": {
          "transient": {
            "deleting": false
          }
        }
      }
    },
    {
      "cell_type": "code",
      "source": [
        "print(onp.mean(errors))\n",
        "print(onp.mean(errors_no_desc))"
      ],
      "outputs": [
        {
          "output_type": "stream",
          "name": "stdout",
          "text": [
            "0.16158314943313598\n",
            "0.16102719008922578\n"
          ]
        }
      ],
      "execution_count": 9,
      "metadata": {
        "collapsed": true,
        "jupyter": {
          "source_hidden": false,
          "outputs_hidden": false
        },
        "nteract": {
          "transient": {
            "deleting": false
          }
        },
        "execution": {
          "iopub.status.busy": "2020-12-04T04:38:25.678Z",
          "iopub.execute_input": "2020-12-04T04:38:25.836Z",
          "iopub.status.idle": "2020-12-04T04:38:25.886Z",
          "shell.execute_reply": "2020-12-04T04:38:25.896Z"
        }
      }
    },
    {
      "cell_type": "code",
      "source": [
        "data = pd.DataFrame({'samples trained on': data_subset_sizes, 'matern error': errors_matern, 'gaussian error': errors_gaussian})\n",
        "fig, ax = plt.subplots()\n",
        "ax2 = ax.twinx()\n",
        "sns.pointplot(x='samples trained on', y='matern error', data=data, s=100, ax=ax, color='royalblue')\n",
        "ax2.set_ylim(ax.get_ylim())\n",
        "sns.pointplot(x='samples trained on', y='gaussian error', data=data, s=100, ax=ax2, color='forestgreen')"
      ],
      "outputs": [
        {
          "output_type": "execute_result",
          "execution_count": 41,
          "data": {
            "text/plain": "<AxesSubplot:label='69be177e-b6fd-48c2-9555-defdda2cdcce', xlabel='samples trained on', ylabel='gaussian error'>"
          },
          "metadata": {}
        },
        {
          "output_type": "display_data",
          "data": {
            "image/png": "[encoded data removed]",
            "text/plain": "<Figure size 432x288 with 2 Axes>"
          },
          "metadata": {
            "needs_background": "light"
          }
        }
      ],
      "execution_count": 41,
      "metadata": {
        "execution": {
          "iopub.execute_input": "2020-12-03T02:51:12.383Z",
          "iopub.status.busy": "2020-12-03T02:51:12.302Z",
          "iopub.status.idle": "2020-12-03T02:51:12.694Z",
          "shell.execute_reply": "2020-12-03T02:51:12.703Z"
        },
        "jupyter": {
          "outputs_hidden": false,
          "source_hidden": false
        },
        "nteract": {
          "transient": {
            "deleting": false
          }
        }
      }
    },
    {
      "cell_type": "code",
      "source": [],
      "outputs": [],
      "execution_count": null,
      "metadata": {
        "collapsed": true,
        "jupyter": {
          "outputs_hidden": false,
          "source_hidden": false
        },
        "nteract": {
          "transient": {
            "deleting": false
          }
        }
      }
    }
  ],
  "metadata": {
    "kernel_info": {
      "name": "python3"
    },
    "kernelspec": {
      "display_name": "Python 3",
      "language": "python",
      "name": "python3"
    },
    "language_info": {
      "name": "python",
      "version": "3.7.4",
      "mimetype": "text/x-python",
      "codemirror_mode": {
        "name": "ipython",
        "version": 3
      },
      "pygments_lexer": "ipython3",
      "nbconvert_exporter": "python",
      "file_extension": ".py"
    },
    "nteract": {
      "version": "0.27.0"
    }
  },
  "nbformat": 4,
  "nbformat_minor": 1
}