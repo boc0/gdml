{
 "cells": [
  {
   "cell_type": "code",
   "execution_count": 2,
   "metadata": {
    "collapsed": false,
    "jupyter": {
     "outputs_hidden": false,
     "source_hidden": false
    },
    "nteract": {
     "transient": {
      "deleting": false
     }
    }
   },
   "outputs": [
    {
     "name": "stderr",
     "output_type": "stream",
     "text": [
      "2021/03/27 19:18:36 INFO mlflow.tracking.fluent: Autologging successfully enabled for sklearn.\n"
     ]
    },
    {
     "ename": "ValueError",
     "evalue": "attempted relative import beyond top-level package",
     "output_type": "error",
     "traceback": [
      "\u001b[0;31m---------------------------------------------------------------------------\u001b[0m",
      "\u001b[0;31mValueError\u001b[0m                                Traceback (most recent call last)",
      "\u001b[0;32m<ipython-input-2-0691d6d6055f>\u001b[0m in \u001b[0;36m<module>\u001b[0;34m\u001b[0m\n\u001b[1;32m     18\u001b[0m \u001b[0mmlflow\u001b[0m\u001b[0;34m.\u001b[0m\u001b[0mautolog\u001b[0m\u001b[0;34m(\u001b[0m\u001b[0;34m)\u001b[0m\u001b[0;34m\u001b[0m\u001b[0;34m\u001b[0m\u001b[0m\n\u001b[1;32m     19\u001b[0m \u001b[0;34m\u001b[0m\u001b[0m\n\u001b[0;32m---> 20\u001b[0;31m \u001b[0;32mfrom\u001b[0m \u001b[0;34m.\u001b[0m\u001b[0;34m.\u001b[0m\u001b[0mdipole\u001b[0m \u001b[0;32mimport\u001b[0m \u001b[0mVectorValuedKRR\u001b[0m\u001b[0;34m,\u001b[0m \u001b[0mtrain\u001b[0m \u001b[0;32mas\u001b[0m \u001b[0mtrain_gdml\u001b[0m\u001b[0;34m\u001b[0m\u001b[0;34m\u001b[0m\u001b[0m\n\u001b[0m\u001b[1;32m     21\u001b[0m \u001b[0;32mfrom\u001b[0m \u001b[0mutils\u001b[0m \u001b[0;32mimport\u001b[0m \u001b[0mmatern\u001b[0m\u001b[0;34m,\u001b[0m \u001b[0mcoulomb\u001b[0m\u001b[0;34m\u001b[0m\u001b[0;34m\u001b[0m\u001b[0m\n",
      "\u001b[0;31mValueError\u001b[0m: attempted relative import beyond top-level package"
     ]
    }
   ],
   "source": [
    "import os\n",
    "\n",
    "import numpy as onp\n",
    "import jax.numpy as np\n",
    "import torch\n",
    "import schnetpack as spk\n",
    "\n",
    "import pandas as pd\n",
    "import matplotlib.pyplot as plt\n",
    "import seaborn as sns\n",
    "\n",
    "from sklearn.model_selection import RandomizedSearchCV\n",
    "from scipy.stats import loguniform\n",
    "\n",
    "import mlflow\n",
    "import mlflow.pytorch\n",
    "\n",
    "mlflow.autolog()\n",
    "\n",
    "from ..dipole import VectorValuedKRR, train as train_gdml\n",
    "from utils import matern, coulomb"
   ]
  },
  {
   "cell_type": "code",
   "execution_count": null,
   "metadata": {
    "collapsed": false,
    "jupyter": {
     "outputs_hidden": false,
     "source_hidden": false
    },
    "nteract": {
     "transient": {
      "deleting": false
     }
    },
    "scrolled": true
   },
   "outputs": [],
   "source": [
    "data = np.load('data/HOOH.DFT.PBE-TS.light.MD.500K.50k.R_E_F_D_Q.npz')\n",
    "X = np.array(data['R'])\n",
    "y = np.array(data['D'])"
   ]
  },
  {
   "cell_type": "code",
   "execution_count": null,
   "metadata": {
    "collapsed": false,
    "jupyter": {
     "outputs_hidden": false,
     "source_hidden": false
    },
    "nteract": {
     "transient": {
      "deleting": false
     }
    }
   },
   "outputs": [],
   "source": [
    "import schnetpack as spk\n",
    "from ase.db.jsondb import JSONDatabase\n",
    "from schnetpack.data import AtomsData\n",
    "atomsdb = AtomsData('data/data.json')\n",
    "M = len(atomsdb)\n",
    "print(M)"
   ]
  },
  {
   "cell_type": "code",
   "execution_count": null,
   "metadata": {
    "collapsed": false,
    "jupyter": {
     "outputs_hidden": false,
     "source_hidden": false
    },
    "nteract": {
     "transient": {
      "deleting": false
     }
    }
   },
   "outputs": [],
   "source": [
    "# loss function\n",
    "def squared_norm(batch, result):\n",
    "    diff = batch['dipole'].squeeze() - result['dipole'].squeeze()\n",
    "    err_sq = torch.linalg.norm(diff, axis=1)**2\n",
    "    return err_sq.mean().item()\n",
    "\n",
    "\n",
    "def train_schnet(train, val, size=50):\n",
    "\n",
    "    train_loader = spk.AtomsLoader(train, batch_size=2048, shuffle=True)\n",
    "    val_loader = spk.AtomsLoader(val, batch_size=2048)\n",
    "\n",
    "    schnet = spk.representation.SchNet(\n",
    "        n_atom_basis=30, n_filters=30, n_gaussians=20, n_interactions=5,\n",
    "        cutoff=4., cutoff_network=spk.nn.cutoff.CosineCutoff\n",
    "    )\n",
    "\n",
    "    output_alpha = spk.atomistic.DipoleMoment(n_in=30, property='dipole')\n",
    "    model = spk.AtomisticModel(representation=schnet, output_modules=output_alpha)\n",
    "\n",
    "    optimizer = torch.optim.Adam(model.parameters(), lr=1e-2)\n",
    "    loss = spk.train.build_mse_loss(['dipole'])\n",
    "\n",
    "    metrics = [spk.metrics.MeanAbsoluteError('dipole')]\n",
    "    hooks = [\n",
    "        spk.train.ReduceLROnPlateauHook(\n",
    "            optimizer,\n",
    "            patience=5, factor=0.8, min_lr=1e-6,\n",
    "            stop_after_min=True\n",
    "        ),\n",
    "        spk.train.EarlyStoppingHook(8),\n",
    "        spk.train.CSVHook('schnet_metrics', [])\n",
    "    ]\n",
    "\n",
    "    model_dir = f'model-{size}'\n",
    "    trainer = spk.train.Trainer(\n",
    "        model_path=model_dir,\n",
    "        model=model,\n",
    "        hooks=hooks,\n",
    "        loss_fn=loss,\n",
    "        optimizer=optimizer,\n",
    "        train_loader=train_loader,\n",
    "        validation_loader=val_loader,\n",
    "    )\n",
    "\n",
    "    trainer.train(device='cpu', n_epochs=50)\n",
    "    best = torch.load(os.path.join(model_dir, 'best_model'))\n",
    "    mlflow.pytorch.log_model(best, \"best\")\n",
    "        \n",
    "    return best"
   ]
  },
  {
   "cell_type": "code",
   "execution_count": null,
   "metadata": {
    "collapsed": false,
    "jupyter": {
     "outputs_hidden": false,
     "source_hidden": false
    },
    "nteract": {
     "transient": {
      "deleting": false
     }
    }
   },
   "outputs": [],
   "source": [
    "data_subset_sizes = list(np.linspace(10, 100, 10, dtype=int))\n",
    "parameters = {'sigma': loguniform(10**1, 10**4), 'lamb': loguniform(10**-2, 10**3)}\n",
    "\n",
    "test_indices = onp.random.choice(M, size=100, replace=False)\n",
    "test_data = atomsdb.create_subset(list(test_indices))\n",
    "test_batch = list(spk.AtomsLoader(test_data, batch_size=2048))[0]\n",
    "Xtest, ytest = X[test_indices], y[test_indices]\n",
    "\n",
    "mask = onp.ones(M, dtype=bool)\n",
    "mask[test_indices] = False\n",
    "X, y = X[mask], y[mask]\n",
    "\n",
    "# train_indices = onp.random.choice(M-100, size=data_subset_sizes[-1], replace=False)\n",
    "# X, y = X[train_indices], y[train_indices]\n",
    "\n",
    "errors_gdml, cv_results, errors_schnet = [], [], []\n",
    "with mlflow.start_run():\n",
    "    for size in data_subset_sizes:\n",
    "        with mlflow.start_run(nested=True):\n",
    "            mlflow.log_param('n_samples', size)\n",
    "            print(f'size: {size}')\n",
    "            Xtrain, ytrain = X[:size], y[:size]\n",
    "\n",
    "            test_error, angle, result = train_gdml(Xtrain, ytrain, Xtest, ytest, cv=RandomizedSearchCV(VectorValuedKRR(), parameters, n_iter=50), return_results=True)\n",
    "            errors_gdml.append(test_error)\n",
    "            cv_results.append(result)\n",
    "            errors_gdml.append(test_error)\n",
    "            mlflow.log_metric('gdml error', test_error)\n",
    "\n",
    "            data_cut = atomsdb.create_subset(range(size))\n",
    "            val_size = size // 10\n",
    "            train, val, test = spk.train_test_split(\n",
    "                data=data_cut,\n",
    "                num_train=size - val_size,\n",
    "                num_val=val_size\n",
    "            )\n",
    "            best_model = train_schnet(train, val, size=size)\n",
    "            prediction = best_model(test_batch)\n",
    "            test_error_schnet = squared_norm(prediction, test_batch)\n",
    "            print(f'schnet error: {test_error_schnet:.6f}')\n",
    "            mlflow.log_metric('schnet error', test_error_schnet)\n",
    "            errors_schnet.append(test_error_schnet)\n"
   ]
  },
  {
   "cell_type": "code",
   "execution_count": 35,
   "metadata": {},
   "outputs": [
    {
     "data": {
      "image/png": "[encoded data removed]",
      "text/plain": [
       "<Figure size 432x288 with 2 Axes>"
      ]
     },
     "metadata": {
      "needs_background": "light"
     },
     "output_type": "display_data"
    }
   ],
   "source": [
    "data = pd.DataFrame({'samples trained on': data_subset_sizes, 'gdml error': errors_gdml, 'schnet error': errors_schnet})\n",
    "fig, ax = plt.subplots()\n",
    "ax2 = ax.twinx()\n",
    "ax.set_ylim(0, 1)\n",
    "sns.pointplot(x='samples trained on', y='gdml error', data=data, s=100, ax=ax, color='royalblue')\n",
    "ax2.set_ylim(ax.get_ylim())\n",
    "sns.pointplot(x='samples trained on', y='schnet error', data=data, s=100, ax=ax2, color='forestgreen')\n",
    "plt.savefig('schnet.png')"
   ]
  },
  {
   "cell_type": "code",
   "execution_count": null,
   "metadata": {},
   "outputs": [],
   "source": []
  }
 ],
 "metadata": {
  "kernel_info": {
   "name": "python3"
  },
  "kernelspec": {
   "display_name": "Python 3",
   "language": "python",
   "name": "python3"
  },
  "language_info": {
   "codemirror_mode": {
    "name": "ipython",
    "version": 3
   },
   "file_extension": ".py",
   "mimetype": "text/x-python",
   "name": "python",
   "nbconvert_exporter": "python",
   "pygments_lexer": "ipython3",
   "version": "3.7.4"
  },
  "nteract": {
   "version": "0.27.0"
  }
 },
 "nbformat": 4,
 "nbformat_minor": 4
}
