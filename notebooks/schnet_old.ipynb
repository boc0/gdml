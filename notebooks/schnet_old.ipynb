{
 "cells": [
  {
   "cell_type": "markdown",
   "metadata": {},
   "source": [
    "# Kernel Ridge Regression vs SchNet: data efficiency\n",
    "\n",
    "The molecular trajectory datasets that we use to train a dipolar moment prediction model are generated through expensive simulations. Therefore, the ability of a family of models to learn from small datasets is of interest. This work will compare the performance of a Kernel Ridge Regression (KRR) model and SchNet model for datasets of size between 10 and 100 points. Each subsequent dataset will be a superset of the previous, with the whole training set of 100 points being randomly sampled."
   ]
  },
  {
   "cell_type": "code",
   "execution_count": 1,
   "metadata": {
    "execution": {
     "iopub.execute_input": "2020-12-05T13:31:09.062Z",
     "iopub.status.busy": "2020-12-05T13:31:09.058Z",
     "iopub.status.idle": "2020-12-05T13:31:12.841Z",
     "shell.execute_reply": "2020-12-05T13:31:12.866Z"
    },
    "nteract": {
     "transient": {
      "deleting": false
     }
    }
   },
   "outputs": [],
   "source": [
    "import os\n",
    "\n",
    "import numpy as onp\n",
    "import jax.numpy as np\n",
    "import pandas as pd\n",
    "\n",
    "import matplotlib.pyplot as plt\n",
    "import seaborn as sns\n",
    "\n",
    "from sklearn.model_selection import GridSearchCV\n",
    "\n",
    "from dipole import VectorValuedKRR\n",
    "from utils import matern, coulomb"
   ]
  },
  {
   "cell_type": "code",
   "execution_count": 2,
   "metadata": {
    "collapsed": false,
    "execution": {
     "iopub.execute_input": "2020-12-05T13:31:12.859Z",
     "iopub.status.busy": "2020-12-05T13:31:12.852Z",
     "iopub.status.idle": "2020-12-05T13:31:12.916Z",
     "shell.execute_reply": "2020-12-05T13:31:12.937Z"
    },
    "jupyter": {
     "outputs_hidden": false,
     "source_hidden": false
    },
    "nteract": {
     "transient": {
      "deleting": false
     }
    },
    "scrolled": true
   },
   "outputs": [
    {
     "name": "stderr",
     "output_type": "stream",
     "text": [
      "WARNING:absl:No GPU/TPU found, falling back to CPU. (Set TF_CPP_MIN_LOG_LEVEL=0 and rerun for more info.)\n"
     ]
    }
   ],
   "source": [
    "data = np.load('data/HOOH.DFT.PBE-TS.light.MD.500K.50k.R_E_F_D_Q.npz')\n",
    "X = np.array(data['R'])\n",
    "y = np.array(data['D'])"
   ]
  },
  {
   "cell_type": "code",
   "execution_count": 3,
   "metadata": {
    "collapsed": false,
    "execution": {
     "iopub.execute_input": "2020-12-05T13:31:12.929Z",
     "iopub.status.busy": "2020-12-05T13:31:12.924Z",
     "iopub.status.idle": "2020-12-05T13:31:14.651Z",
     "shell.execute_reply": "2020-12-05T13:31:14.656Z"
    },
    "jupyter": {
     "outputs_hidden": false,
     "source_hidden": false
    },
    "nteract": {
     "transient": {
      "deleting": false
     }
    }
   },
   "outputs": [
    {
     "name": "stdout",
     "output_type": "stream",
     "text": [
      "2000\n"
     ]
    }
   ],
   "source": [
    "import schnetpack as spk\n",
    "from ase.db.jsondb import JSONDatabase\n",
    "from schnetpack.data import AtomsData\n",
    "atomsdb = AtomsData('data/data.json')\n",
    "M = len(atomsdb)\n",
    "print(M)"
   ]
  },
  {
   "cell_type": "code",
   "execution_count": 4,
   "metadata": {
    "collapsed": false,
    "execution": {
     "iopub.execute_input": "2020-12-05T13:31:14.949Z",
     "iopub.status.busy": "2020-12-05T13:31:14.945Z",
     "iopub.status.idle": "2020-12-05T13:31:14.955Z",
     "shell.execute_reply": "2020-12-05T13:31:14.961Z"
    },
    "jupyter": {
     "outputs_hidden": false,
     "source_hidden": false
    },
    "nteract": {
     "transient": {
      "deleting": false
     }
    }
   },
   "outputs": [],
   "source": [
    "import torch\n",
    "import schnetpack as spk\n",
    "\n",
    "# loss function\n",
    "def squared_norm(batch, result):\n",
    "    diff = batch['dipole'].squeeze() - result['dipole'].squeeze()\n",
    "    err_sq = torch.linalg.norm(diff, axis=1)**2\n",
    "    return err_sq.mean().item()\n",
    "\n",
    "\n",
    "def train_schnet(train, val, size=50):\n",
    "\n",
    "    train_loader = spk.AtomsLoader(train, batch_size=2048, shuffle=True)\n",
    "    val_loader = spk.AtomsLoader(val, batch_size=2048)\n",
    "\n",
    "    schnet = spk.representation.SchNet(\n",
    "        n_atom_basis=30, n_filters=30, n_gaussians=20, n_interactions=5,\n",
    "        cutoff=4., cutoff_network=spk.nn.cutoff.CosineCutoff\n",
    "    )\n",
    "\n",
    "    output_alpha = spk.atomistic.DipoleMoment(n_in=30, property='dipole')\n",
    "    model = spk.AtomisticModel(representation=schnet, output_modules=output_alpha)\n",
    "\n",
    "    optimizer = torch.optim.Adam(model.parameters(), lr=1e-2)\n",
    "    loss = spk.train.build_mse_loss(['dipole'])\n",
    "\n",
    "    metrics = [spk.metrics.MeanAbsoluteError('dipole')]\n",
    "    hooks = [\n",
    "        spk.train.ReduceLROnPlateauHook(\n",
    "            optimizer,\n",
    "            patience=5, factor=0.8, min_lr=1e-6,\n",
    "            stop_after_min=True\n",
    "        )\n",
    "    ]\n",
    "\n",
    "    model_dir = f'model-{size}'\n",
    "    trainer = spk.train.Trainer(\n",
    "        model_path=model_dir,\n",
    "        model=model,\n",
    "        hooks=hooks,\n",
    "        loss_fn=loss,\n",
    "        optimizer=optimizer,\n",
    "        train_loader=train_loader,\n",
    "        validation_loader=val_loader,\n",
    "    )\n",
    "\n",
    "    trainer.train(device='cpu', n_epochs=20)\n",
    "\n",
    "    return torch.load(os.path.join(model_dir, 'best_model'))"
   ]
  },
  {
   "cell_type": "code",
   "execution_count": 5,
   "metadata": {
    "collapsed": false,
    "execution": {
     "iopub.execute_input": "2020-12-05T13:31:18.546Z",
     "iopub.status.busy": "2020-12-05T13:31:18.542Z",
     "iopub.status.idle": "2020-12-05T15:00:15.362Z",
     "shell.execute_reply": "2020-12-05T15:00:15.374Z"
    },
    "jupyter": {
     "outputs_hidden": false,
     "source_hidden": false
    },
    "nteract": {
     "transient": {
      "deleting": false
     }
    }
   },
   "outputs": [
    {
     "name": "stderr",
     "output_type": "stream",
     "text": [
      "/Library/Frameworks/Python.framework/Versions/3.7/lib/python3.7/site-packages/ase/atoms.py:972: VisibleDeprecationWarning: Use get_global_number_of_atoms() instead\n",
      "  np.VisibleDeprecationWarning)\n"
     ]
    },
    {
     "name": "stdout",
     "output_type": "stream",
     "text": [
      "size: 10\n",
      "best params: {'lamb': 0.3, 'sigma': 1500.0}\n",
      "gdml error: 9.030820\n",
      "schnet error: 0.023499\n",
      "size: 20\n",
      "best params: {'lamb': 1, 'sigma': 2500.0}\n",
      "gdml error: 0.039192\n",
      "schnet error: 0.009765\n",
      "size: 30\n",
      "best params: {'lamb': 3, 'sigma': 2000.0001}\n",
      "gdml error: 0.046187\n",
      "schnet error: 0.213055\n",
      "size: 40\n",
      "best params: {'lamb': 1, 'sigma': 2500.0}\n",
      "gdml error: 0.014591\n",
      "schnet error: 0.205573\n",
      "size: 50\n",
      "best params: {'lamb': 1, 'sigma': 1500.0}\n",
      "gdml error: 0.016730\n",
      "schnet error: 0.001080\n",
      "size: 60\n",
      "best params: {'lamb': 10, 'sigma': 500.0}\n",
      "gdml error: 0.864044\n",
      "schnet error: 0.176100\n",
      "size: 70\n",
      "best params: {'lamb': 10, 'sigma': 500.0}\n",
      "gdml error: 0.017465\n",
      "schnet error: 0.132230\n",
      "size: 80\n",
      "best params: {'lamb': 3, 'sigma': 1500.0}\n",
      "gdml error: 0.019761\n",
      "schnet error: 0.194281\n",
      "size: 90\n",
      "best params: {'lamb': 3, 'sigma': 2000.0001}\n",
      "gdml error: 0.030019\n",
      "schnet error: 0.158629\n",
      "size: 100\n",
      "best params: {'lamb': 3, 'sigma': 1500.0}\n",
      "gdml error: 0.013800\n",
      "schnet error: 0.218478\n"
     ]
    }
   ],
   "source": [
    "data_subset_sizes = list(onp.linspace(10, 100, 10, dtype=int))\n",
    "sigma_choices = list(np.linspace(500, 3000, 6))\n",
    "lambda_choices = [1e-3, 1e-2, 3e-2, 1e-1, 3e-1, 1, 3, 10, 30, 100]\n",
    "parameters = {'sigma': sigma_choices, 'lamb': lambda_choices}\n",
    "\n",
    "test_indices = onp.random.choice(M, size=100, replace=False)\n",
    "test_data = atomsdb.create_subset(list(test_indices))\n",
    "test_batch = list(spk.AtomsLoader(test_data, batch_size=2048))[0]\n",
    "Xtest, ytest = X[test_indices], y[test_indices]\n",
    "\n",
    "mask = onp.ones(M, dtype=bool)\n",
    "mask[test_indices] = False\n",
    "X, y = X[mask], y[mask]\n",
    "\n",
    "train_indices = onp.random.choice(M-100, size=data_subset_sizes[-1], replace=False)\n",
    "X, y = X[train_indices], y[train_indices]\n",
    "\n",
    "errors_gdml, errors_schnet = [], []\n",
    "\n",
    "for size in data_subset_sizes:\n",
    "    print(f'size: {size}')\n",
    "\n",
    "    Xtrain, ytrain = X[:size], y[:size]\n",
    "\n",
    "    cross_validation = GridSearchCV(VectorValuedKRR(), parameters)\n",
    "    cross_validation.fit(Xtrain, ytrain)\n",
    "    results = cross_validation.cv_results_\n",
    "    best = np.argmin(results['rank_test_score'])\n",
    "    best_params = results['params'][best]\n",
    "    print(f'best params: {best_params}')\n",
    "    best_model = VectorValuedKRR(**best_params)\n",
    "    best_model.fit(Xtrain, ytrain)\n",
    "    best_test_error = -best_model.score(Xtest, ytest).item()\n",
    "    errors_gdml.append(best_test_error)\n",
    "    print(f'gdml error: {best_test_error:.6f}')\n",
    "\n",
    "    data_cut = atomsdb.create_subset(train_indices[:size])\n",
    "    val_size = size // 10\n",
    "    train, val, test = spk.train_test_split(\n",
    "        data=data_cut,\n",
    "        num_train=size - val_size,\n",
    "        num_val=val_size\n",
    "    )\n",
    "    best_model = train_schnet(train, val, size=size)\n",
    "    prediction = best_model(test_batch)\n",
    "    test_error_schnet = squared_norm(prediction, test_batch)\n",
    "    print(f'schnet error: {test_error_schnet:.6f}')\n",
    "    errors_schnet.append(test_error_schnet)\n"
   ]
  },
  {
   "cell_type": "code",
   "execution_count": 9,
   "metadata": {},
   "outputs": [
    {
     "data": {
      "text/plain": [
       "<AxesSubplot:label='9a0be40b-3b22-4f05-9e66-2bab85fa354b', xlabel='samples trained on', ylabel='schnet error'>"
      ]
     },
     "execution_count": 9,
     "metadata": {},
     "output_type": "execute_result"
    },
    {
     "data": {
      "image/png": "[encoded data removed]",
      "text/plain": [
       "<Figure size 432x288 with 2 Axes>"
      ]
     },
     "metadata": {
      "needs_background": "light"
     },
     "output_type": "display_data"
    }
   ],
   "source": [
    "data = pd.DataFrame({'samples trained on': data_subset_sizes, 'gdml error': errors_gdml, 'schnet error': errors_schnet})\n",
    "fig, ax = plt.subplots()\n",
    "ax2 = ax.twinx()\n",
    "sns.pointplot(x='samples trained on', y='gdml error', data=data[1:], s=100, ax=ax, color='royalblue')\n",
    "ax2.set_ylim(ax.get_ylim())\n",
    "sns.pointplot(x='samples trained on', y='schnet error', data=data[1:], s=100, ax=ax2, color='forestgreen')"
   ]
  },
  {
   "cell_type": "markdown",
   "metadata": {},
   "source": [
    "As seen on the plot, our method (blue) usually outperforms a deep SchNet model on a small training set. \n",
    "\n",
    "For some datasets, however, the optimal hyperparameter values are not found in our custom search grid, so no adequately performing model is selected. The hyperparameter search should therefore be improved to explore beyond the predefined grid."
   ]
  }
 ],
 "metadata": {
  "kernel_info": {
   "name": "python3"
  },
  "kernelspec": {
   "display_name": "Python 3",
   "language": "python",
   "name": "python3"
  },
  "language_info": {
   "codemirror_mode": {
    "name": "ipython",
    "version": 3
   },
   "file_extension": ".py",
   "mimetype": "text/x-python",
   "name": "python",
   "nbconvert_exporter": "python",
   "pygments_lexer": "ipython3",
   "version": "3.7.4"
  },
  "nteract": {
   "version": "0.27.0"
  }
 },
 "nbformat": 4,
 "nbformat_minor": 4
}
