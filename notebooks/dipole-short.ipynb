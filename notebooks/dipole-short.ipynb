{
 "cells": [
  {
   "cell_type": "markdown",
   "metadata": {
    "nteract": {
     "transient": {
      "deleting": false
     }
    }
   },
   "source": [
    "# Vector-valued Kernel Ridge Regression\n",
    "\n",
    "Using the same dataset of molecular geometries, we will predict the dipole moment $\\mu$. "
   ]
  },
  {
   "cell_type": "code",
   "execution_count": 1,
   "metadata": {
    "collapsed": false,
    "execution": {
     "iopub.execute_input": "2020-12-02T09:44:49.308Z",
     "iopub.status.busy": "2020-12-02T09:44:49.295Z",
     "iopub.status.idle": "2020-12-02T09:44:52.212Z",
     "shell.execute_reply": "2020-12-02T09:44:52.724Z"
    },
    "jupyter": {
     "outputs_hidden": false,
     "source_hidden": false
    },
    "nteract": {
     "transient": {
      "deleting": false
     }
    }
   },
   "outputs": [],
   "source": [
    "from functools import partial\n",
    "import jax.numpy as np\n",
    "from jax import grad, jit, vmap"
   ]
  },
  {
   "cell_type": "code",
   "execution_count": 2,
   "metadata": {
    "collapsed": false,
    "execution": {
     "iopub.execute_input": "2020-12-02T09:44:52.236Z",
     "iopub.status.busy": "2020-12-02T09:44:52.226Z",
     "iopub.status.idle": "2020-12-02T09:44:52.713Z",
     "shell.execute_reply": "2020-12-02T09:44:52.729Z"
    },
    "jupyter": {
     "outputs_hidden": false,
     "source_hidden": false
    },
    "nteract": {
     "transient": {
      "deleting": false
     }
    }
   },
   "outputs": [
    {
     "name": "stderr",
     "output_type": "stream",
     "text": [
      "WARNING:absl:No GPU/TPU found, falling back to CPU. (Set TF_CPP_MIN_LOG_LEVEL=0 and rerun for more info.)\n"
     ]
    },
    {
     "data": {
      "text/plain": [
       "((50000, 4, 3), (50000, 3))"
      ]
     },
     "execution_count": 2,
     "metadata": {},
     "output_type": "execute_result"
    }
   ],
   "source": [
    "data = np.load('data/HOOH.DFT.PBE-TS.light.MD.500K.50k.R_E_F_D_Q.npz')\n",
    "X = np.array(data['R'])\n",
    "y = np.array(data['D'])\n",
    "X.shape, y.shape"
   ]
  },
  {
   "cell_type": "markdown",
   "metadata": {},
   "source": [
    "First, let's visualise some of our training data. We will encode it using the same Coulomb matrix-like descriptor as for the scalar valued case."
   ]
  },
  {
   "cell_type": "markdown",
   "metadata": {
    "nteract": {
     "transient": {
      "deleting": false
     }
    }
   },
   "source": [
    "The dipole moment is a three-dimensional quantity. To learn this vector-valued function, we will need to adjust our KRR model.\n",
    "\n",
    "### Model\n",
    "our predictor is given by \n",
    "\n",
    "$$\n",
    "\\vec{\\mu} (\\textbf{x}) = \\sum_{l=1}^{M} \\kappa_{rHess}^{(3\\times 3)}(\\textbf{x},\\textbf{x}_l) \\vec{\\alpha}_l $$\n",
    "\n",
    "where $\\kappa_{rHess}^{(3\\times 3)}(\\textbf{x},\\textbf{x}_l)$ is now not a scalar, but a 3x3 matrix given by\n",
    "\n",
    "$$ \n",
    "\\kappa_{rHess}^{(3\\times 3)}(\\textbf{x},\\textbf{x}_l) =\\sum_{i,j=1}^{N} \\text{Hess}_{ij}[\\kappa(\\textbf{x},\\textbf{x}_l)] \n",
    "$$\n",
    "\n",
    "with\n",
    "\n",
    "$$\n",
    "(\\text{Hess}_{ij}[\\kappa(\\textbf{x},\\textbf{x}_l)])_{km} = \\frac{\\partial^2 \\kappa(\\textbf{x},\\textbf{x}_l)}{\\partial (\\textbf{x}_l)_{ik} \\partial (\\textbf{x}_l)_{jm}}\n",
    "$$\n",
    "\n",
    "The Hessian of the similarity measure at $\\textbf{x}$ is composed of the second derivatives of each pair of input elements, $(Hess)_{ikjm} = \\frac{\\partial^2 \\kappa(\\textbf{x},\\textbf{x}_l)}{\\partial (\\textbf{x}_l)_{ik} \\partial (\\textbf{x}_l)_{jm}}$. In this case our data has two dimensions, so the Hessian has four. We will compute the derivatives using the Jax library."
   ]
  },
  {
   "cell_type": "code",
   "execution_count": 3,
   "metadata": {
    "collapsed": false,
    "execution": {
     "iopub.execute_input": "2020-12-02T09:45:06.462Z",
     "iopub.status.busy": "2020-12-02T09:45:06.453Z",
     "iopub.status.idle": "2020-12-02T09:45:06.477Z",
     "shell.execute_reply": "2020-12-02T09:45:06.520Z"
    },
    "jupyter": {
     "outputs_hidden": false,
     "source_hidden": false
    },
    "nteract": {
     "transient": {
      "deleting": false
     }
    }
   },
   "outputs": [],
   "source": [
    "from jax import jacfwd, jacrev\n",
    "def hessian(f):\n",
    "    return jacfwd(jacrev(f))"
   ]
  },
  {
   "cell_type": "code",
   "execution_count": 4,
   "metadata": {
    "collapsed": false,
    "execution": {
     "iopub.execute_input": "2020-12-02T09:45:06.496Z",
     "iopub.status.busy": "2020-12-02T09:45:06.489Z",
     "iopub.status.idle": "2020-12-02T09:45:07.491Z",
     "shell.execute_reply": "2020-12-02T09:45:07.540Z"
    },
    "jupyter": {
     "outputs_hidden": false,
     "source_hidden": false
    },
    "nteract": {
     "transient": {
      "deleting": false
     }
    }
   },
   "outputs": [
    {
     "name": "stdout",
     "output_type": "stream",
     "text": [
      "(4, 3, 4, 3)\n"
     ]
    }
   ],
   "source": [
    "from utils import matern, fill_diagonal\n",
    "\n",
    "_matern = partial(matern, X[0])\n",
    "_hess = hessian(_matern)\n",
    "print(_hess(X[1]).shape)"
   ]
  },
  {
   "cell_type": "code",
   "execution_count": 5,
   "metadata": {
    "collapsed": false,
    "execution": {
     "iopub.execute_input": "2020-12-02T09:47:31.190Z",
     "iopub.status.busy": "2020-12-02T09:47:31.180Z",
     "iopub.status.idle": "2020-12-02T09:47:31.208Z",
     "shell.execute_reply": "2020-12-02T09:47:31.218Z"
    },
    "jupyter": {
     "outputs_hidden": false,
     "source_hidden": false
    },
    "nteract": {
     "transient": {
      "deleting": false
     }
    }
   },
   "outputs": [],
   "source": [
    "@jit\n",
    "def kernel(x, x_, sigma=1.0):\n",
    "    _matern = partial(matern, x, sigma=sigma)\n",
    "    hess = hessian(_matern)\n",
    "    H = hess(x_)\n",
    "    K = np.sum(H, axis=(0,2))\n",
    "    return K"
   ]
  },
  {
   "cell_type": "code",
   "execution_count": 6,
   "metadata": {
    "collapsed": false,
    "execution": {
     "iopub.execute_input": "2020-12-02T09:47:37.769Z",
     "iopub.status.busy": "2020-12-02T09:47:37.755Z",
     "iopub.status.idle": "2020-12-02T09:47:37.785Z",
     "shell.execute_reply": "2020-12-02T09:47:37.795Z"
    },
    "jupyter": {
     "outputs_hidden": false,
     "source_hidden": false
    },
    "nteract": {
     "transient": {
      "deleting": false
     }
    }
   },
   "outputs": [],
   "source": [
    "@jit\n",
    "def kernel_matrix(X, sigma=1):\n",
    "    _kernel = partial(kernel, sigma=sigma)              # _kernel: kernel ((x, x') -> K^(3x3)) parametrized with sigma\n",
    "    @vmap\n",
    "    def _kernels(x):\n",
    "        vec_kernel = vmap(partial(_kernel, x))          # vec_kernel: (x_1, x_2, ..., x_M) -> (k(x, x_1), k(x, x_2), ..., k(x, x_M))\n",
    "        return vec_kernel(X)\n",
    "    K = _kernels(X)                                     # K: list of lists of kernels for each 2 data points\n",
    "    blocks = [list(x) for x in K]\n",
    "    return np.block(blocks)                             # from list of lists of K(3x3)-matrices to block matrix of K(3x3) matrices"
   ]
  },
  {
   "cell_type": "code",
   "execution_count": 7,
   "metadata": {
    "execution": {
     "iopub.execute_input": "2020-12-02T09:47:42.860Z",
     "iopub.status.busy": "2020-12-02T09:47:42.850Z",
     "iopub.status.idle": "2020-12-02T09:47:44.870Z",
     "shell.execute_reply": "2020-12-02T09:47:44.890Z"
    }
   },
   "outputs": [
    {
     "data": {
      "image/png": "[encoded data removed]",
      "text/plain": [
       "<Figure size 576x432 with 2 Axes>"
      ]
     },
     "metadata": {},
     "output_type": "display_data"
    }
   ],
   "source": [
    "from utils import matrix_heatmap\n",
    "\n",
    "K = kernel_matrix(X[:5])\n",
    "matrix_heatmap(K, center=0, vmin=-5e-6, vmax=2e-6)"
   ]
  },
  {
   "cell_type": "markdown",
   "metadata": {},
   "source": [
    "Similar to single-valued KRR, we compute the parameters $\\alpha$ which minimize error analytically. They are given by\n",
    "$$\n",
    "\\alpha = [K_{\\text{rHess}}^{(3\\times 3)}(\\textbf{X},\\textbf{X}')-\\lambda\\textbf{I}]^{-1} \\mu(\\textbf{X})\n",
    "$$\n",
    "\n",
    "Instead of inverting (expensive) we will solve the linear system of equations $[K_{\\text{rHess}}^{(3\\times 3)}(\\textbf{X},\\textbf{X}')-\\lambda\\textbf{I}] \\alpha = \\mu(\\textbf{X})$."
   ]
  },
  {
   "cell_type": "code",
   "execution_count": 8,
   "metadata": {},
   "outputs": [],
   "source": [
    "from dipole import VectorValuedKRR"
   ]
  },
  {
   "cell_type": "code",
   "execution_count": 8,
   "metadata": {
    "collapsed": false,
    "execution": {
     "iopub.execute_input": "2020-12-02T09:54:59.957Z",
     "iopub.status.busy": "2020-12-02T09:54:59.950Z",
     "iopub.status.idle": "2020-12-02T09:54:59.972Z",
     "shell.execute_reply": "2020-12-02T09:54:59.980Z"
    },
    "jupyter": {
     "outputs_hidden": false,
     "source_hidden": false
    },
    "nteract": {
     "transient": {
      "deleting": false
     }
    }
   },
   "outputs": [],
   "source": [
    "from utils import KRR\n",
    "\n",
    "class VectorValuedKRR(KRR):\n",
    "        \n",
    "    def fit(self, X, y):\n",
    "        self.X = X\n",
    "        samples = X.shape[0]\n",
    "        \n",
    "        K = kernel_matrix(X, sigma=self.sigma)\n",
    "        K = fill_diagonal(K, K.diagonal() + self.lamb)\n",
    "        \n",
    "        self.means = np.mean(y)\n",
    "        self.stdevs = np.std(y)\n",
    "        y = (y - self.means) / self.stdevs # normalize\n",
    "        \n",
    "        y = y.reshape(samples * 3)\n",
    "        alphas = np.linalg.solve(K, y)\n",
    "        self.alphas = alphas.reshape(samples, 3)\n",
    "\n",
    "    def predict(self, x):\n",
    "        def contribution(i, x):\n",
    "            return kernel(x, X[i], sigma=self.sigma) @ self.alphas[i]\n",
    "        @vmap\n",
    "        def predict(x):\n",
    "            indices = np.arange(self.samples)\n",
    "            _contribution = vmap(partial(contribution, x=x))\n",
    "            contributions = _contribution(indices)\n",
    "            mu = np.sum(contributions, axis=0)\n",
    "            return mu\n",
    "        results = predict(x)\n",
    "        return np.array(results) * self.stdevs + self.means # \"de-normalize\"\n",
    "\n",
    "    def score(self, x, y):\n",
    "        yhat = self.predict(x)\n",
    "        return -np.mean(np.sum(np.abs(y - yhat), axis=1))"
   ]
  },
  {
   "cell_type": "markdown",
   "metadata": {},
   "source": [
    "The hyperparameters $\\lambda$ and $\\sigma$ are learned through cross-validation on a grid of parameter values we choose. More on how we picked those values in the final report."
   ]
  },
  {
   "cell_type": "code",
   "execution_count": 9,
   "metadata": {},
   "outputs": [],
   "source": [
    "model = VectorValuedKRR(lamb=0.2, sigma=2500)\n",
    "model.fit(X[:50], y[:50])"
   ]
  },
  {
   "cell_type": "code",
   "execution_count": 10,
   "metadata": {
    "collapsed": false,
    "execution": {
     "iopub.execute_input": "2020-12-02T09:55:23.552Z",
     "iopub.status.busy": "2020-12-02T09:55:23.543Z",
     "iopub.status.idle": "2020-12-02T09:55:25.623Z",
     "shell.execute_reply": "2020-12-02T09:55:25.640Z"
    },
    "jupyter": {
     "outputs_hidden": false,
     "source_hidden": false
    },
    "nteract": {
     "transient": {
      "deleting": false
     }
    }
   },
   "outputs": [
    {
     "name": "stdout",
     "output_type": "stream",
     "text": [
      "[[ 0.02387427 -0.26083615 -0.48063302]\n",
      " [ 0.03307235 -0.27447337 -0.5151043 ]]\n",
      "[[ 0.06685546 -0.3067279  -0.58624345]\n",
      " [ 0.06524433 -0.3048814  -0.58123165]]\n"
     ]
    }
   ],
   "source": [
    "print(model.predict(X[:2]))\n",
    "print(y[:2])"
   ]
  },
  {
   "cell_type": "code",
   "execution_count": 11,
   "metadata": {
    "collapsed": false,
    "execution": {
     "iopub.execute_input": "2020-12-02T09:55:31.462Z",
     "iopub.status.busy": "2020-12-02T09:55:31.454Z",
     "iopub.status.idle": "2020-12-02T09:55:33.313Z",
     "shell.execute_reply": "2020-12-02T09:55:33.328Z"
    },
    "jupyter": {
     "outputs_hidden": false,
     "source_hidden": false
    },
    "nteract": {
     "transient": {
      "deleting": false
     }
    }
   },
   "outputs": [
    {
     "data": {
      "text/plain": [
       "0.17739495635032654"
      ]
     },
     "execution_count": 11,
     "metadata": {},
     "output_type": "execute_result"
    }
   ],
   "source": [
    "-model.score(X[50:60], y[50:60]).item()"
   ]
  },
  {
   "cell_type": "markdown",
   "metadata": {
    "nteract": {
     "transient": {
      "deleting": false
     }
    }
   },
   "source": [
    "A hyperparameter search was performed for different data subset sizes. The resulting learning curve comprising of the mean squared deviation norm and mean angle between predictions and test data of the winning models for each sample size is shown.\n",
    "![learningCurve](images/learning_curve_matern.png \"learning curve\")"
   ]
  },
  {
   "cell_type": "markdown",
   "metadata": {},
   "source": [
    "## Conclusion\n",
    "\n",
    "We have extended KRR to model a function with vector output. This model achieved a low test loss even with very few training examples."
   ]
  }
 ],
 "metadata": {
  "kernel_info": {
   "name": "python3"
  },
  "kernelspec": {
   "display_name": "Python 3",
   "language": "python",
   "name": "python3"
  },
  "language_info": {
   "codemirror_mode": {
    "name": "ipython",
    "version": 3
   },
   "file_extension": ".py",
   "mimetype": "text/x-python",
   "name": "python",
   "nbconvert_exporter": "python",
   "pygments_lexer": "ipython3",
   "version": "3.7.4"
  },
  "nteract": {
   "version": "0.28.0"
  }
 },
 "nbformat": 4,
 "nbformat_minor": 4
}
