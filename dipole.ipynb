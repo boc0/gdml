{
  "cells": [
    {
      "cell_type": "code",
      "source": [
        "import jax.numpy as np\n",
        "import jax.ops\n",
        "from jax import grad, jit\n",
        "from functools import partial"
      ],
      "outputs": [],
      "execution_count": 1,
      "metadata": {
        "collapsed": true,
        "jupyter": {
          "source_hidden": false,
          "outputs_hidden": false
        },
        "nteract": {
          "transient": {
            "deleting": false
          }
        },
        "execution": {
          "iopub.status.busy": "2020-11-03T20:49:02.752Z",
          "iopub.execute_input": "2020-11-03T20:49:02.771Z",
          "iopub.status.idle": "2020-11-03T20:49:04.444Z",
          "shell.execute_reply": "2020-11-03T20:49:04.452Z"
        }
      }
    },
    {
      "cell_type": "code",
      "source": [
        "data = np.load('data/HOOH.DFT.PBE-TS.light.MD.500K.50k.R_E_F_D_Q.npz')\n",
        "X = np.array(data['R'][:10])\n",
        "y = np.array(data['D'][:10])"
      ],
      "outputs": [
        {
          "output_type": "stream",
          "name": "stderr",
          "text": [
            "WARNING:absl:No GPU/TPU found, falling back to CPU. (Set TF_CPP_MIN_LOG_LEVEL=0 and rerun for more info.)\n"
          ]
        }
      ],
      "execution_count": 2,
      "metadata": {
        "collapsed": true,
        "jupyter": {
          "source_hidden": false,
          "outputs_hidden": false
        },
        "nteract": {
          "transient": {
            "deleting": false
          }
        },
        "execution": {
          "iopub.status.busy": "2020-11-03T20:49:04.539Z",
          "iopub.execute_input": "2020-11-03T20:49:04.545Z",
          "iopub.status.idle": "2020-11-03T20:49:04.559Z",
          "shell.execute_reply": "2020-11-03T20:49:04.582Z"
        }
      }
    },
    {
      "cell_type": "code",
      "source": [
        "def fill_diagonal(a, value):\n",
        "    return jax.ops.index_update(a, np.diag_indices(a.shape[0]), value)\n",
        "\n",
        "def descriptor(x):\n",
        "    distances = np.sum((x[:, None] - x[None, :])**2, axis=-1)\n",
        "    distances = fill_diagonal(distances, 1) # because sqrt fails to compute gradient if called on 0s\n",
        "    distances = np.sqrt(distances)\n",
        "    D = 1 / distances\n",
        "    D = np.tril(D)\n",
        "    D = fill_diagonal(D, 0)\n",
        "    return D.flatten()"
      ],
      "outputs": [],
      "execution_count": 3,
      "metadata": {
        "collapsed": true,
        "jupyter": {
          "source_hidden": false,
          "outputs_hidden": false
        },
        "nteract": {
          "transient": {
            "deleting": false
          }
        },
        "execution": {
          "iopub.status.busy": "2020-11-03T20:49:05.796Z",
          "iopub.execute_input": "2020-11-03T20:49:05.801Z",
          "iopub.status.idle": "2020-11-03T20:49:05.811Z",
          "shell.execute_reply": "2020-11-03T20:49:05.817Z"
        }
      }
    },
    {
      "cell_type": "code",
      "source": [
        "def gaussian(x, x_, sigma=1):\n",
        "    d, d_ = descriptor(x), descriptor(x_)\n",
        "    sq_distance = np.sum((d - d_)**2)\n",
        "    return np.exp(-sq_distance / sigma)\n",
        "    "
      ],
      "outputs": [],
      "execution_count": 4,
      "metadata": {
        "collapsed": true,
        "jupyter": {
          "source_hidden": false,
          "outputs_hidden": false
        },
        "nteract": {
          "transient": {
            "deleting": false
          }
        },
        "execution": {
          "iopub.status.busy": "2020-11-03T20:49:06.501Z",
          "iopub.execute_input": "2020-11-03T20:49:06.508Z",
          "iopub.status.idle": "2020-11-03T20:49:06.517Z",
          "shell.execute_reply": "2020-11-03T20:49:06.522Z"
        }
      }
    },
    {
      "cell_type": "code",
      "source": [
        "from jax import jacfwd, jacrev\n",
        "def hessian(f):\n",
        "    return jacfwd(jacrev(f))"
      ],
      "outputs": [],
      "execution_count": 5,
      "metadata": {
        "collapsed": true,
        "jupyter": {
          "source_hidden": false,
          "outputs_hidden": false
        },
        "nteract": {
          "transient": {
            "deleting": false
          }
        },
        "execution": {
          "iopub.status.busy": "2020-11-03T20:49:07.046Z",
          "iopub.execute_input": "2020-11-03T20:49:07.052Z",
          "iopub.status.idle": "2020-11-03T20:49:07.060Z",
          "shell.execute_reply": "2020-11-03T20:49:07.066Z"
        }
      }
    },
    {
      "cell_type": "code",
      "source": [
        "from jax.config import config\n",
        "config.update(\"jax_debug_nans\", True)"
      ],
      "outputs": [],
      "execution_count": 6,
      "metadata": {
        "collapsed": true,
        "jupyter": {
          "source_hidden": false,
          "outputs_hidden": false
        },
        "nteract": {
          "transient": {
            "deleting": false
          }
        },
        "execution": {
          "iopub.status.busy": "2020-11-03T20:49:07.609Z",
          "iopub.execute_input": "2020-11-03T20:49:07.614Z",
          "iopub.status.idle": "2020-11-03T20:49:07.624Z",
          "shell.execute_reply": "2020-11-03T20:49:07.629Z"
        }
      }
    },
    {
      "cell_type": "code",
      "source": [
        "_gaussian = partial(gaussian, X[0])\n",
        "hess = hessian(_gaussian)\n",
        "hess(X[1]).shape"
      ],
      "outputs": [
        {
          "output_type": "execute_result",
          "execution_count": 7,
          "data": {
            "text/plain": "(4, 3, 4, 3)"
          },
          "metadata": {}
        }
      ],
      "execution_count": 7,
      "metadata": {
        "collapsed": false,
        "jupyter": {
          "source_hidden": false,
          "outputs_hidden": false
        },
        "nteract": {
          "transient": {
            "deleting": false
          }
        },
        "execution": {
          "iopub.status.busy": "2020-11-03T20:49:08.552Z",
          "iopub.execute_input": "2020-11-03T20:49:08.558Z",
          "iopub.status.idle": "2020-11-03T20:49:10.787Z",
          "shell.execute_reply": "2020-11-03T20:49:10.839Z"
        }
      }
    },
    {
      "cell_type": "code",
      "source": [
        "def hess_ij(hess, x):\n",
        "    H = hess(x)\n",
        "    K = np.zeros((3, 3))\n",
        "    for i in range(3):\n",
        "        for j in range(3):\n",
        "            value = np.sum(H[:, i, :, j])\n",
        "            K = jax.ops.index_update(K, jax.ops.index[i, j], value)\n",
        "    return K"
      ],
      "outputs": [],
      "execution_count": 8,
      "metadata": {
        "collapsed": true,
        "jupyter": {
          "source_hidden": false,
          "outputs_hidden": false
        },
        "nteract": {
          "transient": {
            "deleting": false
          }
        },
        "execution": {
          "iopub.status.busy": "2020-11-03T20:49:10.795Z",
          "iopub.execute_input": "2020-11-03T20:49:10.801Z",
          "iopub.status.idle": "2020-11-03T20:49:10.809Z",
          "shell.execute_reply": "2020-11-03T20:49:10.843Z"
        }
      }
    },
    {
      "cell_type": "code",
      "source": [
        "k = hess_ij(hess, X[1])\n",
        "k"
      ],
      "outputs": [
        {
          "output_type": "execute_result",
          "execution_count": 9,
          "data": {
            "text/plain": "DeviceArray([[ 5.9604645e-08,  0.0000000e+00,  0.0000000e+00],\n             [ 2.9802322e-08, -2.9802322e-08,  0.0000000e+00],\n             [-5.9604645e-08, -1.1920929e-07,  2.3841858e-07]],            dtype=float32)"
          },
          "metadata": {}
        }
      ],
      "execution_count": 9,
      "metadata": {
        "collapsed": true,
        "jupyter": {
          "source_hidden": false,
          "outputs_hidden": false
        },
        "nteract": {
          "transient": {
            "deleting": false
          }
        },
        "execution": {
          "iopub.status.busy": "2020-11-03T20:49:10.819Z",
          "iopub.execute_input": "2020-11-03T20:49:10.825Z",
          "iopub.status.idle": "2020-11-03T20:49:10.981Z",
          "shell.execute_reply": "2020-11-03T20:49:10.993Z"
        }
      }
    },
    {
      "cell_type": "code",
      "source": [
        "def kernel(x, x_):\n",
        "    _gaussian = partial(gaussian, x)\n",
        "    hess = hessian(_gaussian)\n",
        "    return hess_ij(hess, x_)"
      ],
      "outputs": [],
      "execution_count": 10,
      "metadata": {
        "collapsed": true,
        "jupyter": {
          "source_hidden": false,
          "outputs_hidden": false
        },
        "nteract": {
          "transient": {
            "deleting": false
          }
        },
        "execution": {
          "iopub.status.busy": "2020-11-03T20:49:14.843Z",
          "iopub.execute_input": "2020-11-03T20:49:14.848Z",
          "iopub.status.idle": "2020-11-03T20:49:14.857Z",
          "shell.execute_reply": "2020-11-03T20:49:14.862Z"
        }
      }
    },
    {
      "cell_type": "code",
      "source": [
        "def kernel_matrix(X):\n",
        "    samples = X.shape[0]\n",
        "    K = np.zeros((samples, samples, 3, 3))\n",
        "    K = list()\n",
        "    for i in range(samples):\n",
        "        K.append(list())\n",
        "        for j in range(samples):\n",
        "            # K = jax.ops.index_update(K, jax.ops.index[i, j], kernel(X[i], X[j]))\n",
        "            K[i].append(kernel(X[i], X[j]))\n",
        "    K = np.block(K)\n",
        "    return K"
      ],
      "outputs": [],
      "execution_count": 15,
      "metadata": {
        "collapsed": true,
        "jupyter": {
          "source_hidden": false,
          "outputs_hidden": false
        },
        "nteract": {
          "transient": {
            "deleting": false
          }
        },
        "execution": {
          "iopub.status.busy": "2020-11-03T20:52:19.564Z",
          "iopub.execute_input": "2020-11-03T20:52:19.569Z",
          "iopub.status.idle": "2020-11-03T20:52:19.579Z",
          "shell.execute_reply": "2020-11-03T20:52:19.584Z"
        }
      }
    },
    {
      "cell_type": "code",
      "source": [
        "K = kernel_matrix(X)"
      ],
      "outputs": [],
      "execution_count": 16,
      "metadata": {
        "collapsed": true,
        "jupyter": {
          "source_hidden": false,
          "outputs_hidden": false
        },
        "nteract": {
          "transient": {
            "deleting": false
          }
        },
        "execution": {
          "iopub.status.busy": "2020-11-03T20:52:20.742Z",
          "iopub.execute_input": "2020-11-03T20:52:20.749Z",
          "iopub.status.idle": "2020-11-03T20:52:32.325Z",
          "shell.execute_reply": "2020-11-03T20:52:32.331Z"
        }
      }
    },
    {
      "cell_type": "code",
      "source": [
        "K"
      ],
      "outputs": [
        {
          "output_type": "execute_result",
          "execution_count": 25,
          "data": {
            "text/plain": "DeviceArray([[ 0.0000000e+00, -2.9802322e-08,  0.0000000e+00,\n               5.9604645e-08,  0.0000000e+00,  0.0000000e+00,\n               5.9604645e-08,  2.9802322e-08,  0.0000000e+00,\n              -1.1920929e-07, -2.9802322e-08, -5.9604645e-08,\n               5.9604645e-08,  2.9802322e-08, -1.1920929e-07,\n               0.0000000e+00, -2.9802322e-08, -5.9604645e-08,\n               5.9604645e-08,  0.0000000e+00,  0.0000000e+00,\n              -1.1920929e-07,  5.9604645e-08,  0.0000000e+00,\n               0.0000000e+00,  5.9604645e-08,  5.9604645e-08,\n              -5.9604645e-08, -5.9604645e-08, -5.9604645e-08],\n             [ 0.0000000e+00,  0.0000000e+00, -5.9604645e-08,\n               2.9802322e-08, -2.9802322e-08,  0.0000000e+00,\n               2.9802322e-08, -2.9802322e-08,  5.9604645e-08,\n               0.0000000e+00,  0.0000000e+00, -1.1920929e-07,\n              -2.9802322e-08, -1.1920929e-07,  1.1920929e-07,\n              -2.9802322e-08, -1.1920929e-07,  5.9604645e-08,\n               2.9802322e-08,  0.0000000e+00, -5.9604645e-08,\n               0.0000000e+00, -5.9604645e-08,  0.0000000e+00,\n              -5.9604645e-08,  1.7881393e-07,  5.9604645e-08,\n               0.0000000e+00,  0.0000000e+00, -1.1920929e-07],\n             [ 0.0000000e+00, -5.9604645e-08,  2.3841858e-07,\n              -5.9604645e-08, -1.1920929e-07,  2.3841858e-07,\n               0.0000000e+00,  1.1920929e-07, -3.5762787e-07,\n              -5.9604645e-08,  5.9604645e-08,  2.3841858e-07,\n               5.9604645e-08,  1.1920929e-07, -1.1920929e-07,\n              -5.9604645e-08,  0.0000000e+00,  0.0000000e+00,\n               5.9604645e-08,  0.0000000e+00,  1.1920929e-07,\n               0.0000000e+00,  1.1920929e-07,  0.0000000e+00,\n               0.0000000e+00,  0.0000000e+00,  0.0000000e+00,\n               5.9604645e-08, -5.9604645e-08,  0.0000000e+00],\n             [ 5.9604645e-08, -2.9802322e-08,  0.0000000e+00,\n               0.0000000e+00,  0.0000000e+00,  0.0000000e+00,\n              -5.9604645e-08, -2.9802322e-08,  0.0000000e+00,\n               0.0000000e+00,  5.9604645e-08,  1.1920929e-07,\n               5.9604645e-08, -2.9802322e-08,  0.0000000e+00,\n              -5.9604645e-08, -2.9802322e-08,  5.9604645e-08,\n              -1.1920929e-07,  2.9802322e-08,  0.0000000e+00,\n               5.9604645e-08,  0.0000000e+00,  0.0000000e+00,\n               5.9604645e-08, -5.9604645e-08,  1.1920929e-07,\n               0.0000000e+00,  0.0000000e+00, -5.9604645e-08],\n             [ 0.0000000e+00, -2.9802322e-08, -5.9604645e-08,\n               0.0000000e+00, -2.9802322e-08,  0.0000000e+00,\n               5.9604645e-08, -2.9802322e-08, -1.7881393e-07,\n               2.9802322e-08, -5.9604645e-08,  5.9604645e-08,\n               0.0000000e+00,  0.0000000e+00,  1.1920929e-07,\n              -2.9802322e-08,  5.9604645e-08, -5.9604645e-08,\n               2.9802322e-08,  0.0000000e+00, -5.9604645e-08,\n               0.0000000e+00, -1.1920929e-07,  5.9604645e-08,\n               0.0000000e+00,  5.9604645e-08,  0.0000000e+00,\n              -5.9604645e-08, -1.1920929e-07,  0.0000000e+00],\n             [-5.9604645e-08,  5.9604645e-08,  1.1920929e-07,\n               0.0000000e+00,  0.0000000e+00, -1.1920929e-07,\n               5.9604645e-08,  5.9604645e-08,  2.3841858e-07,\n               5.9604645e-08, -5.9604645e-08,  0.0000000e+00,\n               5.9604645e-08, -5.9604645e-08,  1.7881393e-07,\n              -5.9604645e-08,  0.0000000e+00, -3.5762787e-07,\n               0.0000000e+00,  0.0000000e+00,  5.9604645e-08,\n               0.0000000e+00,  5.9604645e-08,  5.9604645e-08,\n              -5.9604645e-08,  5.9604645e-08, -2.9802322e-07,\n               0.0000000e+00,  5.9604645e-08, -1.1920929e-07],\n             [ 5.9604645e-08,  0.0000000e+00,  0.0000000e+00,\n              -5.9604645e-08, -2.9802322e-08,  5.9604645e-08,\n               0.0000000e+00, -2.9802322e-08,  0.0000000e+00,\n               0.0000000e+00,  2.9802322e-08,  5.9604645e-08,\n               5.9604645e-08, -2.9802322e-08, -1.1920929e-07,\n               0.0000000e+00, -2.9802322e-08,  5.9604645e-08,\n              -1.1920929e-07, -5.9604645e-08, -5.9604645e-08,\n               0.0000000e+00,  0.0000000e+00, -5.9604645e-08,\n              -8.9406967e-08,  0.0000000e+00,  0.0000000e+00,\n               2.9802322e-08,  0.0000000e+00,  0.0000000e+00],\n             [-2.9802322e-08,  2.9802322e-08,  5.9604645e-08,\n               5.9604645e-08,  0.0000000e+00, -1.1920929e-07,\n               0.0000000e+00,  0.0000000e+00,  0.0000000e+00,\n               0.0000000e+00, -1.1920929e-07,  5.9604645e-08,\n              -5.9604645e-08,  5.9604645e-08, -1.1920929e-07,\n              -2.9802322e-08, -5.9604645e-08, -5.9604645e-08,\n               5.9604645e-08,  0.0000000e+00,  0.0000000e+00,\n               5.9604645e-08,  0.0000000e+00, -5.9604645e-08,\n              -1.1920929e-07, -5.9604645e-08,  0.0000000e+00,\n               0.0000000e+00,  1.1920929e-07,  0.0000000e+00],\n             [ 5.9604645e-08,  0.0000000e+00,  0.0000000e+00,\n               0.0000000e+00, -1.7881393e-07, -1.1920929e-07,\n               0.0000000e+00,  5.9604645e-08,  0.0000000e+00,\n               0.0000000e+00,  1.7881393e-07,  1.1920929e-07,\n              -5.9604645e-08, -1.7881393e-07,  0.0000000e+00,\n               5.9604645e-08,  5.9604645e-08,  5.9604645e-08,\n               0.0000000e+00,  0.0000000e+00, -5.9604645e-08,\n               0.0000000e+00,  5.9604645e-08,  2.3841858e-07,\n               0.0000000e+00,  0.0000000e+00,  3.5762787e-07,\n               0.0000000e+00,  2.3841858e-07, -2.3841858e-07],\n             [-5.9604645e-08,  0.0000000e+00,  0.0000000e+00,\n              -1.1920929e-07,  0.0000000e+00,  0.0000000e+00,\n              -1.1920929e-07,  2.9802322e-08,  5.9604645e-08,\n              -5.9604645e-08,  0.0000000e+00,  0.0000000e+00,\n              -5.9604645e-08,  5.9604645e-08, -5.9604645e-08,\n               5.9604645e-08, -5.9604645e-08,  0.0000000e+00,\n               0.0000000e+00, -1.1920929e-07, -5.9604645e-08,\n               5.9604645e-08,  5.9604645e-08, -5.9604645e-08,\n              -5.9604645e-08,  5.9604645e-08,  0.0000000e+00,\n               8.9406967e-08, -5.9604645e-08, -5.9604645e-08],\n             [ 2.9802322e-08,  0.0000000e+00,  0.0000000e+00,\n               5.9604645e-08,  5.9604645e-08, -1.1920929e-07,\n               2.9802322e-08, -2.9802322e-08,  1.1920929e-07,\n               0.0000000e+00, -5.9604645e-08,  0.0000000e+00,\n              -2.9802322e-08, -5.9604645e-08,  0.0000000e+00,\n              -2.9802322e-08,  5.9604645e-08,  0.0000000e+00,\n               0.0000000e+00,  5.9604645e-08,  5.9604645e-08,\n               0.0000000e+00,  5.9604645e-08, -5.9604645e-08,\n               0.0000000e+00, -5.9604645e-08,  1.1920929e-07,\n               5.9604645e-08, -1.1920929e-07,  1.1920929e-07],\n             [ 5.9604645e-08,  1.7881393e-07, -3.5762787e-07,\n               0.0000000e+00,  5.9604645e-08, -1.1920929e-07,\n              -5.9604645e-08,  5.9604645e-08,  2.3841858e-07,\n               0.0000000e+00,  0.0000000e+00,  0.0000000e+00,\n               5.9604645e-08, -1.1920929e-07,  1.1920929e-07,\n               0.0000000e+00, -5.9604645e-08,  0.0000000e+00,\n              -1.1920929e-07, -5.9604645e-08,  0.0000000e+00,\n              -1.1920929e-07,  0.0000000e+00,  0.0000000e+00,\n              -5.9604645e-08, -1.1920929e-07,  0.0000000e+00,\n               0.0000000e+00, -1.1920929e-07, -1.1920929e-07],\n             [-5.9604645e-08,  2.9802322e-08, -1.1920929e-07,\n               0.0000000e+00,  5.9604645e-08,  5.9604645e-08,\n               5.9604645e-08,  5.9604645e-08,  0.0000000e+00,\n               0.0000000e+00, -2.9802322e-08,  0.0000000e+00,\n               0.0000000e+00,  2.9802322e-08, -1.1920929e-07,\n               0.0000000e+00, -5.9604645e-08,  5.9604645e-08,\n               0.0000000e+00,  1.1920929e-07, -5.9604645e-08,\n               0.0000000e+00,  0.0000000e+00,  5.9604645e-08,\n               5.9604645e-08,  5.9604645e-08,  5.9604645e-08,\n              -2.9802322e-08, -5.9604645e-08, -5.9604645e-08],\n             [-2.9802322e-08, -2.9802322e-08,  1.1920929e-07,\n               0.0000000e+00,  2.9802322e-08,  5.9604645e-08,\n               0.0000000e+00, -2.9802322e-08, -5.9604645e-08,\n               0.0000000e+00, -5.9604645e-08,  5.9604645e-08,\n               0.0000000e+00,  0.0000000e+00,  0.0000000e+00,\n               5.9604645e-08,  0.0000000e+00,  0.0000000e+00,\n              -5.9604645e-08, -5.9604645e-08,  0.0000000e+00,\n               1.1920929e-07,  0.0000000e+00,  0.0000000e+00,\n              -1.1920929e-07, -5.9604645e-08,  0.0000000e+00,\n               0.0000000e+00,  0.0000000e+00,  1.1920929e-07],\n             [-1.1920929e-07, -5.9604645e-08, -3.5762787e-07,\n              -5.9604645e-08, -1.1920929e-07,  0.0000000e+00,\n              -1.7881393e-07,  0.0000000e+00,  1.1920929e-07,\n               0.0000000e+00, -5.9604645e-08,  3.5762787e-07,\n               0.0000000e+00,  0.0000000e+00,  0.0000000e+00,\n               0.0000000e+00,  0.0000000e+00, -2.3841858e-07,\n               1.1920929e-07,  5.9604645e-08,  5.9604645e-08,\n              -5.9604645e-08,  0.0000000e+00,  1.1920929e-07,\n              -1.7881393e-07,  0.0000000e+00,  0.0000000e+00,\n              -5.9604645e-08, -1.1920929e-07,  2.9802322e-07],\n             [ 0.0000000e+00, -2.9802322e-08, -5.9604645e-08,\n              -5.9604645e-08,  5.9604645e-08,  1.1920929e-07,\n               5.9604645e-08,  0.0000000e+00,  5.9604645e-08,\n              -1.1920929e-07,  0.0000000e+00,  0.0000000e+00,\n               1.1920929e-07,  2.9802322e-08, -5.9604645e-08,\n               0.0000000e+00,  0.0000000e+00,  0.0000000e+00,\n               0.0000000e+00,  0.0000000e+00, -1.1920929e-07,\n              -5.9604645e-08,  0.0000000e+00, -5.9604645e-08,\n               2.9802322e-08, -5.9604645e-08, -5.9604645e-08,\n               2.9802322e-08,  1.1920929e-07,  5.9604645e-08],\n             [ 2.9802322e-08,  0.0000000e+00, -1.1920929e-07,\n               0.0000000e+00, -2.9802322e-08,  0.0000000e+00,\n              -5.9604645e-08,  5.9604645e-08,  0.0000000e+00,\n               2.9802322e-08,  0.0000000e+00, -5.9604645e-08,\n               5.9604645e-08,  0.0000000e+00,  5.9604645e-08,\n               0.0000000e+00,  0.0000000e+00,  0.0000000e+00,\n               0.0000000e+00,  5.9604645e-08,  5.9604645e-08,\n               0.0000000e+00,  0.0000000e+00,  1.1920929e-07,\n               0.0000000e+00,  0.0000000e+00,  1.1920929e-07,\n              -1.1920929e-07,  0.0000000e+00,  0.0000000e+00],\n             [-5.9604645e-08,  1.7881393e-07,  0.0000000e+00,\n              -5.9604645e-08, -5.9604645e-08,  0.0000000e+00,\n               0.0000000e+00, -2.3841858e-07,  3.5762787e-07,\n               1.1920929e-07, -5.9604645e-08, -4.7683716e-07,\n               0.0000000e+00,  0.0000000e+00,  2.3841858e-07,\n              -5.9604645e-08,  0.0000000e+00,  0.0000000e+00,\n              -5.9604645e-08, -1.1920929e-07, -1.1920929e-07,\n              -5.9604645e-08, -5.9604645e-08,  0.0000000e+00,\n              -5.9604645e-08, -2.3841858e-07, -1.1920929e-07,\n               0.0000000e+00, -1.1920929e-07,  1.1920929e-07],\n             [ 0.0000000e+00,  0.0000000e+00,  5.9604645e-08,\n              -5.9604645e-08, -2.9802322e-08,  5.9604645e-08,\n               5.9604645e-08,  2.9802322e-08,  0.0000000e+00,\n              -5.9604645e-08, -2.9802322e-08, -5.9604645e-08,\n              -5.9604645e-08,  0.0000000e+00,  5.9604645e-08,\n              -5.9604645e-08,  2.9802322e-08, -5.9604645e-08,\n              -5.9604645e-08,  5.9604645e-08,  0.0000000e+00,\n               5.9604645e-08,  5.9604645e-08,  1.1920929e-07,\n              -5.9604645e-08,  1.1920929e-07,  5.9604645e-08,\n               0.0000000e+00, -5.9604645e-08, -1.7881393e-07],\n             [-2.9802322e-08, -2.9802322e-08,  1.1920929e-07,\n              -8.9406967e-08,  2.9802322e-08, -5.9604645e-08,\n               2.9802322e-08,  5.9604645e-08, -1.1920929e-07,\n              -2.9802322e-08,  0.0000000e+00, -2.3841858e-07,\n              -2.9802322e-08,  0.0000000e+00,  0.0000000e+00,\n               2.9802322e-08, -5.9604645e-08,  5.9604645e-08,\n               5.9604645e-08,  0.0000000e+00,  0.0000000e+00,\n               5.9604645e-08,  5.9604645e-08,  0.0000000e+00,\n               0.0000000e+00,  5.9604645e-08,  0.0000000e+00,\n              -5.9604645e-08,  0.0000000e+00, -1.1920929e-07],\n             [ 5.9604645e-08,  0.0000000e+00, -1.1920929e-07,\n              -1.1920929e-07,  1.1920929e-07,  0.0000000e+00,\n               0.0000000e+00, -1.1920929e-07,  2.3841858e-07,\n               0.0000000e+00, -1.1920929e-07,  0.0000000e+00,\n               0.0000000e+00,  0.0000000e+00,  1.1920929e-07,\n              -5.9604645e-08, -5.9604645e-08,  0.0000000e+00,\n               0.0000000e+00,  0.0000000e+00,  5.9604645e-08,\n               0.0000000e+00,  5.9604645e-08,  2.3841858e-07,\n               1.1920929e-07,  1.1920929e-07, -3.5762787e-07,\n               0.0000000e+00, -1.1920929e-07, -1.1920929e-07],\n             [ 5.9604645e-08,  2.9802322e-08, -5.9604645e-08,\n               1.1920929e-07, -2.9802322e-08,  5.9604645e-08,\n               5.9604645e-08, -2.9802322e-08,  0.0000000e+00,\n              -5.9604645e-08,  2.9802322e-08,  1.1920929e-07,\n               0.0000000e+00, -2.9802322e-08,  0.0000000e+00,\n              -1.1920929e-07,  2.9802322e-08, -5.9604645e-08,\n              -5.9604645e-08,  0.0000000e+00,  5.9604645e-08,\n              -5.9604645e-08,  0.0000000e+00, -5.9604645e-08,\n               0.0000000e+00,  0.0000000e+00,  0.0000000e+00,\n               5.9604645e-08, -5.9604645e-08, -5.9604645e-08],\n             [ 2.9802322e-08,  2.9802322e-08,  0.0000000e+00,\n              -2.9802322e-08, -2.9802322e-08,  5.9604645e-08,\n               0.0000000e+00,  0.0000000e+00,  1.7881393e-07,\n               2.9802322e-08,  2.9802322e-08,  1.1920929e-07,\n              -2.9802322e-08,  5.9604645e-08, -5.9604645e-08,\n               2.9802322e-08,  1.7881393e-07,  5.9604645e-08,\n               0.0000000e+00,  0.0000000e+00,  0.0000000e+00,\n               0.0000000e+00,  0.0000000e+00,  0.0000000e+00,\n               0.0000000e+00,  0.0000000e+00,  0.0000000e+00,\n               0.0000000e+00,  0.0000000e+00,  2.3841858e-07],\n             [ 5.9604645e-08,  5.9604645e-08,  1.1920929e-07,\n              -5.9604645e-08, -5.9604645e-08, -2.3841858e-07,\n              -5.9604645e-08,  5.9604645e-08, -1.1920929e-07,\n               5.9604645e-08,  5.9604645e-08, -4.7683716e-07,\n               1.1920929e-07,  1.1920929e-07,  2.3841858e-07,\n               5.9604645e-08,  0.0000000e+00, -5.9604645e-08,\n               0.0000000e+00,  5.9604645e-08,  5.9604645e-08,\n              -5.9604645e-08,  0.0000000e+00,  5.9604645e-08,\n              -5.9604645e-08,  0.0000000e+00,  1.7881393e-07,\n              -5.9604645e-08,  0.0000000e+00,  5.9604645e-08],\n             [-1.1920929e-07, -2.9802322e-08, -5.9604645e-08,\n               0.0000000e+00,  5.9604645e-08,  5.9604645e-08,\n              -2.3841858e-07, -5.9604645e-08, -5.9604645e-08,\n               1.1920929e-07,  0.0000000e+00, -5.9604645e-08,\n               0.0000000e+00, -2.9802322e-08, -5.9604645e-08,\n              -5.9604645e-08,  2.9802322e-08, -5.9604645e-08,\n              -5.9604645e-08,  0.0000000e+00, -5.9604645e-08,\n              -5.9604645e-08,  0.0000000e+00, -5.9604645e-08,\n              -5.9604645e-08,  0.0000000e+00, -5.9604645e-08,\n               0.0000000e+00,  1.1920929e-07, -1.7881393e-07],\n             [ 5.9604645e-08,  0.0000000e+00, -5.9604645e-08,\n               0.0000000e+00,  2.9802322e-08, -1.1920929e-07,\n              -2.9802322e-08,  0.0000000e+00,  1.1920929e-07,\n               2.9802322e-08,  0.0000000e+00, -1.1920929e-07,\n               0.0000000e+00,  0.0000000e+00, -5.9604645e-08,\n              -2.9802322e-08, -5.9604645e-08, -1.1920929e-07,\n               0.0000000e+00,  1.1920929e-07,  5.9604645e-08,\n               5.9604645e-08,  1.1920929e-07,  5.9604645e-08,\n               0.0000000e+00,  0.0000000e+00,  0.0000000e+00,\n               5.9604645e-08,  1.1920929e-07, -1.1920929e-07],\n             [-5.9604645e-08,  5.9604645e-08,  0.0000000e+00,\n               1.1920929e-07,  2.3841858e-07,  1.1920929e-07,\n              -5.9604645e-08,  5.9604645e-08,  5.9604645e-07,\n               0.0000000e+00, -1.1920929e-07, -2.3841858e-07,\n               1.1920929e-07,  0.0000000e+00, -2.3841858e-07,\n               5.9604645e-08,  0.0000000e+00,  5.9604645e-08,\n               0.0000000e+00,  5.9604645e-08,  1.1920929e-07,\n               5.9604645e-08, -1.1920929e-07, -3.5762787e-07,\n              -5.9604645e-08,  0.0000000e+00,  5.9604645e-08,\n              -5.9604645e-08, -1.1920929e-07,  0.0000000e+00],\n             [-5.9604645e-08,  0.0000000e+00, -5.9604645e-08,\n               1.7881393e-07, -2.9802322e-08,  1.1920929e-07,\n               5.9604645e-08, -2.9802322e-08, -5.9604645e-08,\n               5.9604645e-08,  5.9604645e-08, -1.1920929e-07,\n               1.1920929e-07, -2.9802322e-08, -5.9604645e-08,\n              -5.9604645e-08,  0.0000000e+00,  0.0000000e+00,\n               5.9604645e-08,  0.0000000e+00,  0.0000000e+00,\n               0.0000000e+00,  5.9604645e-08, -5.9604645e-08,\n               0.0000000e+00,  5.9604645e-08, -5.9604645e-08,\n               0.0000000e+00,  0.0000000e+00,  0.0000000e+00],\n             [ 2.9802322e-08,  0.0000000e+00, -1.1920929e-07,\n              -5.9604645e-08,  2.9802322e-08, -5.9604645e-08,\n               5.9604645e-08, -2.9802322e-08,  5.9604645e-08,\n               0.0000000e+00,  0.0000000e+00, -1.1920929e-07,\n               2.9802322e-08,  0.0000000e+00,  0.0000000e+00,\n              -5.9604645e-08,  0.0000000e+00,  0.0000000e+00,\n              -2.9802322e-08,  5.9604645e-08, -5.9604645e-08,\n               0.0000000e+00,  0.0000000e+00,  1.1920929e-07,\n               0.0000000e+00,  5.9604645e-08, -1.1920929e-07,\n               0.0000000e+00,  0.0000000e+00,  1.1920929e-07],\n             [ 5.9604645e-08, -1.7881393e-07,  2.3841858e-07,\n               5.9604645e-08,  5.9604645e-08, -1.1920929e-07,\n               5.9604645e-08,  0.0000000e+00,  2.3841858e-07,\n              -1.1920929e-07,  0.0000000e+00, -1.1920929e-07,\n              -5.9604645e-08,  0.0000000e+00,  1.1920929e-07,\n              -5.9604645e-08, -5.9604645e-08,  2.9802322e-07,\n               5.9604645e-08, -5.9604645e-08,  0.0000000e+00,\n               0.0000000e+00,  0.0000000e+00,  0.0000000e+00,\n              -5.9604645e-08, -5.9604645e-08, -1.7881393e-07,\n               0.0000000e+00,  1.1920929e-07, -5.9604645e-08]],            dtype=float32)"
          },
          "metadata": {}
        }
      ],
      "execution_count": 25,
      "metadata": {
        "collapsed": true,
        "jupyter": {
          "source_hidden": false,
          "outputs_hidden": false
        },
        "nteract": {
          "transient": {
            "deleting": false
          }
        },
        "execution": {
          "iopub.status.busy": "2020-11-03T20:56:52.017Z",
          "iopub.execute_input": "2020-11-03T20:56:52.027Z",
          "iopub.status.idle": "2020-11-03T20:56:52.050Z",
          "shell.execute_reply": "2020-11-03T20:56:52.078Z"
        }
      }
    },
    {
      "cell_type": "code",
      "source": [
        "%timeit kernel_matrix(X)"
      ],
      "outputs": [
        {
          "output_type": "stream",
          "name": "stdout",
          "text": [
            "12.2 s ± 863 ms per loop (mean ± std. dev. of 7 runs, 1 loop each)\n"
          ]
        }
      ],
      "execution_count": 19,
      "metadata": {
        "collapsed": true,
        "jupyter": {
          "source_hidden": false,
          "outputs_hidden": false
        },
        "nteract": {
          "transient": {
            "deleting": false
          }
        },
        "execution": {
          "iopub.status.busy": "2020-11-03T20:53:10.026Z",
          "iopub.execute_input": "2020-11-03T20:53:10.034Z",
          "iopub.status.idle": "2020-11-03T20:54:45.632Z",
          "shell.execute_reply": "2020-11-03T20:54:45.659Z"
        }
      }
    },
    {
      "cell_type": "code",
      "source": [
        "%matplotlib inline\n",
        "import matplotlib.pyplot as plt\n",
        "import seaborn as sns"
      ],
      "outputs": [],
      "execution_count": 20,
      "metadata": {
        "collapsed": true,
        "jupyter": {
          "source_hidden": false,
          "outputs_hidden": false
        },
        "nteract": {
          "transient": {
            "deleting": false
          }
        },
        "execution": {
          "iopub.status.busy": "2020-11-03T20:54:45.643Z",
          "iopub.execute_input": "2020-11-03T20:54:45.650Z",
          "shell.execute_reply": "2020-11-03T20:54:46.757Z",
          "iopub.status.idle": "2020-11-03T20:54:46.765Z"
        }
      }
    },
    {
      "cell_type": "code",
      "source": [
        "ax = sns.heatmap(K, center=0, xticklabels=False, yticklabels=False)\n",
        "plt.show()"
      ],
      "outputs": [
        {
          "output_type": "display_data",
          "data": {
            "text/plain": "<Figure size 432x288 with 2 Axes>",
            "image/png": "[encoded data removed]"
          },
          "metadata": {
            "needs_background": "light"
          }
        }
      ],
      "execution_count": 24,
      "metadata": {
        "collapsed": true,
        "jupyter": {
          "source_hidden": false,
          "outputs_hidden": false
        },
        "nteract": {
          "transient": {
            "deleting": false
          }
        },
        "execution": {
          "iopub.status.busy": "2020-11-03T20:56:32.555Z",
          "iopub.execute_input": "2020-11-03T20:56:32.563Z",
          "iopub.status.idle": "2020-11-03T20:56:32.717Z",
          "shell.execute_reply": "2020-11-03T20:56:32.730Z"
        }
      }
    },
    {
      "cell_type": "code",
      "source": [
        "K = fill_diagonal(K, K.diagonal() + 1e-15)\n",
        "samples = X.shape[0]\n",
        "y = y.reshape(samples * 3)\n",
        "alphas = np.linalg.solve(K, y)\n",
        "alphas = alphas.reshape(10, 3)"
      ],
      "outputs": [],
      "execution_count": 31,
      "metadata": {
        "collapsed": true,
        "jupyter": {
          "source_hidden": false,
          "outputs_hidden": false
        },
        "nteract": {
          "transient": {
            "deleting": false
          }
        },
        "execution": {
          "iopub.status.busy": "2020-11-03T21:03:01.462Z",
          "iopub.execute_input": "2020-11-03T21:03:01.469Z",
          "iopub.status.idle": "2020-11-03T21:03:01.695Z",
          "shell.execute_reply": "2020-11-03T21:03:01.701Z"
        }
      }
    },
    {
      "cell_type": "code",
      "source": [
        "def predict(x):\n",
        "    mu = np.zeros(3)\n",
        "    for i in range(samples):\n",
        "        mu += kernel(x, X[i]) @ alphas[i]\n",
        "    return mu"
      ],
      "outputs": [],
      "execution_count": 35,
      "metadata": {
        "collapsed": true,
        "jupyter": {
          "source_hidden": false,
          "outputs_hidden": false
        },
        "nteract": {
          "transient": {
            "deleting": false
          }
        },
        "execution": {
          "iopub.status.busy": "2020-11-03T21:07:06.290Z",
          "iopub.execute_input": "2020-11-03T21:07:06.298Z",
          "iopub.status.idle": "2020-11-03T21:07:06.311Z",
          "shell.execute_reply": "2020-11-03T21:07:06.320Z"
        }
      }
    },
    {
      "cell_type": "code",
      "source": [
        "y = y.reshape(10, 3)\n",
        "print(predict(X[9]))\n",
        "print(y[9])"
      ],
      "outputs": [
        {
          "output_type": "stream",
          "name": "stdout",
          "text": [
            "[ 0.04606414 -0.28939542 -0.55828357]\n",
            "[ 0.04606372 -0.28939605 -0.5582838 ]\n"
          ]
        }
      ],
      "execution_count": 48,
      "metadata": {
        "collapsed": true,
        "jupyter": {
          "source_hidden": false,
          "outputs_hidden": false
        },
        "nteract": {
          "transient": {
            "deleting": false
          }
        },
        "execution": {
          "iopub.status.busy": "2020-11-04T09:09:47.011Z",
          "iopub.execute_input": "2020-11-04T09:09:47.056Z",
          "iopub.status.idle": "2020-11-04T09:09:48.666Z",
          "shell.execute_reply": "2020-11-04T09:09:48.682Z"
        }
      }
    },
    {
      "cell_type": "code",
      "source": [
        "\n",
        "\n",
        "\n",
        "\n",
        "\n",
        "\n",
        "\n",
        "\n",
        "\n",
        "\n",
        "\n",
        "\n",
        "\n",
        "\n",
        "\n",
        "\n",
        "\n",
        "\n",
        "\n",
        "\n",
        "\n"
      ],
      "outputs": [],
      "execution_count": null,
      "metadata": {
        "collapsed": true,
        "jupyter": {
          "source_hidden": false,
          "outputs_hidden": false
        },
        "nteract": {
          "transient": {
            "deleting": false
          }
        },
        "execution": {
          "iopub.status.busy": "2020-11-03T21:03:04.527Z",
          "iopub.execute_input": "2020-11-03T21:03:04.534Z",
          "iopub.status.idle": "2020-11-03T21:03:04.549Z",
          "shell.execute_reply": "2020-11-03T21:03:04.555Z"
        }
      }
    },
    {
      "cell_type": "code",
      "source": [],
      "outputs": [],
      "execution_count": null,
      "metadata": {
        "collapsed": true,
        "jupyter": {
          "source_hidden": false,
          "outputs_hidden": false
        },
        "nteract": {
          "transient": {
            "deleting": false
          }
        }
      }
    }
  ],
  "metadata": {
    "kernel_info": {
      "name": "python3"
    },
    "language_info": {
      "name": "python",
      "version": "3.8.5",
      "mimetype": "text/x-python",
      "codemirror_mode": {
        "name": "ipython",
        "version": 3
      },
      "pygments_lexer": "ipython3",
      "nbconvert_exporter": "python",
      "file_extension": ".py"
    },
    "kernelspec": {
      "argv": [
        "/usr/local/bin/python3",
        "-m",
        "ipykernel_launcher",
        "-f",
        "{connection_file}"
      ],
      "display_name": "Python 3",
      "language": "python",
      "name": "python3"
    },
    "nteract": {
      "version": "0.26.0"
    }
  },
  "nbformat": 4,
  "nbformat_minor": 0
}