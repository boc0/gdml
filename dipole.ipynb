{
  "cells": [
    {
      "cell_type": "markdown",
      "source": [
        "# Vector-valued Kernel Ridge Regression\n",
        "\n",
        "Using the same dataset of molecular geometries, we will predict the dipole moment $\\mu$. "
      ],
      "metadata": {
        "nteract": {
          "transient": {
            "deleting": false
          }
        }
      }
    },
    {
      "cell_type": "code",
      "source": [
        "from functools import partial\n",
        "import jax.numpy as np\n",
        "from jax import grad, jit, vmap"
      ],
      "outputs": [],
      "execution_count": 1,
      "metadata": {
        "execution": {
          "iopub.execute_input": "2020-11-13T09:48:41.748Z",
          "iopub.status.busy": "2020-11-13T09:48:41.742Z",
          "iopub.status.idle": "2020-11-13T09:48:43.291Z",
          "shell.execute_reply": "2020-11-13T09:48:43.297Z"
        },
        "jupyter": {
          "outputs_hidden": false,
          "source_hidden": false
        },
        "nteract": {
          "transient": {
            "deleting": false
          }
        }
      }
    },
    {
      "cell_type": "code",
      "source": [
        "data = np.load('data/HOOH.DFT.PBE-TS.light.MD.500K.50k.R_E_F_D_Q.npz')\n",
        "X = np.array(data['R'])\n",
        "y = np.array(data['D'])\n",
        "X.shape, y.shape"
      ],
      "outputs": [
        {
          "output_type": "stream",
          "name": "stderr",
          "text": [
            "WARNING:absl:No GPU/TPU found, falling back to CPU. (Set TF_CPP_MIN_LOG_LEVEL=0 and rerun for more info.)\n"
          ]
        },
        {
          "output_type": "execute_result",
          "execution_count": 2,
          "data": {
            "text/plain": "((50000, 4, 3), (50000, 3))"
          },
          "metadata": {}
        }
      ],
      "execution_count": 2,
      "metadata": {
        "execution": {
          "iopub.execute_input": "2020-11-13T09:48:43.313Z",
          "iopub.status.busy": "2020-11-13T09:48:43.306Z",
          "iopub.status.idle": "2020-11-13T09:48:43.385Z",
          "shell.execute_reply": "2020-11-13T09:48:43.408Z"
        },
        "jupyter": {
          "outputs_hidden": false,
          "source_hidden": false
        },
        "nteract": {
          "transient": {
            "deleting": false
          }
        }
      }
    },
    {
      "cell_type": "markdown",
      "source": [
        "First, let's visualise some of our training data. We will encode it using the same Coulomb matrix-like descriptor as for the scalar valued case."
      ],
      "metadata": {}
    },
    {
      "cell_type": "code",
      "source": [
        "from utils import heatmap_animation, descriptor\n",
        "%matplotlib inline\n",
        "\n",
        "heatmap_animation(lambda i: X[i], name='coordinates', vmin=-3.5, vmax=1)\n",
        "heatmap_animation(lambda i: descriptor(X[i]).reshape(4, 4), name='descriptors', center=0, vmax=1.0)"
      ],
      "outputs": [
        {
          "output_type": "stream",
          "name": "stderr",
          "text": [
            "WARNING:matplotlib.animation:MovieWriter ffmpeg unavailable; using Pillow instead.\n",
            "WARNING:matplotlib.animation:MovieWriter ffmpeg unavailable; using Pillow instead.\n"
          ]
        },
        {
          "output_type": "display_data",
          "data": {
            "text/plain": "<Figure size 432x288 with 2 Axes>",
            "image/png": "[encoded data removed]"
          },
          "metadata": {
            "needs_background": "light"
          }
        },
        {
          "output_type": "display_data",
          "data": {
            "text/plain": "<Figure size 432x288 with 2 Axes>",
            "image/png": "[encoded data removed]"
          },
          "metadata": {
            "needs_background": "light"
          }
        }
      ],
      "execution_count": 3,
      "metadata": {
        "collapsed": true,
        "execution": {
          "iopub.execute_input": "2020-11-13T09:48:43.400Z",
          "iopub.status.busy": "2020-11-13T09:48:43.394Z",
          "iopub.status.idle": "2020-11-13T09:48:52.058Z",
          "shell.execute_reply": "2020-11-13T09:48:52.131Z"
        },
        "jupyter": {
          "outputs_hidden": false,
          "source_hidden": false
        },
        "nteract": {
          "transient": {
            "deleting": false
          }
        }
      }
    },
    {
      "cell_type": "markdown",
      "source": [
        "The following are the coordinates\n",
        "![SegmentLocal](images/coordinates.gif \"coordinates\")\n",
        "and descriptors\n",
        "![SegmentLocal](images/descriptors.gif \"descriptors\")\n",
        "for the first few training samples."
      ],
      "metadata": {
        "nteract": {
          "transient": {
            "deleting": false
          }
        }
      }
    },
    {
      "cell_type": "markdown",
      "source": [
        "The dipole moment is a three-dimensional quantity. To learn this vector-valued function, we will need to adjust our KRR model.\n",
        "\n",
        "### Model\n",
        "our predictor is given by \n",
        "\n",
        "$$ \\begin{equation} \\vec{\\mu} (\\textbf{x}) = \\sum_{l=1}^{M} \\kappa_{rHess}^{(3\\times 3)}(\\textbf{x},\\textbf{x}_l) \\vec{\\alpha}_l \\end{equation} $$\n",
        "\n",
        "where $\\kappa_{rHess}^{(3\\times 3)}(\\textbf{x},\\textbf{x}_l)$ is now not a scalar, but a 3x3 matrix given by\n",
        "\n",
        "$$ \\begin{equation} \\kappa_{rHess}^{(3\\times 3)}(\\textbf{x},\\textbf{x}_l) =\\sum_{i,j=1}^{N} \\text{Hess}_{ij}[\\kappa(\\textbf{x},\\textbf{x}_l)] \\end{equation} $$\n",
        "\n",
        "with\n",
        "\n",
        "$$\n",
        "\\begin{equation}\n",
        "(\\text{Hess}_{ij}[\\kappa(\\textbf{x},\\textbf{x}_l)])_{km} = \\frac{\\partial^2 \\kappa(\\textbf{x},\\textbf{x}_l)}{\\partial (\\textbf{x}_l)_{ik} \\partial (\\textbf{x}_l)_{jm}}\n",
        "\\end{equation}\n",
        "$$\n",
        "\n",
        "The Hessian of the similarity measure at $\\textbf{x}$ is composed of the second derivatives of each pair of input elements, $(Hess)_{ikjm} = \\frac{\\partial^2 \\kappa(\\textbf{x},\\textbf{x}_l)}{\\partial (\\textbf{x}_l)_{ik} \\partial (\\textbf{x}_l)_{jm}}$. In this case our data has two dimensions, so the Hessian has four. We will compute the derivatives using the Jax library."
      ],
      "metadata": {
        "nteract": {
          "transient": {
            "deleting": false
          }
        }
      }
    },
    {
      "cell_type": "code",
      "source": [
        "from jax import jacfwd, jacrev\n",
        "def hessian(f):\n",
        "    return jacfwd(jacrev(f))"
      ],
      "outputs": [],
      "execution_count": 4,
      "metadata": {
        "execution": {
          "iopub.execute_input": "2020-11-13T09:48:52.077Z",
          "iopub.status.busy": "2020-11-13T09:48:52.069Z",
          "iopub.status.idle": "2020-11-13T09:48:52.091Z",
          "shell.execute_reply": "2020-11-13T09:48:52.135Z"
        },
        "jupyter": {
          "outputs_hidden": false,
          "source_hidden": false
        },
        "nteract": {
          "transient": {
            "deleting": false
          }
        }
      }
    },
    {
      "cell_type": "code",
      "source": [
        "from utils import gaussian, fill_diagonal\n",
        "\n",
        "_gaussian = partial(gaussian, X[0])\n",
        "_hess = hessian(_gaussian)\n",
        "print(_hess(X[1]).shape)\n",
        "\n",
        "heatmap_animation(lambda i: _hess(X[i]).reshape(12, 12), name='hessians', center=0, vmax=2, vmin=-2)"
      ],
      "outputs": [
        {
          "output_type": "stream",
          "name": "stderr",
          "text": [
            "WARNING:matplotlib.animation:MovieWriter ffmpeg unavailable; using Pillow instead.\n"
          ]
        },
        {
          "output_type": "stream",
          "name": "stdout",
          "text": [
            "(4, 3, 4, 3)\n"
          ]
        },
        {
          "output_type": "error",
          "ename": "PermissionError",
          "evalue": "[Errno 13] Permission denied: 'images/hessians.gif'",
          "traceback": [
            "\u001b[0;31m---------------------------------------------------------------------------\u001b[0m",
            "\u001b[0;31mPermissionError\u001b[0m                           Traceback (most recent call last)",
            "\u001b[0;32m<ipython-input-5-8331ddc9e464>\u001b[0m in \u001b[0;36m<module>\u001b[0;34m\u001b[0m\n\u001b[1;32m      5\u001b[0m \u001b[0mprint\u001b[0m\u001b[0;34m(\u001b[0m\u001b[0m_hess\u001b[0m\u001b[0;34m(\u001b[0m\u001b[0mX\u001b[0m\u001b[0;34m[\u001b[0m\u001b[0;36m1\u001b[0m\u001b[0;34m]\u001b[0m\u001b[0;34m)\u001b[0m\u001b[0;34m.\u001b[0m\u001b[0mshape\u001b[0m\u001b[0;34m)\u001b[0m\u001b[0;34m\u001b[0m\u001b[0;34m\u001b[0m\u001b[0m\n\u001b[1;32m      6\u001b[0m \u001b[0;34m\u001b[0m\u001b[0m\n\u001b[0;32m----> 7\u001b[0;31m \u001b[0mheatmap_animation\u001b[0m\u001b[0;34m(\u001b[0m\u001b[0;32mlambda\u001b[0m \u001b[0mi\u001b[0m\u001b[0;34m:\u001b[0m \u001b[0m_hess\u001b[0m\u001b[0;34m(\u001b[0m\u001b[0mX\u001b[0m\u001b[0;34m[\u001b[0m\u001b[0mi\u001b[0m\u001b[0;34m]\u001b[0m\u001b[0;34m)\u001b[0m\u001b[0;34m.\u001b[0m\u001b[0mreshape\u001b[0m\u001b[0;34m(\u001b[0m\u001b[0;36m12\u001b[0m\u001b[0;34m,\u001b[0m \u001b[0;36m12\u001b[0m\u001b[0;34m)\u001b[0m\u001b[0;34m,\u001b[0m \u001b[0mname\u001b[0m\u001b[0;34m=\u001b[0m\u001b[0;34m'hessians'\u001b[0m\u001b[0;34m,\u001b[0m \u001b[0mcenter\u001b[0m\u001b[0;34m=\u001b[0m\u001b[0;36m0\u001b[0m\u001b[0;34m,\u001b[0m \u001b[0mvmax\u001b[0m\u001b[0;34m=\u001b[0m\u001b[0;36m2\u001b[0m\u001b[0;34m,\u001b[0m \u001b[0mvmin\u001b[0m\u001b[0;34m=\u001b[0m\u001b[0;34m-\u001b[0m\u001b[0;36m2\u001b[0m\u001b[0;34m)\u001b[0m\u001b[0;34m\u001b[0m\u001b[0;34m\u001b[0m\u001b[0m\n\u001b[0m",
            "\u001b[0;32m~/Code/gdml/utils.py\u001b[0m in \u001b[0;36mheatmap_animation\u001b[0;34m(generator, name, **heatmap_kwargs)\u001b[0m\n\u001b[1;32m     18\u001b[0m \u001b[0;34m\u001b[0m\u001b[0m\n\u001b[1;32m     19\u001b[0m     \u001b[0manim\u001b[0m \u001b[0;34m=\u001b[0m \u001b[0manimation\u001b[0m\u001b[0;34m.\u001b[0m\u001b[0mFuncAnimation\u001b[0m\u001b[0;34m(\u001b[0m\u001b[0mplt\u001b[0m\u001b[0;34m.\u001b[0m\u001b[0mfigure\u001b[0m\u001b[0;34m(\u001b[0m\u001b[0;34m)\u001b[0m\u001b[0;34m,\u001b[0m \u001b[0manimate\u001b[0m\u001b[0;34m,\u001b[0m \u001b[0mframes\u001b[0m\u001b[0;34m=\u001b[0m\u001b[0;36m20\u001b[0m\u001b[0;34m,\u001b[0m \u001b[0mrepeat\u001b[0m\u001b[0;34m=\u001b[0m\u001b[0;32mFalse\u001b[0m\u001b[0;34m)\u001b[0m\u001b[0;34m\u001b[0m\u001b[0;34m\u001b[0m\u001b[0m\n\u001b[0;32m---> 20\u001b[0;31m     \u001b[0manim\u001b[0m\u001b[0;34m.\u001b[0m\u001b[0msave\u001b[0m\u001b[0;34m(\u001b[0m\u001b[0;34mf'images/{name}.gif'\u001b[0m\u001b[0;34m)\u001b[0m\u001b[0;34m\u001b[0m\u001b[0;34m\u001b[0m\u001b[0m\n\u001b[0m\u001b[1;32m     21\u001b[0m \u001b[0;34m\u001b[0m\u001b[0m\n\u001b[1;32m     22\u001b[0m \u001b[0;34m\u001b[0m\u001b[0m\n",
            "\u001b[0;32m/usr/local/Cellar/python@3.8/3.8.5/Frameworks/Python.framework/Versions/3.8/lib/python3.8/site-packages/matplotlib/animation.py\u001b[0m in \u001b[0;36msave\u001b[0;34m(self, filename, writer, fps, dpi, codec, bitrate, extra_args, metadata, extra_anim, savefig_kwargs, progress_callback)\u001b[0m\n\u001b[1;32m   1143\u001b[0m                         \u001b[0mprogress_callback\u001b[0m\u001b[0;34m(\u001b[0m\u001b[0mframe_number\u001b[0m\u001b[0;34m,\u001b[0m \u001b[0mtotal_frames\u001b[0m\u001b[0;34m)\u001b[0m\u001b[0;34m\u001b[0m\u001b[0;34m\u001b[0m\u001b[0m\n\u001b[1;32m   1144\u001b[0m                         \u001b[0mframe_number\u001b[0m \u001b[0;34m+=\u001b[0m \u001b[0;36m1\u001b[0m\u001b[0;34m\u001b[0m\u001b[0;34m\u001b[0m\u001b[0m\n\u001b[0;32m-> 1145\u001b[0;31m                 \u001b[0mwriter\u001b[0m\u001b[0;34m.\u001b[0m\u001b[0mgrab_frame\u001b[0m\u001b[0;34m(\u001b[0m\u001b[0;34m**\u001b[0m\u001b[0msavefig_kwargs\u001b[0m\u001b[0;34m)\u001b[0m\u001b[0;34m\u001b[0m\u001b[0;34m\u001b[0m\u001b[0m\n\u001b[0m\u001b[1;32m   1146\u001b[0m \u001b[0;34m\u001b[0m\u001b[0m\n\u001b[1;32m   1147\u001b[0m     \u001b[0;32mdef\u001b[0m \u001b[0m_step\u001b[0m\u001b[0;34m(\u001b[0m\u001b[0mself\u001b[0m\u001b[0;34m,\u001b[0m \u001b[0;34m*\u001b[0m\u001b[0margs\u001b[0m\u001b[0;34m)\u001b[0m\u001b[0;34m:\u001b[0m\u001b[0;34m\u001b[0m\u001b[0;34m\u001b[0m\u001b[0m\n",
            "\u001b[0;32m/usr/local/Cellar/python@3.8/3.8.5/Frameworks/Python.framework/Versions/3.8/lib/python3.8/contextlib.py\u001b[0m in \u001b[0;36m__exit__\u001b[0;34m(self, type, value, traceback)\u001b[0m\n\u001b[1;32m    118\u001b[0m         \u001b[0;32mif\u001b[0m \u001b[0mtype\u001b[0m \u001b[0;32mis\u001b[0m \u001b[0;32mNone\u001b[0m\u001b[0;34m:\u001b[0m\u001b[0;34m\u001b[0m\u001b[0;34m\u001b[0m\u001b[0m\n\u001b[1;32m    119\u001b[0m             \u001b[0;32mtry\u001b[0m\u001b[0;34m:\u001b[0m\u001b[0;34m\u001b[0m\u001b[0;34m\u001b[0m\u001b[0m\n\u001b[0;32m--> 120\u001b[0;31m                 \u001b[0mnext\u001b[0m\u001b[0;34m(\u001b[0m\u001b[0mself\u001b[0m\u001b[0;34m.\u001b[0m\u001b[0mgen\u001b[0m\u001b[0;34m)\u001b[0m\u001b[0;34m\u001b[0m\u001b[0;34m\u001b[0m\u001b[0m\n\u001b[0m\u001b[1;32m    121\u001b[0m             \u001b[0;32mexcept\u001b[0m \u001b[0mStopIteration\u001b[0m\u001b[0;34m:\u001b[0m\u001b[0;34m\u001b[0m\u001b[0;34m\u001b[0m\u001b[0m\n\u001b[1;32m    122\u001b[0m                 \u001b[0;32mreturn\u001b[0m \u001b[0;32mFalse\u001b[0m\u001b[0;34m\u001b[0m\u001b[0;34m\u001b[0m\u001b[0m\n",
            "\u001b[0;32m/usr/local/Cellar/python@3.8/3.8.5/Frameworks/Python.framework/Versions/3.8/lib/python3.8/site-packages/matplotlib/animation.py\u001b[0m in \u001b[0;36msaving\u001b[0;34m(self, fig, outfile, dpi, *args, **kwargs)\u001b[0m\n\u001b[1;32m    251\u001b[0m             \u001b[0;32myield\u001b[0m \u001b[0mself\u001b[0m\u001b[0;34m\u001b[0m\u001b[0;34m\u001b[0m\u001b[0m\n\u001b[1;32m    252\u001b[0m         \u001b[0;32mfinally\u001b[0m\u001b[0;34m:\u001b[0m\u001b[0;34m\u001b[0m\u001b[0;34m\u001b[0m\u001b[0m\n\u001b[0;32m--> 253\u001b[0;31m             \u001b[0mself\u001b[0m\u001b[0;34m.\u001b[0m\u001b[0mfinish\u001b[0m\u001b[0;34m(\u001b[0m\u001b[0;34m)\u001b[0m\u001b[0;34m\u001b[0m\u001b[0;34m\u001b[0m\u001b[0m\n\u001b[0m\u001b[1;32m    254\u001b[0m \u001b[0;34m\u001b[0m\u001b[0m\n\u001b[1;32m    255\u001b[0m \u001b[0;34m\u001b[0m\u001b[0m\n",
            "\u001b[0;32m/usr/local/Cellar/python@3.8/3.8.5/Frameworks/Python.framework/Versions/3.8/lib/python3.8/site-packages/matplotlib/animation.py\u001b[0m in \u001b[0;36mfinish\u001b[0;34m(self)\u001b[0m\n\u001b[1;32m    552\u001b[0m \u001b[0;34m\u001b[0m\u001b[0m\n\u001b[1;32m    553\u001b[0m     \u001b[0;32mdef\u001b[0m \u001b[0mfinish\u001b[0m\u001b[0;34m(\u001b[0m\u001b[0mself\u001b[0m\u001b[0;34m)\u001b[0m\u001b[0;34m:\u001b[0m\u001b[0;34m\u001b[0m\u001b[0;34m\u001b[0m\u001b[0m\n\u001b[0;32m--> 554\u001b[0;31m         self._frames[0].save(\n\u001b[0m\u001b[1;32m    555\u001b[0m             \u001b[0mself\u001b[0m\u001b[0;34m.\u001b[0m\u001b[0moutfile\u001b[0m\u001b[0;34m,\u001b[0m \u001b[0msave_all\u001b[0m\u001b[0;34m=\u001b[0m\u001b[0;32mTrue\u001b[0m\u001b[0;34m,\u001b[0m \u001b[0mappend_images\u001b[0m\u001b[0;34m=\u001b[0m\u001b[0mself\u001b[0m\u001b[0;34m.\u001b[0m\u001b[0m_frames\u001b[0m\u001b[0;34m[\u001b[0m\u001b[0;36m1\u001b[0m\u001b[0;34m:\u001b[0m\u001b[0;34m]\u001b[0m\u001b[0;34m,\u001b[0m\u001b[0;34m\u001b[0m\u001b[0;34m\u001b[0m\u001b[0m\n\u001b[1;32m    556\u001b[0m             duration=int(1000 / self.fps), loop=0)\n",
            "\u001b[0;32m/usr/local/Cellar/python@3.8/3.8.5/Frameworks/Python.framework/Versions/3.8/lib/python3.8/site-packages/PIL/Image.py\u001b[0m in \u001b[0;36msave\u001b[0;34m(self, fp, format, **params)\u001b[0m\n\u001b[1;32m   2146\u001b[0m                 \u001b[0mfp\u001b[0m \u001b[0;34m=\u001b[0m \u001b[0mbuiltins\u001b[0m\u001b[0;34m.\u001b[0m\u001b[0mopen\u001b[0m\u001b[0;34m(\u001b[0m\u001b[0mfilename\u001b[0m\u001b[0;34m,\u001b[0m \u001b[0;34m\"r+b\"\u001b[0m\u001b[0;34m)\u001b[0m\u001b[0;34m\u001b[0m\u001b[0;34m\u001b[0m\u001b[0m\n\u001b[1;32m   2147\u001b[0m             \u001b[0;32melse\u001b[0m\u001b[0;34m:\u001b[0m\u001b[0;34m\u001b[0m\u001b[0;34m\u001b[0m\u001b[0m\n\u001b[0;32m-> 2148\u001b[0;31m                 \u001b[0mfp\u001b[0m \u001b[0;34m=\u001b[0m \u001b[0mbuiltins\u001b[0m\u001b[0;34m.\u001b[0m\u001b[0mopen\u001b[0m\u001b[0;34m(\u001b[0m\u001b[0mfilename\u001b[0m\u001b[0;34m,\u001b[0m \u001b[0;34m\"w+b\"\u001b[0m\u001b[0;34m)\u001b[0m\u001b[0;34m\u001b[0m\u001b[0;34m\u001b[0m\u001b[0m\n\u001b[0m\u001b[1;32m   2149\u001b[0m \u001b[0;34m\u001b[0m\u001b[0m\n\u001b[1;32m   2150\u001b[0m         \u001b[0;32mtry\u001b[0m\u001b[0;34m:\u001b[0m\u001b[0;34m\u001b[0m\u001b[0;34m\u001b[0m\u001b[0m\n",
            "\u001b[0;31mPermissionError\u001b[0m: [Errno 13] Permission denied: 'images/hessians.gif'"
          ]
        },
        {
          "output_type": "display_data",
          "data": {
            "text/plain": "<Figure size 432x288 with 2 Axes>",
            "image/png": "[encoded data removed]"
          },
          "metadata": {
            "needs_background": "light"
          }
        }
      ],
      "execution_count": 5,
      "metadata": {
        "collapsed": true,
        "execution": {
          "iopub.execute_input": "2020-11-13T09:48:52.112Z",
          "iopub.status.busy": "2020-11-13T09:48:52.105Z",
          "iopub.status.idle": "2020-11-13T09:48:56.450Z",
          "shell.execute_reply": "2020-11-13T09:48:56.497Z"
        },
        "jupyter": {
          "outputs_hidden": false,
          "source_hidden": false
        },
        "nteract": {
          "transient": {
            "deleting": false
          }
        }
      }
    },
    {
      "cell_type": "markdown",
      "source": [
        "The hessians of the similarity comparing to the first point in our dataset look as follows:\n",
        "![SegmentLocal](images/hessians.gif \"hessians\")\n",
        "We can also observe that $\\text{Hess}_{ij}[\\kappa(\\textbf{x},\\textbf{x}_l)] + \\text{Hess}_{ji}[\\kappa(\\textbf{x},\\textbf{x}_l)]$, is always symmetric, which will cause our 3x3 kernel to also be symmetric."
      ],
      "metadata": {}
    },
    {
      "cell_type": "code",
      "source": [
        "def hess_at(H, i, j):\n",
        "    return H[i, :, j, :]\n",
        "\n",
        "def symmetric(H):\n",
        "    return np.allclose(H, H.T)\n",
        "\n",
        "for k in range(3):\n",
        "    H = _hess(X[k])\n",
        "    for i in range(4):\n",
        "        for j in range(4):\n",
        "            print(symmetric(hess_at(H, i, j) + hess_at(H, j, i)), end=' ')\n",
        "    print()"
      ],
      "outputs": [
        {
          "output_type": "stream",
          "name": "stdout",
          "text": [
            "True True True True True True True True True True True True True True True True \n",
            "True True True True True True True True True True True True True True True True \n",
            "True True True True True True True True True True True True True True True True \n"
          ]
        }
      ],
      "execution_count": 6,
      "metadata": {
        "execution": {
          "iopub.execute_input": "2020-11-13T09:48:56.470Z",
          "iopub.status.busy": "2020-11-13T09:48:56.460Z",
          "iopub.status.idle": "2020-11-13T09:48:57.059Z",
          "shell.execute_reply": "2020-11-13T09:48:57.117Z"
        },
        "jupyter": {
          "outputs_hidden": false,
          "source_hidden": false
        },
        "nteract": {
          "transient": {
            "deleting": false
          }
        }
      }
    },
    {
      "cell_type": "code",
      "source": [
        "@jit\n",
        "def kernel(x, x_, sigma=1):\n",
        "    _gaussian = partial(gaussian, x, sigma=sigma)\n",
        "    hess = hessian(_gaussian)\n",
        "    H = hess(x_)\n",
        "    K = np.zeros((3,3))\n",
        "    for i in range(4):\n",
        "        for j in range(4):\n",
        "            new = hess_at(H, i, j)\n",
        "            K += new\n",
        "    return K"
      ],
      "outputs": [],
      "execution_count": 7,
      "metadata": {
        "collapsed": true,
        "execution": {
          "iopub.execute_input": "2020-11-13T09:48:57.074Z",
          "iopub.status.busy": "2020-11-13T09:48:57.068Z",
          "iopub.status.idle": "2020-11-13T09:48:57.084Z",
          "shell.execute_reply": "2020-11-13T09:48:57.120Z"
        },
        "jupyter": {
          "outputs_hidden": false,
          "source_hidden": false
        },
        "nteract": {
          "transient": {
            "deleting": false
          }
        }
      }
    },
    {
      "cell_type": "code",
      "source": [
        "heatmap_animation(lambda i: kernel(X[0], X[i]), name='kernels', center=0, vmax=2*1e-7, vmin=-2*1e-7)"
      ],
      "outputs": [],
      "execution_count": null,
      "metadata": {
        "collapsed": true,
        "execution": {
          "iopub.status.busy": "2020-11-13T09:48:57.093Z",
          "iopub.execute_input": "2020-11-13T09:48:57.098Z",
          "iopub.status.idle": "2020-11-13T09:49:00.875Z",
          "shell.execute_reply": "2020-11-13T09:49:00.933Z"
        }
      }
    },
    {
      "cell_type": "markdown",
      "source": [
        "![SegmentLocal](images/kernels.gif \"kernels\")"
      ],
      "metadata": {}
    },
    {
      "cell_type": "code",
      "source": [
        "@jit\n",
        "def kernel_matrix(X, sigma=1):\n",
        "    _kernel = partial(kernel, sigma=sigma)\n",
        "    @vmap\n",
        "    def _kernels(x):\n",
        "        vec_kernel = vmap(partial(_kernel, x))\n",
        "        return vec_kernel(X)\n",
        "    K = _kernels(X)\n",
        "    blocks = [list(x) for x in K]\n",
        "    return np.block(blocks)"
      ],
      "outputs": [],
      "execution_count": 9,
      "metadata": {
        "execution": {
          "iopub.execute_input": "2020-11-13T09:49:00.892Z",
          "iopub.status.busy": "2020-11-13T09:49:00.885Z",
          "iopub.status.idle": "2020-11-13T09:49:00.902Z",
          "shell.execute_reply": "2020-11-13T09:49:00.937Z"
        },
        "jupyter": {
          "outputs_hidden": false,
          "source_hidden": false
        },
        "nteract": {
          "transient": {
            "deleting": false
          }
        }
      }
    },
    {
      "cell_type": "code",
      "source": [
        "from utils import matrix_heatmap\n",
        "\n",
        "K = kernel_matrix(X[:30])\n",
        "matrix_heatmap(K, center=0)"
      ],
      "outputs": [
        {
          "output_type": "display_data",
          "data": {
            "text/plain": "<Figure size 432x288 with 2 Axes>",
            "image/png": "[encoded data removed]"
          },
          "metadata": {
            "needs_background": "light"
          }
        }
      ],
      "execution_count": 10,
      "metadata": {
        "execution": {
          "iopub.status.busy": "2020-11-13T09:49:00.913Z",
          "iopub.execute_input": "2020-11-13T09:49:00.919Z",
          "iopub.status.idle": "2020-11-13T09:49:06.798Z",
          "shell.execute_reply": "2020-11-13T09:49:06.860Z"
        }
      }
    },
    {
      "cell_type": "markdown",
      "source": [
        "Similar to single-valued KRR, we compute the parameters $\\alpha$ which minimize error analytically. They are given by\n",
        "$$\n",
        "\\begin{equation}\\label{eq:KRRsol}\n",
        "\\alpha = [K_{\\text{rHess}}^{(3\\times 3)}(\\textbf{X},\\textbf{X}')-\\lambda\\textbf{I}]^{-1} \\mu(\\textbf{X})\n",
        "\\end{equation}\n",
        "$$\n",
        "\n",
        "Instead of inverting (expensive) we will solve the linear system of equations $[K_{\\text{rHess}}^{(3\\times 3)}(\\textbf{X},\\textbf{X}')-\\lambda\\textbf{I}] \\alpha = \\mu(\\textbf{X})$."
      ],
      "metadata": {}
    },
    {
      "cell_type": "code",
      "source": [
        "from utils import KRR\n",
        "\n",
        "class VectorValuedKRR(KRR):\n",
        "\n",
        "    def fit(self, X, y):\n",
        "        self.X = X\n",
        "        samples = X.shape[0]\n",
        "        K = kernel_matrix(X, sigma=self.sigma)\n",
        "        y = y.reshape(samples * 3)\n",
        "        K = fill_diagonal(K, K.diagonal() + self.lamb)\n",
        "        alphas = np.linalg.solve(K, y)\n",
        "        self.alphas = alphas.reshape(samples, 3)\n",
        "\n",
        "    def predict(self, x):\n",
        "        def contribution(i, x):\n",
        "            return kernel(x, X[i], sigma=self.sigma) @ self.alphas[i]\n",
        "        @vmap\n",
        "        def predict(x):\n",
        "            indices = np.arange(self.samples)\n",
        "            _contribution = vmap(partial(contribution, x=x))\n",
        "            contributions = _contribution(indices)\n",
        "            mu = np.sum(contributions, axis=0)\n",
        "            return mu\n",
        "        results = predict(x)\n",
        "        return np.array(results)\n",
        "\n",
        "    def score(self, x, y):\n",
        "        yhat = self.predict(x)\n",
        "        return -np.mean(np.sum(np.abs(y - yhat), axis=1))"
      ],
      "outputs": [],
      "execution_count": 11,
      "metadata": {
        "execution": {
          "iopub.execute_input": "2020-11-13T09:49:06.815Z",
          "iopub.status.busy": "2020-11-13T09:49:06.808Z",
          "iopub.status.idle": "2020-11-13T09:49:06.825Z",
          "shell.execute_reply": "2020-11-13T09:49:06.864Z"
        },
        "jupyter": {
          "outputs_hidden": false,
          "source_hidden": false
        },
        "nteract": {
          "transient": {
            "deleting": false
          }
        }
      }
    },
    {
      "cell_type": "code",
      "source": [
        "model = VectorValuedKRR(lamb=1e-5, sigma=1.5)\n",
        "model.fit(X[:10], y[:10])"
      ],
      "outputs": [],
      "execution_count": 12,
      "metadata": {
        "execution": {
          "iopub.execute_input": "2020-11-13T09:49:06.845Z",
          "iopub.status.busy": "2020-11-13T09:49:06.838Z",
          "iopub.status.idle": "2020-11-13T09:49:09.746Z",
          "shell.execute_reply": "2020-11-13T09:49:09.774Z"
        },
        "jupyter": {
          "outputs_hidden": false,
          "source_hidden": false
        },
        "nteract": {
          "transient": {
            "deleting": false
          }
        }
      }
    },
    {
      "cell_type": "code",
      "source": [
        "print(model.predict(X[:2]))\n",
        "print(y[:2])"
      ],
      "outputs": [
        {
          "output_type": "stream",
          "name": "stdout",
          "text": [
            "[[-0.0063533   0.01706114 -0.00656229]\n",
            " [ 0.00074096 -0.01171887  0.00363207]]\n",
            "[[ 0.06685546 -0.3067279  -0.58624345]\n",
            " [ 0.06524433 -0.3048814  -0.58123165]]\n"
          ]
        }
      ],
      "execution_count": 13,
      "metadata": {
        "execution": {
          "iopub.execute_input": "2020-11-13T09:49:09.764Z",
          "iopub.status.busy": "2020-11-13T09:49:09.756Z",
          "iopub.status.idle": "2020-11-13T09:49:11.569Z",
          "shell.execute_reply": "2020-11-13T09:49:11.601Z"
        },
        "jupyter": {
          "outputs_hidden": false,
          "source_hidden": false
        },
        "nteract": {
          "transient": {
            "deleting": false
          }
        }
      }
    },
    {
      "cell_type": "code",
      "source": [
        "model.score(X[50:60], y[50:60])"
      ],
      "outputs": [
        {
          "output_type": "execute_result",
          "execution_count": 14,
          "data": {
            "text/plain": "DeviceArray(-0.6183566, dtype=float32)"
          },
          "metadata": {}
        }
      ],
      "execution_count": 14,
      "metadata": {
        "execution": {
          "iopub.execute_input": "2020-11-13T09:49:11.587Z",
          "iopub.status.busy": "2020-11-13T09:49:11.580Z",
          "iopub.status.idle": "2020-11-13T09:49:13.226Z",
          "shell.execute_reply": "2020-11-13T09:49:13.239Z"
        },
        "jupyter": {
          "outputs_hidden": false,
          "source_hidden": false
        },
        "nteract": {
          "transient": {
            "deleting": false
          }
        }
      }
    },
    {
      "cell_type": "code",
      "source": [
        "from sklearn.model_selection import GridSearchCV\n",
        "\n",
        "\n",
        "sigma_choices = list(np.linspace(0.25, 2, 8))\n",
        "lambda_choices = [1e-5]\n",
        "parameters = {'sigma': sigma_choices}\n",
        "data_subset_sizes = np.linspace(10, 100, 10, dtype=int)\n",
        "test = slice(20000, 20100)\n",
        "errors = []\n",
        "\n",
        "for size in data_subset_sizes:\n",
        "    start = time()\n",
        "    print(f'size: {size}')\n",
        "\n",
        "    cross_validation = GridSearchCV(VectorValuedKRR(), parameters)\n",
        "    cross_validation.fit(X[:size], y[:size])\n",
        "    results = cross_validation.cv_results_\n",
        "    best = np.argmin(results['rank_test_score'])\n",
        "    best_params = results['params'][best]\n",
        "    print(f'best params: {best_params}')\n",
        "    best_model = VectorValuedKRR(lamb=1e-5, **best_params)\n",
        "    best_model.fit(X[:size], y[:size])\n",
        "    best_test_error = -best_model.score(X[test], y[test]).item()\n",
        "    best_model.save()\n",
        "    print(f'best test error: {best_test_error}')\n",
        "    errors.append(best_test_error)"
      ],
      "outputs": [
        {
          "output_type": "stream",
          "name": "stdout",
          "text": [
            "size: 10\n",
            "best params: {'sigma': 1.75}\n",
            "best test error: 0.48428866267204285\n",
            "size: 20\n",
            "best params: {'sigma': 1.0}\n",
            "best test error: 0.4795111119747162\n",
            "size: 30\n",
            "best params: {'sigma': 1.0}\n",
            "best test error: 0.4805663228034973\n",
            "size: 40\n",
            "best params: {'sigma': 0.5}\n",
            "best test error: 0.49413207173347473\n",
            "size: 50\n",
            "best params: {'sigma': 1.25}\n",
            "best test error: 0.4844388961791992\n",
            "size: 60\n",
            "best params: {'sigma': 0.75}\n",
            "best test error: 0.49159881472587585\n",
            "size: 70\n",
            "best params: {'sigma': 2.0}\n",
            "best test error: 0.48534226417541504\n",
            "size: 80\n",
            "best params: {'sigma': 0.75}\n",
            "best test error: 0.5039020776748657\n",
            "size: 90\n",
            "best params: {'sigma': 0.5}\n",
            "best test error: 0.5380030274391174\n",
            "size: 100\n",
            "best params: {'sigma': 0.25}\n",
            "best test error: 0.7716641426086426\n"
          ]
        },
        {
          "output_type": "error",
          "ename": "NameError",
          "evalue": "name 'pd' is not defined",
          "traceback": [
            "\u001b[0;31m---------------------------------------------------------------------------\u001b[0m",
            "\u001b[0;31mNameError\u001b[0m                                 Traceback (most recent call last)",
            "\u001b[0;32m<ipython-input-16-83f215c9bfa6>\u001b[0m in \u001b[0;36m<module>\u001b[0;34m\u001b[0m\n\u001b[1;32m     26\u001b[0m     \u001b[0merrors\u001b[0m\u001b[0;34m.\u001b[0m\u001b[0mappend\u001b[0m\u001b[0;34m(\u001b[0m\u001b[0mbest_test_error\u001b[0m\u001b[0;34m)\u001b[0m\u001b[0;34m\u001b[0m\u001b[0;34m\u001b[0m\u001b[0m\n\u001b[1;32m     27\u001b[0m \u001b[0;34m\u001b[0m\u001b[0m\n\u001b[0;32m---> 28\u001b[0;31m \u001b[0mdata\u001b[0m \u001b[0;34m=\u001b[0m \u001b[0mpd\u001b[0m\u001b[0;34m.\u001b[0m\u001b[0mDataFrame\u001b[0m\u001b[0;34m(\u001b[0m\u001b[0;34m{\u001b[0m\u001b[0;34m'samples trained on'\u001b[0m\u001b[0;34m:\u001b[0m \u001b[0mdata_subset_sizes\u001b[0m\u001b[0;34m,\u001b[0m \u001b[0;34m'mean absolute error'\u001b[0m\u001b[0;34m:\u001b[0m \u001b[0merrors\u001b[0m\u001b[0;34m}\u001b[0m\u001b[0;34m)\u001b[0m\u001b[0;34m\u001b[0m\u001b[0;34m\u001b[0m\u001b[0m\n\u001b[0m\u001b[1;32m     29\u001b[0m \u001b[0msns\u001b[0m\u001b[0;34m.\u001b[0m\u001b[0mpointplot\u001b[0m\u001b[0;34m(\u001b[0m\u001b[0mx\u001b[0m\u001b[0;34m=\u001b[0m\u001b[0;34m'samples trained on'\u001b[0m\u001b[0;34m,\u001b[0m \u001b[0my\u001b[0m\u001b[0;34m=\u001b[0m\u001b[0;34m'mean absolute error'\u001b[0m\u001b[0;34m,\u001b[0m \u001b[0mdata\u001b[0m\u001b[0;34m=\u001b[0m\u001b[0mdata\u001b[0m\u001b[0;34m,\u001b[0m \u001b[0ms\u001b[0m\u001b[0;34m=\u001b[0m\u001b[0;36m100\u001b[0m\u001b[0;34m)\u001b[0m\u001b[0;34m\u001b[0m\u001b[0;34m\u001b[0m\u001b[0m\n\u001b[1;32m     30\u001b[0m \u001b[0mplt\u001b[0m\u001b[0;34m.\u001b[0m\u001b[0msavefig\u001b[0m\u001b[0;34m(\u001b[0m\u001b[0;34m'learning_curve.png'\u001b[0m\u001b[0;34m)\u001b[0m\u001b[0;34m\u001b[0m\u001b[0;34m\u001b[0m\u001b[0m\n",
            "\u001b[0;31mNameError\u001b[0m: name 'pd' is not defined"
          ]
        }
      ],
      "execution_count": 16,
      "metadata": {
        "collapsed": true,
        "jupyter": {
          "source_hidden": false,
          "outputs_hidden": false
        },
        "nteract": {
          "transient": {
            "deleting": false
          }
        },
        "execution": {
          "iopub.status.busy": "2020-11-13T09:57:31.404Z",
          "iopub.execute_input": "2020-11-13T09:57:31.414Z",
          "iopub.status.idle": "2020-11-13T10:06:53.884Z",
          "shell.execute_reply": "2020-11-13T10:06:53.914Z"
        }
      }
    },
    {
      "cell_type": "code",
      "source": [
        "import pandas as pd\n",
        "import matplotlib.pyplot as plt\n",
        "import seaborn as sns\n",
        "\n",
        "data = pd.DataFrame({'samples trained on': data_subset_sizes, 'mean absolute error': errors})\n",
        "ax = sns.pointplot(x='samples trained on', y='mean absolute error', data=data, s=100)\n",
        "ax.set(ylim=(0, 1))\n",
        "plt.savefig('learning_curve.png')\n",
        "plt.show()"
      ],
      "outputs": [
        {
          "output_type": "display_data",
          "data": {
            "text/plain": "<Figure size 432x288 with 1 Axes>",
            "image/png": "[encoded data removed]"
          },
          "metadata": {
            "needs_background": "light"
          }
        }
      ],
      "execution_count": 20,
      "metadata": {
        "collapsed": true,
        "jupyter": {
          "source_hidden": false,
          "outputs_hidden": false
        },
        "nteract": {
          "transient": {
            "deleting": false
          }
        },
        "execution": {
          "iopub.status.busy": "2020-11-13T10:11:41.083Z",
          "iopub.execute_input": "2020-11-13T10:11:41.134Z",
          "iopub.status.idle": "2020-11-13T10:11:41.386Z",
          "shell.execute_reply": "2020-11-13T10:11:41.402Z"
        }
      }
    },
    {
      "cell_type": "markdown",
      "source": [
        "## Conclusion\n",
        "\n",
        "We have extended KRR to model a function with vector output. Some components of the learning contain symmetries, which can be used to check the implementation correctness. This model achieved a low training loss even with very few training examples. As a next step, we will learn forces, a function that maps to $\\mathbb{R}^{4 \\times 3}$."
      ],
      "metadata": {}
    }
  ],
  "metadata": {
    "kernel_info": {
      "name": "python3"
    },
    "kernelspec": {
      "display_name": "Python 3",
      "language": "python",
      "name": "python3"
    },
    "language_info": {
      "name": "python",
      "version": "3.8.5",
      "mimetype": "text/x-python",
      "codemirror_mode": {
        "name": "ipython",
        "version": 3
      },
      "pygments_lexer": "ipython3",
      "nbconvert_exporter": "python",
      "file_extension": ".py"
    },
    "nteract": {
      "version": "0.26.0"
    }
  },
  "nbformat": 4,
  "nbformat_minor": 1
}