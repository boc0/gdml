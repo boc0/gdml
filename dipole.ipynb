{
  "cells": [
    {
      "cell_type": "code",
      "source": [
        "import jax.numpy as np\n",
        "import jax.ops\n",
        "import numpy\n",
        "from scipy.spatial.distance import pdist, squareform"
      ],
      "outputs": [],
      "execution_count": 51,
      "metadata": {
        "collapsed": true,
        "jupyter": {
          "source_hidden": false,
          "outputs_hidden": false
        },
        "nteract": {
          "transient": {
            "deleting": false
          }
        },
        "execution": {
          "iopub.status.busy": "2020-11-03T11:48:49.617Z",
          "iopub.execute_input": "2020-11-03T11:48:49.621Z",
          "iopub.status.idle": "2020-11-03T11:48:49.628Z",
          "shell.execute_reply": "2020-11-03T11:48:49.632Z"
        }
      }
    },
    {
      "cell_type": "code",
      "source": [
        "import warnings\n",
        "warnings.filterwarnings('ignore')"
      ],
      "outputs": [],
      "execution_count": 99,
      "metadata": {
        "collapsed": true,
        "jupyter": {
          "source_hidden": false,
          "outputs_hidden": false
        },
        "nteract": {
          "transient": {
            "deleting": false
          }
        },
        "execution": {
          "iopub.status.busy": "2020-11-03T12:07:26.432Z",
          "iopub.execute_input": "2020-11-03T12:07:26.437Z",
          "iopub.status.idle": "2020-11-03T12:07:26.445Z",
          "shell.execute_reply": "2020-11-03T12:07:26.449Z"
        }
      }
    },
    {
      "cell_type": "code",
      "source": [
        "def fill_diagonal(a, value):\n",
        "    return jax.ops.index_update(a, jnp.diag_indices(a.shape[0]), value)\n",
        "\n",
        "def descriptor(x):\n",
        "    distances = np.sqrt(np.sum((x[:, None, :] - x[None, :, :])**2, axis=-1))\n",
        "    D = 1 / distances\n",
        "    D = jnp.tril(D)\n",
        "    D = fill_diagonal(D, 0)\n",
        "    return D"
      ],
      "outputs": [],
      "execution_count": 120,
      "metadata": {
        "collapsed": true,
        "jupyter": {
          "source_hidden": false,
          "outputs_hidden": false
        },
        "nteract": {
          "transient": {
            "deleting": false
          }
        },
        "execution": {
          "iopub.status.busy": "2020-11-03T12:15:17.108Z",
          "iopub.execute_input": "2020-11-03T12:15:17.112Z",
          "iopub.status.idle": "2020-11-03T12:15:17.119Z",
          "shell.execute_reply": "2020-11-03T12:15:17.123Z"
        }
      }
    },
    {
      "cell_type": "code",
      "source": [
        "_x = numpy.random.rand(4, 3)\n",
        "x = jnp.array(_x)"
      ],
      "outputs": [],
      "execution_count": 122,
      "metadata": {
        "collapsed": true,
        "jupyter": {
          "source_hidden": false,
          "outputs_hidden": false
        },
        "nteract": {
          "transient": {
            "deleting": false
          }
        },
        "execution": {
          "iopub.status.busy": "2020-11-03T12:41:15.199Z",
          "iopub.execute_input": "2020-11-03T12:41:15.202Z",
          "iopub.status.idle": "2020-11-03T12:41:15.207Z",
          "shell.execute_reply": "2020-11-03T12:41:15.211Z"
        }
      }
    },
    {
      "cell_type": "code",
      "source": [],
      "outputs": [],
      "execution_count": null,
      "metadata": {
        "collapsed": true,
        "jupyter": {
          "source_hidden": false,
          "outputs_hidden": false
        },
        "nteract": {
          "transient": {
            "deleting": false
          }
        }
      }
    }
  ],
  "metadata": {
    "kernel_info": {
      "name": "python3"
    },
    "language_info": {
      "name": "python",
      "version": "3.8.5",
      "mimetype": "text/x-python",
      "codemirror_mode": {
        "name": "ipython",
        "version": 3
      },
      "pygments_lexer": "ipython3",
      "nbconvert_exporter": "python",
      "file_extension": ".py"
    },
    "kernelspec": {
      "argv": [
        "/usr/local/bin/python3",
        "-m",
        "ipykernel_launcher",
        "-f",
        "{connection_file}"
      ],
      "display_name": "Python 3",
      "language": "python",
      "name": "python3"
    },
    "nteract": {
      "version": "0.26.0"
    }
  },
  "nbformat": 4,
  "nbformat_minor": 0
}