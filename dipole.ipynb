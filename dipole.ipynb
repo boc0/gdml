{
 "cells": [
  {
   "cell_type": "markdown",
   "metadata": {
    "nteract": {
     "transient": {
      "deleting": false
     }
    }
   },
   "source": [
    "# Vector-valued Kernel Ridge Regression\n",
    "\n",
    "Using the same dataset of molecular geometries, we will predict the dipole moment $\\mu$. "
   ]
  },
  {
   "cell_type": "code",
   "execution_count": 1,
   "metadata": {
    "execution": {
     "iopub.execute_input": "2020-11-05T23:19:59.963Z",
     "iopub.status.busy": "2020-11-05T23:19:59.950Z",
     "iopub.status.idle": "2020-11-05T23:20:01.686Z",
     "shell.execute_reply": "2020-11-05T23:20:01.728Z"
    },
    "jupyter": {
     "outputs_hidden": false,
     "source_hidden": false
    },
    "nteract": {
     "transient": {
      "deleting": false
     }
    }
   },
   "outputs": [],
   "source": [
    "from functools import partial\n",
    "import jax.numpy as np\n",
    "from jax import grad, jit, vmap"
   ]
  },
  {
   "cell_type": "code",
   "execution_count": 2,
   "metadata": {
    "execution": {
     "iopub.execute_input": "2020-11-05T23:20:04.241Z",
     "iopub.status.busy": "2020-11-05T23:20:04.232Z",
     "iopub.status.idle": "2020-11-05T23:20:04.272Z",
     "shell.execute_reply": "2020-11-05T23:20:04.283Z"
    },
    "jupyter": {
     "outputs_hidden": false,
     "source_hidden": false
    },
    "nteract": {
     "transient": {
      "deleting": false
     }
    }
   },
   "outputs": [
    {
     "name": "stderr",
     "output_type": "stream",
     "text": [
      "WARNING:absl:No GPU/TPU found, falling back to CPU. (Set TF_CPP_MIN_LOG_LEVEL=0 and rerun for more info.)\n"
     ]
    },
    {
     "data": {
      "text/plain": [
       "((50000, 4, 3), (50000, 3))"
      ]
     },
     "execution_count": 2,
     "metadata": {},
     "output_type": "execute_result"
    }
   ],
   "source": [
    "data = np.load('data/HOOH.DFT.PBE-TS.light.MD.500K.50k.R_E_F_D_Q.npz')\n",
    "X = np.array(data['R'])\n",
    "y = np.array(data['D'])\n",
    "X.shape, y.shape"
   ]
  },
  {
   "cell_type": "markdown",
   "metadata": {},
   "source": [
    "First, let's visualise some of our training data. We will encode it using the same Coulomb matrix-like descriptor as for the scalar valued case."
   ]
  },
  {
   "cell_type": "code",
   "execution_count": 3,
   "metadata": {
    "collapsed": true,
    "execution": {
     "iopub.execute_input": "2020-11-04T20:12:38.890Z",
     "iopub.status.busy": "2020-11-04T20:12:38.880Z",
     "iopub.status.idle": "2020-11-04T20:12:45.364Z",
     "shell.execute_reply": "2020-11-04T20:12:45.387Z"
    },
    "jupyter": {
     "outputs_hidden": false,
     "source_hidden": false
    },
    "nteract": {
     "transient": {
      "deleting": false
     }
    }
   },
   "outputs": [
    {
     "name": "stderr",
     "output_type": "stream",
     "text": [
      "WARNING:matplotlib.animation:MovieWriter ffmpeg unavailable; using Pillow instead.\n",
      "WARNING:matplotlib.animation:MovieWriter ffmpeg unavailable; using Pillow instead.\n"
     ]
    },
    {
     "data": {
      "image/png": "[encoded data removed]",
      "text/plain": [
       "<Figure size 432x288 with 2 Axes>"
      ]
     },
     "metadata": {
      "needs_background": "light"
     },
     "output_type": "display_data"
    },
    {
     "data": {
      "image/png": "[encoded data removed]",
      "text/plain": [
       "<Figure size 432x288 with 2 Axes>"
      ]
     },
     "metadata": {
      "needs_background": "light"
     },
     "output_type": "display_data"
    }
   ],
   "source": [
    "from utils import heatmap_animation, descriptor\n",
    "%matplotlib inline\n",
    "\n",
    "heatmap_animation(lambda i: X[i], name='coordinates', vmin=-3.5, vmax=1)\n",
    "heatmap_animation(lambda i: descriptor(X[i]).reshape(4, 4), name='descriptors', center=0, vmax=1.0)"
   ]
  },
  {
   "cell_type": "markdown",
   "metadata": {
    "nteract": {
     "transient": {
      "deleting": false
     }
    }
   },
   "source": [
    "The following are the coordinates\n",
    "![SegmentLocal](images/coordinates.gif \"coordinates\")\n",
    "and descriptors\n",
    "![SegmentLocal](images/descriptors.gif \"descriptors\")\n",
    "for the first few training samples."
   ]
  },
  {
   "cell_type": "markdown",
   "metadata": {
    "nteract": {
     "transient": {
      "deleting": false
     }
    }
   },
   "source": [
    "The dipole moment is a three-dimensional quantity. To learn this vector-valued function, we will need to adjust our KRR model.\n",
    "\n",
    "### Model\n",
    "our predictor is given by \n",
    "\n",
    "$$ \\begin{equation} \\vec{\\mu} (\\textbf{x}) = \\sum_{l=1}^{M} \\kappa_{rHess}^{(3\\times 3)}(\\textbf{x},\\textbf{x}_l) \\vec{\\alpha}_l \\end{equation} $$\n",
    "\n",
    "where $\\kappa_{rHess}^{(3\\times 3)}(\\textbf{x},\\textbf{x}_l)$ is now not a scalar, but a 3x3 matrix given by\n",
    "\n",
    "$$ \\begin{equation} \\kappa_{rHess}^{(3\\times 3)}(\\textbf{x},\\textbf{x}_l) =\\sum_{i,j=1}^{N} \\text{Hess}_{ij}[\\kappa(\\textbf{x},\\textbf{x}_l)] \\end{equation} $$\n",
    "\n",
    "with\n",
    "\n",
    "$$\n",
    "\\begin{equation}\n",
    "(\\text{Hess}_{ij}[\\kappa(\\textbf{x},\\textbf{x}_l)])_{km} = \\frac{\\partial^2 \\kappa(\\textbf{x},\\textbf{x}_l)}{\\partial (\\textbf{x}_l)_{ik} \\partial (\\textbf{x}_l)_{jm}}\n",
    "\\end{equation}\n",
    "$$\n",
    "\n",
    "The Hessian of the similarity measure at $\\textbf{x}$ is composed of the second derivatives of each pair of input elements, $(Hess)_{ikjm} = \\frac{\\partial^2 \\kappa(\\textbf{x},\\textbf{x}_l)}{\\partial (\\textbf{x}_l)_{ik} \\partial (\\textbf{x}_l)_{jm}}$. In this case our data has two dimensions, so the Hessian has four. We will compute the derivatives using the Jax library."
   ]
  },
  {
   "cell_type": "code",
   "execution_count": 4,
   "metadata": {
    "execution": {
     "iopub.execute_input": "2020-11-05T20:17:54.562Z",
     "iopub.status.busy": "2020-11-05T20:17:54.552Z",
     "iopub.status.idle": "2020-11-05T20:17:54.575Z",
     "shell.execute_reply": "2020-11-05T20:17:54.584Z"
    },
    "jupyter": {
     "outputs_hidden": false,
     "source_hidden": false
    },
    "nteract": {
     "transient": {
      "deleting": false
     }
    }
   },
   "outputs": [],
   "source": [
    "from jax import jacfwd, jacrev\n",
    "def hessian(f):\n",
    "    return jacfwd(jacrev(f))"
   ]
  },
  {
   "cell_type": "code",
   "execution_count": 5,
   "metadata": {
    "collapsed": true,
    "execution": {
     "iopub.execute_input": "2020-11-05T20:17:55.793Z",
     "iopub.status.busy": "2020-11-05T20:17:55.780Z",
     "iopub.status.idle": "2020-11-05T20:17:58.093Z",
     "shell.execute_reply": "2020-11-05T20:17:58.162Z"
    },
    "jupyter": {
     "outputs_hidden": false,
     "source_hidden": false
    },
    "nteract": {
     "transient": {
      "deleting": false
     }
    }
   },
   "outputs": [
    {
     "name": "stderr",
     "output_type": "stream",
     "text": [
      "WARNING:matplotlib.animation:MovieWriter ffmpeg unavailable; using Pillow instead.\n"
     ]
    },
    {
     "name": "stdout",
     "output_type": "stream",
     "text": [
      "(4, 3, 4, 3)\n"
     ]
    },
    {
     "data": {
      "image/png": "[encoded data removed]",
      "text/plain": [
       "<Figure size 432x288 with 2 Axes>"
      ]
     },
     "metadata": {
      "needs_background": "light"
     },
     "output_type": "display_data"
    }
   ],
   "source": [
    "from utils import gaussian, fill_diagonal\n",
    "\n",
    "_gaussian = partial(gaussian, X[0])\n",
    "_hess = hessian(_gaussian)\n",
    "print(_hess(X[1]).shape)\n",
    "\n",
    "heatmap_animation(lambda i: _hess(X[i]).reshape(12, 12), name='hessians', center=0, vmax=2, vmin=-2)"
   ]
  },
  {
   "cell_type": "markdown",
   "metadata": {},
   "source": [
    "The hessians of the similarity comparing to the first point in our dataset look as follows:\n",
    "![SegmentLocal](images/hessians.gif \"hessians\")\n",
    "We can also observe that $\\text{Hess}_{ij}[\\kappa(\\textbf{x},\\textbf{x}_l)] + \\text{Hess}_{ji}[\\kappa(\\textbf{x},\\textbf{x}_l)]$, is always symmetric, which will cause our 3x3 kernel to also be symmetric."
   ]
  },
  {
   "cell_type": "code",
   "execution_count": 6,
   "metadata": {
    "execution": {
     "iopub.execute_input": "2020-11-05T19:37:13.306Z",
     "iopub.status.busy": "2020-11-05T19:37:13.297Z",
     "iopub.status.idle": "2020-11-05T19:37:13.319Z",
     "shell.execute_reply": "2020-11-05T19:37:13.329Z"
    },
    "jupyter": {
     "outputs_hidden": false,
     "source_hidden": false
    },
    "nteract": {
     "transient": {
      "deleting": false
     }
    }
   },
   "outputs": [
    {
     "name": "stdout",
     "output_type": "stream",
     "text": [
      "True True True True True True True True True True True True True True True True \n",
      "True True True True True True True True True True True True True True True True \n",
      "True True True True True True True True True True True True True True True True \n"
     ]
    }
   ],
   "source": [
    "def hess_at(H, i, j):\n",
    "    return H[i, :, j, :]\n",
    "\n",
    "def symmetric(H):\n",
    "    return np.allclose(H, H.T)\n",
    "\n",
    "for k in range(3):\n",
    "    H = _hess(X[k])\n",
    "    for i in range(4):\n",
    "        for j in range(4):\n",
    "            print(symmetric(hess_at(H, i, j) + hess_at(H, j, i)), end=' ')\n",
    "    print()"
   ]
  },
  {
   "cell_type": "code",
   "execution_count": 7,
   "metadata": {
    "collapsed": true,
    "execution": {
     "iopub.execute_input": "2020-11-05T20:18:01.010Z",
     "iopub.status.busy": "2020-11-05T20:18:01.001Z",
     "iopub.status.idle": "2020-11-05T20:18:01.025Z",
     "shell.execute_reply": "2020-11-05T20:18:01.037Z"
    },
    "jupyter": {
     "outputs_hidden": false,
     "source_hidden": false
    },
    "nteract": {
     "transient": {
      "deleting": false
     }
    }
   },
   "outputs": [],
   "source": [
    "@jit\n",
    "def kernel(x, x_, sigma=1):\n",
    "    _gaussian = partial(gaussian, x, sigma=sigma)\n",
    "    hess = hessian(_gaussian)\n",
    "    return np.sum(hess(x_), axis=(0, 2))"
   ]
  },
  {
   "cell_type": "code",
   "execution_count": 8,
   "metadata": {
    "collapsed": true
   },
   "outputs": [
    {
     "name": "stderr",
     "output_type": "stream",
     "text": [
      "WARNING:matplotlib.animation:MovieWriter ffmpeg unavailable; using Pillow instead.\n"
     ]
    },
    {
     "data": {
      "image/png": "[encoded data removed]",
      "text/plain": [
       "<Figure size 432x288 with 2 Axes>"
      ]
     },
     "metadata": {
      "needs_background": "light"
     },
     "output_type": "display_data"
    }
   ],
   "source": [
    "heatmap_animation(lambda i: kernel(X[0], X[i]), name='kernels', center=0, vmax=2*1e-7, vmin=-2*1e-7)"
   ]
  },
  {
   "cell_type": "markdown",
   "metadata": {},
   "source": [
    "![SegmentLocal](images/kernels.gif \"kernels\")"
   ]
  },
  {
   "cell_type": "code",
   "execution_count": 9,
   "metadata": {
    "execution": {
     "iopub.execute_input": "2020-11-05T20:18:02.463Z",
     "iopub.status.busy": "2020-11-05T20:18:02.454Z",
     "iopub.status.idle": "2020-11-05T20:18:02.477Z",
     "shell.execute_reply": "2020-11-05T20:18:02.488Z"
    },
    "jupyter": {
     "outputs_hidden": false,
     "source_hidden": false
    },
    "nteract": {
     "transient": {
      "deleting": false
     }
    }
   },
   "outputs": [],
   "source": [
    "@jit\n",
    "def kernel_matrix(X, sigma=1):\n",
    "    _kernel = partial(kernel, sigma=sigma)\n",
    "    @vmap\n",
    "    def _kernels(x):\n",
    "        vec_kernel = vmap(partial(_kernel, x))\n",
    "        return vec_kernel(X)\n",
    "    K = _kernels(X)\n",
    "    blocks = [list(x) for x in K]\n",
    "    return np.block(blocks)"
   ]
  },
  {
   "cell_type": "code",
   "execution_count": 10,
   "metadata": {},
   "outputs": [
    {
     "data": {
      "image/png": "[encoded data removed]",
      "text/plain": [
       "<Figure size 432x288 with 2 Axes>"
      ]
     },
     "metadata": {
      "needs_background": "light"
     },
     "output_type": "display_data"
    }
   ],
   "source": [
    "from utils import matrix_heatmap\n",
    "\n",
    "K = kernel_matrix(X[:30])\n",
    "matrix_heatmap(K, center=0)"
   ]
  },
  {
   "cell_type": "markdown",
   "metadata": {},
   "source": [
    "Similar to single-valued KRR, we compute the parameters $\\alpha$ which minimize error analytically. They are given by\n",
    "$$\n",
    "\\begin{equation}\\label{eq:KRRsol}\n",
    "\\alpha = [K_{\\text{rHess}}^{(3\\times 3)}(\\textbf{X},\\textbf{X}')-\\lambda\\textbf{I}]^{-1} \\mu(\\textbf{X})\n",
    "\\end{equation}\n",
    "$$\n",
    "\n",
    "Instead of inverting (expensive) we will solve the linear system of equations $[K_{\\text{rHess}}^{(3\\times 3)}(\\textbf{X},\\textbf{X}')-\\lambda\\textbf{I}] \\alpha = \\mu(\\textbf{X})$."
   ]
  },
  {
   "cell_type": "code",
   "execution_count": 11,
   "metadata": {
    "execution": {
     "iopub.execute_input": "2020-11-05T20:41:47.601Z",
     "iopub.status.busy": "2020-11-05T20:41:47.593Z",
     "iopub.status.idle": "2020-11-05T20:41:48.225Z",
     "shell.execute_reply": "2020-11-05T20:41:48.244Z"
    },
    "jupyter": {
     "outputs_hidden": false,
     "source_hidden": false
    },
    "nteract": {
     "transient": {
      "deleting": false
     }
    }
   },
   "outputs": [],
   "source": [
    "from utils import KRR\n",
    "\n",
    "class VectorValuedKRR(KRR):\n",
    "\n",
    "    def fit(self, X, y):\n",
    "        self.X = X\n",
    "        samples = X.shape[0]\n",
    "        K = kernel_matrix(X, sigma=self.sigma)\n",
    "        y = y.reshape(samples * 3)\n",
    "        K = fill_diagonal(K, K.diagonal() + self.lamb)\n",
    "        alphas = np.linalg.solve(K, y)\n",
    "        self.alphas = alphas.reshape(samples, 3)\n",
    "\n",
    "    def predict(self, x):\n",
    "        def contribution(i, x):\n",
    "            return kernel(x, X[i], sigma=self.sigma) @ self.alphas[i]\n",
    "        @vmap\n",
    "        def predict(x):\n",
    "            indices = np.arange(self.samples)\n",
    "            _contribution = vmap(partial(contribution, x=x))\n",
    "            contributions = _contribution(indices)\n",
    "            mu = np.sum(contributions, axis=0)\n",
    "            return mu\n",
    "        results = predict(x)\n",
    "        return np.array(results)\n",
    "\n",
    "    def score(self, x, y):\n",
    "        yhat = self.predict(x)\n",
    "        return -np.mean(np.sum(np.abs(y - yhat), axis=1))"
   ]
  },
  {
   "cell_type": "code",
   "execution_count": 12,
   "metadata": {
    "execution": {
     "iopub.execute_input": "2020-11-05T20:41:50.193Z",
     "iopub.status.busy": "2020-11-05T20:41:50.184Z",
     "iopub.status.idle": "2020-11-05T20:41:51.921Z",
     "shell.execute_reply": "2020-11-05T20:41:51.932Z"
    },
    "jupyter": {
     "outputs_hidden": false,
     "source_hidden": false
    },
    "nteract": {
     "transient": {
      "deleting": false
     }
    }
   },
   "outputs": [],
   "source": [
    "model = VectorValuedKRR()\n",
    "model.fit(X[:50], y[:50])"
   ]
  },
  {
   "cell_type": "code",
   "execution_count": 13,
   "metadata": {
    "execution": {
     "iopub.execute_input": "2020-11-05T20:42:22.859Z",
     "iopub.status.busy": "2020-11-05T20:42:22.849Z",
     "iopub.status.idle": "2020-11-05T20:42:26.122Z",
     "shell.execute_reply": "2020-11-05T20:42:26.140Z"
    },
    "jupyter": {
     "outputs_hidden": false,
     "source_hidden": false
    },
    "nteract": {
     "transient": {
      "deleting": false
     }
    }
   },
   "outputs": [
    {
     "name": "stdout",
     "output_type": "stream",
     "text": [
      "[[ 0.06685638 -0.30673063 -0.5862386 ]\n",
      " [ 0.06523848 -0.30487794 -0.58123326]]\n",
      "[[ 0.06685546 -0.3067279  -0.58624345]\n",
      " [ 0.06524433 -0.3048814  -0.58123165]]\n"
     ]
    }
   ],
   "source": [
    "print(model.predict(X[:2]))\n",
    "print(y[:2])"
   ]
  },
  {
   "cell_type": "code",
   "execution_count": 14,
   "metadata": {
    "execution": {
     "iopub.execute_input": "2020-11-04T14:01:54.931Z",
     "iopub.status.busy": "2020-11-04T14:01:54.924Z",
     "iopub.status.idle": "2020-11-04T14:01:55.336Z",
     "shell.execute_reply": "2020-11-04T14:01:55.351Z"
    },
    "jupyter": {
     "outputs_hidden": false,
     "source_hidden": false
    },
    "nteract": {
     "transient": {
      "deleting": false
     }
    }
   },
   "outputs": [
    {
     "data": {
      "text/plain": [
       "DeviceArray(-8.010721, dtype=float32)"
      ]
     },
     "execution_count": 14,
     "metadata": {},
     "output_type": "execute_result"
    }
   ],
   "source": [
    "model.score(X[50:60], y[50:60])"
   ]
  },
  {
   "cell_type": "markdown",
   "metadata": {},
   "source": [
    "## Conclusion\n",
    "\n",
    "We have extended KRR to model a function with vector output. Some components of the learning contain symmetries, which can be used to check the implementation correctness. This model achieved a low training loss even with very few training examples. As a next step, we will learn forces, a function that maps to $\\mathbb{R}^{4 \\times 3}$."
   ]
  }
 ],
 "metadata": {
  "kernel_info": {
   "name": "python3"
  },
  "kernelspec": {
   "display_name": "Python 3",
   "language": "python",
   "name": "python3"
  },
  "language_info": {
   "codemirror_mode": {
    "name": "ipython",
    "version": 3
   },
   "file_extension": ".py",
   "mimetype": "text/x-python",
   "name": "python",
   "nbconvert_exporter": "python",
   "pygments_lexer": "ipython3",
   "version": "3.8.5"
  },
  "nteract": {
   "version": "0.26.0"
  }
 },
 "nbformat": 4,
 "nbformat_minor": 1
}
