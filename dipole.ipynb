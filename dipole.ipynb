{
  "cells": [
    {
      "cell_type": "markdown",
      "source": [
        "# Vector-valued Kernel Ridge Regression\n",
        "\n",
        "Using the same dataset of molecular geometries, we will predict the dipole moment $\\mu$. "
      ],
      "metadata": {
        "nteract": {
          "transient": {
            "deleting": false
          }
        }
      }
    },
    {
      "cell_type": "code",
      "source": [
        "from functools import partial\n",
        "import jax.numpy as np\n",
        "from jax import grad, jit, vmap"
      ],
      "outputs": [],
      "execution_count": 1,
      "metadata": {
        "execution": {
          "iopub.execute_input": "2020-11-13T09:48:41.748Z",
          "iopub.status.busy": "2020-11-13T09:48:41.742Z",
          "iopub.status.idle": "2020-11-13T09:48:43.291Z",
          "shell.execute_reply": "2020-11-13T09:48:43.297Z"
        },
        "jupyter": {
          "outputs_hidden": false,
          "source_hidden": false
        },
        "nteract": {
          "transient": {
            "deleting": false
          }
        }
      }
    },
    {
      "cell_type": "code",
      "source": [
        "data = np.load('data/HOOH.DFT.PBE-TS.light.MD.500K.50k.R_E_F_D_Q.npz')\n",
        "X = np.array(data['R'])\n",
        "y = np.array(data['D'])\n",
        "X.shape, y.shape"
      ],
      "outputs": [
        {
          "output_type": "stream",
          "name": "stderr",
          "text": [
            "WARNING:absl:No GPU/TPU found, falling back to CPU. (Set TF_CPP_MIN_LOG_LEVEL=0 and rerun for more info.)\n"
          ]
        },
        {
          "output_type": "execute_result",
          "execution_count": 2,
          "data": {
            "text/plain": "((50000, 4, 3), (50000, 3))"
          },
          "metadata": {}
        }
      ],
      "execution_count": 2,
      "metadata": {
        "execution": {
          "iopub.execute_input": "2020-11-13T09:48:43.313Z",
          "iopub.status.busy": "2020-11-13T09:48:43.306Z",
          "iopub.status.idle": "2020-11-13T09:48:43.385Z",
          "shell.execute_reply": "2020-11-13T09:48:43.408Z"
        },
        "jupyter": {
          "outputs_hidden": false,
          "source_hidden": false
        },
        "nteract": {
          "transient": {
            "deleting": false
          }
        }
      }
    },
    {
      "cell_type": "markdown",
      "source": [
        "First, let's visualise some of our training data. We will encode it using the same Coulomb matrix-like descriptor as for the scalar valued case."
      ],
      "metadata": {}
    },
    {
      "cell_type": "code",
      "source": [
        "from utils import heatmap_animation, descriptor\n",
        "%matplotlib inline\n",
        "\n",
        "heatmap_animation(lambda i: X[i], name='coordinates', vmin=-3.5, vmax=1)\n",
        "heatmap_animation(lambda i: descriptor(X[i]).reshape(4, 4), name='descriptors', center=0, vmax=1.0)"
      ],
      "outputs": [
        {
          "output_type": "stream",
          "name": "stderr",
          "text": [
            "WARNING:matplotlib.animation:MovieWriter ffmpeg unavailable; using Pillow instead.\n",
            "WARNING:matplotlib.animation:MovieWriter ffmpeg unavailable; using Pillow instead.\n"
          ]
        },
        {
          "output_type": "display_data",
          "data": {
            "text/plain": "<Figure size 432x288 with 2 Axes>",
            "image/png": "[encoded data removed]"
          },
          "metadata": {
            "needs_background": "light"
          }
        },
        {
          "output_type": "display_data",
          "data": {
            "text/plain": "<Figure size 432x288 with 2 Axes>",
            "image/png": "[encoded data removed]"
          },
          "metadata": {
            "needs_background": "light"
          }
        }
      ],
      "execution_count": 3,
      "metadata": {
        "collapsed": true,
        "execution": {
          "iopub.execute_input": "2020-11-13T09:48:43.400Z",
          "iopub.status.busy": "2020-11-13T09:48:43.394Z",
          "iopub.status.idle": "2020-11-13T09:48:52.058Z",
          "shell.execute_reply": "2020-11-13T09:48:52.131Z"
        },
        "jupyter": {
          "outputs_hidden": false,
          "source_hidden": false
        },
        "nteract": {
          "transient": {
            "deleting": false
          }
        }
      }
    },
    {
      "cell_type": "markdown",
      "source": [
        "The following are the coordinates\n",
        "![SegmentLocal](images/coordinates.gif \"coordinates\")\n",
        "and descriptors\n",
        "![SegmentLocal](images/descriptors.gif \"descriptors\")\n",
        "for the first few training samples."
      ],
      "metadata": {
        "nteract": {
          "transient": {
            "deleting": false
          }
        }
      }
    },
    {
      "cell_type": "markdown",
      "source": [
        "The dipole moment is a three-dimensional quantity. To learn this vector-valued function, we will need to adjust our KRR model.\n",
        "\n",
        "### Model\n",
        "our predictor is given by \n",
        "\n",
        "$$ \\begin{equation} \\vec{\\mu} (\\textbf{x}) = \\sum_{l=1}^{M} \\kappa_{rHess}^{(3\\times 3)}(\\textbf{x},\\textbf{x}_l) \\vec{\\alpha}_l \\end{equation} $$\n",
        "\n",
        "where $\\kappa_{rHess}^{(3\\times 3)}(\\textbf{x},\\textbf{x}_l)$ is now not a scalar, but a 3x3 matrix given by\n",
        "\n",
        "$$ \\begin{equation} \\kappa_{rHess}^{(3\\times 3)}(\\textbf{x},\\textbf{x}_l) =\\sum_{i,j=1}^{N} \\text{Hess}_{ij}[\\kappa(\\textbf{x},\\textbf{x}_l)] \\end{equation} $$\n",
        "\n",
        "with\n",
        "\n",
        "$$\n",
        "\\begin{equation}\n",
        "(\\text{Hess}_{ij}[\\kappa(\\textbf{x},\\textbf{x}_l)])_{km} = \\frac{\\partial^2 \\kappa(\\textbf{x},\\textbf{x}_l)}{\\partial (\\textbf{x}_l)_{ik} \\partial (\\textbf{x}_l)_{jm}}\n",
        "\\end{equation}\n",
        "$$\n",
        "\n",
        "The Hessian of the similarity measure at $\\textbf{x}$ is composed of the second derivatives of each pair of input elements, $(Hess)_{ikjm} = \\frac{\\partial^2 \\kappa(\\textbf{x},\\textbf{x}_l)}{\\partial (\\textbf{x}_l)_{ik} \\partial (\\textbf{x}_l)_{jm}}$. In this case our data has two dimensions, so the Hessian has four. We will compute the derivatives using the Jax library."
      ],
      "metadata": {
        "nteract": {
          "transient": {
            "deleting": false
          }
        }
      }
    },
    {
      "cell_type": "code",
      "source": [
        "from jax import jacfwd, jacrev\n",
        "def hessian(f):\n",
        "    return jacfwd(jacrev(f))"
      ],
      "outputs": [],
      "execution_count": 4,
      "metadata": {
        "execution": {
          "iopub.execute_input": "2020-11-13T09:48:52.077Z",
          "iopub.status.busy": "2020-11-13T09:48:52.069Z",
          "iopub.status.idle": "2020-11-13T09:48:52.091Z",
          "shell.execute_reply": "2020-11-13T09:48:52.135Z"
        },
        "jupyter": {
          "outputs_hidden": false,
          "source_hidden": false
        },
        "nteract": {
          "transient": {
            "deleting": false
          }
        }
      }
    },
    {
      "cell_type": "code",
      "source": [
        "from utils import gaussian, fill_diagonal\n",
        "\n",
        "_gaussian = partial(gaussian, X[0])\n",
        "_hess = hessian(_gaussian)\n",
        "print(_hess(X[1]).shape)"
      ],
      "outputs": [
        {
          "output_type": "stream",
          "name": "stdout",
          "text": [
            "(4, 3, 4, 3)\n"
          ]
        }
      ],
      "execution_count": 21,
      "metadata": {
        "collapsed": true,
        "execution": {
          "iopub.execute_input": "2020-11-13T10:14:53.794Z",
          "iopub.status.busy": "2020-11-13T10:14:53.785Z",
          "iopub.status.idle": "2020-11-13T10:14:53.849Z",
          "shell.execute_reply": "2020-11-13T10:14:53.857Z"
        },
        "jupyter": {
          "outputs_hidden": false,
          "source_hidden": false
        },
        "nteract": {
          "transient": {
            "deleting": false
          }
        }
      }
    },
    {
      "cell_type": "markdown",
      "source": [
        "The hessians of the similarity comparing to the first point in our dataset look as follows:\n",
        "![SegmentLocal](images/hessians.gif \"hessians\")\n",
        "We can also observe that $\\text{Hess}_{ij}[\\kappa(\\textbf{x},\\textbf{x}_l)] + \\text{Hess}_{ji}[\\kappa(\\textbf{x},\\textbf{x}_l)]$, is always symmetric, which will cause our 3x3 kernel to also be symmetric."
      ],
      "metadata": {}
    },
    {
      "cell_type": "code",
      "source": [
        "def hess_at(H, i, j):\n",
        "    return H[i, :, j, :]\n",
        "\n",
        "def symmetric(H):\n",
        "    return np.allclose(H, H.T)\n",
        "\n",
        "for k in range(3):\n",
        "    H = _hess(X[k])\n",
        "    for i in range(4):\n",
        "        for j in range(4):\n",
        "            print(symmetric(hess_at(H, i, j) + hess_at(H, j, i)), end=' ')\n",
        "    print()"
      ],
      "outputs": [
        {
          "output_type": "stream",
          "name": "stdout",
          "text": [
            "True True True True True True True True True True True True True True True True \n",
            "True True True True True True True True True True True True True True True True \n",
            "True True True True True True True True True True True True True True True True \n"
          ]
        }
      ],
      "execution_count": 6,
      "metadata": {
        "execution": {
          "iopub.execute_input": "2020-11-13T09:48:56.470Z",
          "iopub.status.busy": "2020-11-13T09:48:56.460Z",
          "iopub.status.idle": "2020-11-13T09:48:57.059Z",
          "shell.execute_reply": "2020-11-13T09:48:57.117Z"
        },
        "jupyter": {
          "outputs_hidden": false,
          "source_hidden": false
        },
        "nteract": {
          "transient": {
            "deleting": false
          }
        }
      }
    },
    {
      "cell_type": "code",
      "source": [
        "@jit\n",
        "def kernel(x, x_, sigma=1):\n",
        "    _gaussian = partial(gaussian, x, sigma=sigma)\n",
        "    hess = hessian(_gaussian)\n",
        "    H = hess(x_)\n",
        "    K = np.zeros((3,3))\n",
        "    for i in range(4):\n",
        "        for j in range(4):\n",
        "            new = hess_at(H, i, j)\n",
        "            K += new\n",
        "    return K"
      ],
      "outputs": [],
      "execution_count": 7,
      "metadata": {
        "collapsed": true,
        "execution": {
          "iopub.execute_input": "2020-11-13T09:48:57.074Z",
          "iopub.status.busy": "2020-11-13T09:48:57.068Z",
          "iopub.status.idle": "2020-11-13T09:48:57.084Z",
          "shell.execute_reply": "2020-11-13T09:48:57.120Z"
        },
        "jupyter": {
          "outputs_hidden": false,
          "source_hidden": false
        },
        "nteract": {
          "transient": {
            "deleting": false
          }
        }
      }
    },
    {
      "cell_type": "code",
      "source": [
        "heatmap_animation(lambda i: kernel(X[0], X[i]), name='kernels', center=0, vmax=2*1e-7, vmin=-2*1e-7)"
      ],
      "outputs": [],
      "execution_count": null,
      "metadata": {
        "collapsed": true,
        "execution": {
          "iopub.status.busy": "2020-11-13T09:48:57.093Z",
          "iopub.execute_input": "2020-11-13T09:48:57.098Z",
          "iopub.status.idle": "2020-11-13T09:49:00.875Z",
          "shell.execute_reply": "2020-11-13T09:49:00.933Z"
        }
      }
    },
    {
      "cell_type": "markdown",
      "source": [
        "![kernels](images/kernels.gif \"kernels\")"
      ],
      "metadata": {}
    },
    {
      "cell_type": "code",
      "source": [
        "@jit\n",
        "def kernel_matrix(X, sigma=1):\n",
        "    _kernel = partial(kernel, sigma=sigma)\n",
        "    @vmap\n",
        "    def _kernels(x):\n",
        "        vec_kernel = vmap(partial(_kernel, x))\n",
        "        return vec_kernel(X)\n",
        "    K = _kernels(X)\n",
        "    blocks = [list(x) for x in K]\n",
        "    return np.block(blocks)"
      ],
      "outputs": [],
      "execution_count": 9,
      "metadata": {
        "execution": {
          "iopub.execute_input": "2020-11-13T09:49:00.892Z",
          "iopub.status.busy": "2020-11-13T09:49:00.885Z",
          "iopub.status.idle": "2020-11-13T09:49:00.902Z",
          "shell.execute_reply": "2020-11-13T09:49:00.937Z"
        },
        "jupyter": {
          "outputs_hidden": false,
          "source_hidden": false
        },
        "nteract": {
          "transient": {
            "deleting": false
          }
        }
      }
    },
    {
      "cell_type": "code",
      "source": [
        "from utils import matrix_heatmap\n",
        "\n",
        "K = kernel_matrix(X[:30])\n",
        "matrix_heatmap(K, center=0)"
      ],
      "outputs": [
        {
          "output_type": "display_data",
          "data": {
            "text/plain": "<Figure size 432x288 with 2 Axes>",
            "image/png": "[encoded data removed]"
          },
          "metadata": {
            "needs_background": "light"
          }
        }
      ],
      "execution_count": 10,
      "metadata": {
        "execution": {
          "iopub.status.busy": "2020-11-13T09:49:00.913Z",
          "iopub.execute_input": "2020-11-13T09:49:00.919Z",
          "iopub.status.idle": "2020-11-13T09:49:06.798Z",
          "shell.execute_reply": "2020-11-13T09:49:06.860Z"
        }
      }
    },
    {
      "cell_type": "markdown",
      "source": [
        "Similar to single-valued KRR, we compute the parameters $\\alpha$ which minimize error analytically. They are given by\n",
        "$$\n",
        "\\begin{equation}\\label{eq:KRRsol}\n",
        "\\alpha = [K_{\\text{rHess}}^{(3\\times 3)}(\\textbf{X},\\textbf{X}')-\\lambda\\textbf{I}]^{-1} \\mu(\\textbf{X})\n",
        "\\end{equation}\n",
        "$$\n",
        "\n",
        "Instead of inverting (expensive) we will solve the linear system of equations $[K_{\\text{rHess}}^{(3\\times 3)}(\\textbf{X},\\textbf{X}')-\\lambda\\textbf{I}] \\alpha = \\mu(\\textbf{X})$."
      ],
      "metadata": {}
    },
    {
      "cell_type": "code",
      "source": [
        "from utils import KRR\n",
        "\n",
        "class VectorValuedKRR(KRR):\n",
        "\n",
        "    def fit(self, X, y):\n",
        "        self.X = X\n",
        "        samples = X.shape[0]\n",
        "        K = kernel_matrix(X, sigma=self.sigma)\n",
        "        y = y.reshape(samples * 3)\n",
        "        K = fill_diagonal(K, K.diagonal() + self.lamb)\n",
        "        alphas = np.linalg.solve(K, y)\n",
        "        self.alphas = alphas.reshape(samples, 3)\n",
        "\n",
        "    def predict(self, x):\n",
        "        def contribution(i, x):\n",
        "            return kernel(x, X[i], sigma=self.sigma) @ self.alphas[i]\n",
        "        @vmap\n",
        "        def predict(x):\n",
        "            indices = np.arange(self.samples)\n",
        "            _contribution = vmap(partial(contribution, x=x))\n",
        "            contributions = _contribution(indices)\n",
        "            mu = np.sum(contributions, axis=0)\n",
        "            return mu\n",
        "        results = predict(x)\n",
        "        return np.array(results)\n",
        "\n",
        "    def score(self, x, y):\n",
        "        yhat = self.predict(x)\n",
        "        return -np.mean(np.sum(np.abs(y - yhat), axis=1))"
      ],
      "outputs": [],
      "execution_count": 11,
      "metadata": {
        "execution": {
          "iopub.execute_input": "2020-11-13T09:49:06.815Z",
          "iopub.status.busy": "2020-11-13T09:49:06.808Z",
          "iopub.status.idle": "2020-11-13T09:49:06.825Z",
          "shell.execute_reply": "2020-11-13T09:49:06.864Z"
        },
        "jupyter": {
          "outputs_hidden": false,
          "source_hidden": false
        },
        "nteract": {
          "transient": {
            "deleting": false
          }
        }
      }
    },
    {
      "cell_type": "code",
      "source": [
        "model = VectorValuedKRR(lamb=1e-5, sigma=1.5)\n",
        "model.fit(X[:10], y[:10])"
      ],
      "outputs": [],
      "execution_count": 12,
      "metadata": {
        "execution": {
          "iopub.execute_input": "2020-11-13T09:49:06.845Z",
          "iopub.status.busy": "2020-11-13T09:49:06.838Z",
          "iopub.status.idle": "2020-11-13T09:49:09.746Z",
          "shell.execute_reply": "2020-11-13T09:49:09.774Z"
        },
        "jupyter": {
          "outputs_hidden": false,
          "source_hidden": false
        },
        "nteract": {
          "transient": {
            "deleting": false
          }
        }
      }
    },
    {
      "cell_type": "code",
      "source": [
        "print(model.predict(X[:2]))\n",
        "print(y[:2])"
      ],
      "outputs": [
        {
          "output_type": "stream",
          "name": "stdout",
          "text": [
            "[[-0.0063533   0.01706114 -0.00656229]\n",
            " [ 0.00074096 -0.01171887  0.00363207]]\n",
            "[[ 0.06685546 -0.3067279  -0.58624345]\n",
            " [ 0.06524433 -0.3048814  -0.58123165]]\n"
          ]
        }
      ],
      "execution_count": 13,
      "metadata": {
        "execution": {
          "iopub.execute_input": "2020-11-13T09:49:09.764Z",
          "iopub.status.busy": "2020-11-13T09:49:09.756Z",
          "iopub.status.idle": "2020-11-13T09:49:11.569Z",
          "shell.execute_reply": "2020-11-13T09:49:11.601Z"
        },
        "jupyter": {
          "outputs_hidden": false,
          "source_hidden": false
        },
        "nteract": {
          "transient": {
            "deleting": false
          }
        }
      }
    },
    {
      "cell_type": "code",
      "source": [
        "model.score(X[50:60], y[50:60])"
      ],
      "outputs": [
        {
          "output_type": "execute_result",
          "execution_count": 14,
          "data": {
            "text/plain": "DeviceArray(-0.6183566, dtype=float32)"
          },
          "metadata": {}
        }
      ],
      "execution_count": 14,
      "metadata": {
        "execution": {
          "iopub.execute_input": "2020-11-13T09:49:11.587Z",
          "iopub.status.busy": "2020-11-13T09:49:11.580Z",
          "iopub.status.idle": "2020-11-13T09:49:13.226Z",
          "shell.execute_reply": "2020-11-13T09:49:13.239Z"
        },
        "jupyter": {
          "outputs_hidden": false,
          "source_hidden": false
        },
        "nteract": {
          "transient": {
            "deleting": false
          }
        }
      }
    },
    {
      "cell_type": "markdown",
      "source": [
        "A hyperparameter search was performed for different data subset sizes similar to the energy prediction task. The resulting learning curve comprised of the test scores of the winning models for each sample size is shown.\n",
        "![learningCurve](real_learning_curve.png \"learning curve\")"
      ],
      "metadata": {
        "nteract": {
          "transient": {
            "deleting": false
          }
        }
      }
    },
    {
      "cell_type": "markdown",
      "source": [
        "## Conclusion\n",
        "\n",
        "We have extended KRR to model a function with vector output. Some components of the learning contain symmetries, which can be used to check the implementation correctness. This model achieved a low training loss even with very few training examples. As a next step, we will learn forces, a function that maps to $\\mathbb{R}^{4 \\times 3}$."
      ],
      "metadata": {}
    }
  ],
  "metadata": {
    "kernel_info": {
      "name": "python3"
    },
    "kernelspec": {
      "display_name": "Python 3",
      "language": "python",
      "name": "python3"
    },
    "language_info": {
      "name": "python",
      "version": "3.8.5",
      "mimetype": "text/x-python",
      "codemirror_mode": {
        "name": "ipython",
        "version": 3
      },
      "pygments_lexer": "ipython3",
      "nbconvert_exporter": "python",
      "file_extension": ".py"
    },
    "nteract": {
      "version": "0.26.0"
    }
  },
  "nbformat": 4,
  "nbformat_minor": 1
}