{
  "cells": [
    {
      "cell_type": "code",
      "source": [
        "import jax.numpy as np\n",
        "import jax.ops\n",
        "from jax import grad, jit\n",
        "from functools import partial"
      ],
      "outputs": [],
      "execution_count": 1,
      "metadata": {
        "collapsed": true,
        "jupyter": {
          "source_hidden": false,
          "outputs_hidden": false
        },
        "nteract": {
          "transient": {
            "deleting": false
          }
        },
        "execution": {
          "iopub.status.busy": "2020-11-03T15:18:57.187Z",
          "iopub.execute_input": "2020-11-03T15:18:57.193Z",
          "iopub.status.idle": "2020-11-03T15:18:57.814Z",
          "shell.execute_reply": "2020-11-03T15:18:57.833Z"
        }
      }
    },
    {
      "cell_type": "code",
      "source": [
        "data = np.load('data/HOOH.DFT.PBE-TS.light.MD.500K.50k.R_E_F_D_Q.npz')\n",
        "X = np.array(data['R'][:10])\n",
        "y = np.array(data['D'][:10])"
      ],
      "outputs": [],
      "execution_count": 11,
      "metadata": {
        "collapsed": true,
        "jupyter": {
          "source_hidden": false,
          "outputs_hidden": false
        },
        "nteract": {
          "transient": {
            "deleting": false
          }
        },
        "execution": {
          "iopub.status.busy": "2020-11-03T15:20:53.922Z",
          "iopub.execute_input": "2020-11-03T15:20:53.928Z",
          "iopub.status.idle": "2020-11-03T15:20:53.936Z",
          "shell.execute_reply": "2020-11-03T15:20:53.941Z"
        }
      }
    },
    {
      "cell_type": "code",
      "source": [
        "import warnings\n",
        "warnings.filterwarnings('ignore')"
      ],
      "outputs": [],
      "execution_count": 3,
      "metadata": {
        "collapsed": true,
        "jupyter": {
          "source_hidden": false,
          "outputs_hidden": false
        },
        "nteract": {
          "transient": {
            "deleting": false
          }
        },
        "execution": {
          "iopub.status.busy": "2020-11-03T15:18:57.943Z",
          "iopub.execute_input": "2020-11-03T15:18:57.947Z",
          "iopub.status.idle": "2020-11-03T15:18:57.957Z",
          "shell.execute_reply": "2020-11-03T15:18:57.962Z"
        }
      }
    },
    {
      "cell_type": "code",
      "source": [
        "from IPython import embed"
      ],
      "outputs": [],
      "execution_count": 12,
      "metadata": {
        "collapsed": true,
        "jupyter": {
          "source_hidden": false,
          "outputs_hidden": false
        },
        "nteract": {
          "transient": {
            "deleting": false
          }
        },
        "execution": {
          "iopub.status.busy": "2020-11-03T15:20:57.417Z",
          "iopub.execute_input": "2020-11-03T15:20:57.423Z",
          "iopub.status.idle": "2020-11-03T15:20:57.432Z",
          "shell.execute_reply": "2020-11-03T15:20:57.439Z"
        }
      }
    },
    {
      "cell_type": "code",
      "source": [
        "def fill_diagonal(a, value):\n",
        "    return jax.ops.index_update(a, np.diag_indices(a.shape[0]), value)\n",
        "\n",
        "def descriptor(x):\n",
        "    distances = np.sum((x[:, None] - x[None, :])**2, axis=-1)\n",
        "    distances = fill_diagonal(distances, 1) # because sqrt fails to compute gradient if called on 0s\n",
        "    distances = np.sqrt(distances)\n",
        "    D = 1 / distances\n",
        "    D = np.tril(D)\n",
        "    D = fill_diagonal(D, 0)\n",
        "    return D.flatten()"
      ],
      "outputs": [],
      "execution_count": 54,
      "metadata": {
        "collapsed": true,
        "jupyter": {
          "source_hidden": false,
          "outputs_hidden": false
        },
        "nteract": {
          "transient": {
            "deleting": false
          }
        },
        "execution": {
          "iopub.status.busy": "2020-11-03T18:20:35.733Z",
          "iopub.execute_input": "2020-11-03T18:20:35.739Z",
          "iopub.status.idle": "2020-11-03T18:20:35.749Z",
          "shell.execute_reply": "2020-11-03T18:20:35.756Z"
        }
      }
    },
    {
      "cell_type": "code",
      "source": [
        "def gaussian(x, x_, sigma=1):\n",
        "    d, d_ = descriptor(x), descriptor(x_)\n",
        "    sq_distance = np.sum((d - d_)**2)\n",
        "    return np.exp(-sq_distance / sigma)\n",
        "    "
      ],
      "outputs": [],
      "execution_count": 55,
      "metadata": {
        "collapsed": true,
        "jupyter": {
          "source_hidden": false,
          "outputs_hidden": false
        },
        "nteract": {
          "transient": {
            "deleting": false
          }
        },
        "execution": {
          "iopub.status.busy": "2020-11-03T18:20:36.982Z",
          "iopub.execute_input": "2020-11-03T18:20:36.990Z",
          "iopub.status.idle": "2020-11-03T18:20:37.000Z",
          "shell.execute_reply": "2020-11-03T18:20:37.005Z"
        }
      }
    },
    {
      "cell_type": "code",
      "source": [
        "from jax import jacfwd, jacrev\n",
        "def hessian(f):\n",
        "    return jacfwd(jacrev(f))"
      ],
      "outputs": [],
      "execution_count": 56,
      "metadata": {
        "collapsed": true,
        "jupyter": {
          "source_hidden": false,
          "outputs_hidden": false
        },
        "nteract": {
          "transient": {
            "deleting": false
          }
        },
        "execution": {
          "iopub.status.busy": "2020-11-03T18:20:37.436Z",
          "iopub.execute_input": "2020-11-03T18:20:37.444Z",
          "iopub.status.idle": "2020-11-03T18:20:37.452Z",
          "shell.execute_reply": "2020-11-03T18:20:37.457Z"
        }
      }
    },
    {
      "cell_type": "code",
      "source": [
        "from jax.config import config\n",
        "config.update(\"jax_debug_nans\", True)"
      ],
      "outputs": [],
      "execution_count": 57,
      "metadata": {
        "collapsed": true,
        "jupyter": {
          "source_hidden": false,
          "outputs_hidden": false
        },
        "nteract": {
          "transient": {
            "deleting": false
          }
        },
        "execution": {
          "iopub.status.busy": "2020-11-03T18:20:37.862Z",
          "iopub.execute_input": "2020-11-03T18:20:37.867Z",
          "iopub.status.idle": "2020-11-03T18:20:37.875Z",
          "shell.execute_reply": "2020-11-03T18:20:37.880Z"
        }
      }
    },
    {
      "cell_type": "code",
      "source": [
        "_gaussian = partial(gaussian, X[0])\n",
        "hess = hessian(_gaussian)\n",
        "hess(X[1]).shape"
      ],
      "outputs": [
        {
          "output_type": "execute_result",
          "execution_count": 59,
          "data": {
            "text/plain": "(4, 3, 4, 3)"
          },
          "metadata": {}
        }
      ],
      "execution_count": 59,
      "metadata": {
        "collapsed": false,
        "jupyter": {
          "source_hidden": false,
          "outputs_hidden": false
        },
        "nteract": {
          "transient": {
            "deleting": false
          }
        },
        "execution": {
          "iopub.status.busy": "2020-11-03T18:20:48.804Z",
          "iopub.execute_input": "2020-11-03T18:20:48.810Z",
          "iopub.status.idle": "2020-11-03T18:20:48.903Z",
          "shell.execute_reply": "2020-11-03T18:20:48.915Z"
        }
      }
    },
    {
      "cell_type": "code",
      "source": [
        "x, x_ = X[0], X[1]\n",
        "d, d_ = descriptor(x), descriptor(x_)\n",
        "sq_distance = np.sum((d - d_)**2)"
      ],
      "outputs": [],
      "execution_count": 9,
      "metadata": {
        "collapsed": true,
        "jupyter": {
          "source_hidden": false,
          "outputs_hidden": false
        },
        "nteract": {
          "transient": {
            "deleting": false
          }
        },
        "execution": {
          "iopub.status.busy": "2020-11-03T15:20:29.264Z",
          "iopub.execute_input": "2020-11-03T15:20:29.271Z",
          "iopub.status.idle": "2020-11-03T15:20:29.504Z",
          "shell.execute_reply": "2020-11-03T15:20:29.509Z"
        }
      }
    },
    {
      "cell_type": "code",
      "source": [
        "sq_distance"
      ],
      "outputs": [
        {
          "output_type": "execute_result",
          "execution_count": 28,
          "data": {
            "text/plain": "DeviceArray(0.00263891, dtype=float32)"
          },
          "metadata": {}
        }
      ],
      "execution_count": 28,
      "metadata": {
        "collapsed": true,
        "jupyter": {
          "source_hidden": false,
          "outputs_hidden": false
        },
        "nteract": {
          "transient": {
            "deleting": false
          }
        },
        "execution": {
          "iopub.status.busy": "2020-11-03T14:36:28.754Z",
          "iopub.execute_input": "2020-11-03T14:36:28.759Z",
          "iopub.status.idle": "2020-11-03T14:36:28.773Z",
          "shell.execute_reply": "2020-11-03T14:36:28.778Z"
        }
      }
    },
    {
      "cell_type": "code",
      "source": [
        "\n",
        "\n",
        "\n",
        "\n",
        "\n",
        "\n",
        "\n",
        "\n",
        "\n",
        "\n",
        "\n",
        "\n",
        "\n",
        "\n",
        "\n",
        "\n",
        "\n",
        "\n",
        "\n",
        "\n",
        "\n",
        "\n"
      ],
      "outputs": [],
      "execution_count": null,
      "metadata": {
        "collapsed": true,
        "jupyter": {
          "source_hidden": false,
          "outputs_hidden": false
        },
        "nteract": {
          "transient": {
            "deleting": false
          }
        }
      }
    }
  ],
  "metadata": {
    "kernel_info": {
      "name": "python3"
    },
    "language_info": {
      "name": "python",
      "version": "3.8.5",
      "mimetype": "text/x-python",
      "codemirror_mode": {
        "name": "ipython",
        "version": 3
      },
      "pygments_lexer": "ipython3",
      "nbconvert_exporter": "python",
      "file_extension": ".py"
    },
    "kernelspec": {
      "argv": [
        "/usr/local/bin/python3",
        "-m",
        "ipykernel_launcher",
        "-f",
        "{connection_file}"
      ],
      "display_name": "Python 3",
      "language": "python",
      "name": "python3"
    },
    "nteract": {
      "version": "0.26.0"
    }
  },
  "nbformat": 4,
  "nbformat_minor": 0
}