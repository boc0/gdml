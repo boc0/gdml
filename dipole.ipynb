{
  "cells": [
    {
      "cell_type": "code",
      "source": [
        "import jax.numpy as np\n",
        "import jax.ops\n",
        "from jax import grad, jit, vmap\n",
        "from functools import partial\n"
      ],
      "outputs": [],
      "execution_count": 2,
      "metadata": {
        "collapsed": true,
        "jupyter": {
          "source_hidden": false,
          "outputs_hidden": false
        },
        "nteract": {
          "transient": {
            "deleting": false
          }
        },
        "execution": {
          "iopub.status.busy": "2020-11-04T18:38:59.580Z",
          "iopub.execute_input": "2020-11-04T18:38:59.590Z",
          "iopub.status.idle": "2020-11-04T18:38:59.864Z",
          "shell.execute_reply": "2020-11-04T18:38:59.875Z"
        }
      }
    },
    {
      "cell_type": "code",
      "source": [
        "import seaborn as sns\n",
        "import matplotlib.pyplot as plt\n",
        "from matplotlib import animation"
      ],
      "outputs": [],
      "execution_count": 15,
      "metadata": {
        "collapsed": true,
        "jupyter": {
          "source_hidden": false,
          "outputs_hidden": false
        },
        "nteract": {
          "transient": {
            "deleting": false
          }
        },
        "execution": {
          "iopub.status.busy": "2020-11-04T18:51:25.880Z",
          "iopub.execute_input": "2020-11-04T18:51:25.890Z",
          "iopub.status.idle": "2020-11-04T18:51:25.905Z",
          "shell.execute_reply": "2020-11-04T18:51:25.913Z"
        }
      }
    },
    {
      "cell_type": "code",
      "source": [
        "data = np.load('data/HOOH.DFT.PBE-TS.light.MD.500K.50k.R_E_F_D_Q.npz')\n",
        "X = np.array(data['R'][:1000])\n",
        "y = np.array(data['D'][:1000])"
      ],
      "outputs": [],
      "execution_count": 7,
      "metadata": {
        "collapsed": true,
        "jupyter": {
          "source_hidden": false,
          "outputs_hidden": false
        },
        "nteract": {
          "transient": {
            "deleting": false
          }
        },
        "execution": {
          "iopub.status.busy": "2020-11-04T18:39:33.805Z",
          "iopub.execute_input": "2020-11-04T18:39:33.814Z",
          "iopub.status.idle": "2020-11-04T18:39:33.843Z",
          "shell.execute_reply": "2020-11-04T18:39:33.855Z"
        }
      }
    },
    {
      "cell_type": "code",
      "source": [
        "def fill_diagonal(a, value):\n",
        "    return jax.ops.index_update(a, np.diag_indices(a.shape[0]), value)\n",
        "\n",
        "@jit\n",
        "def descriptor(x):\n",
        "    distances = np.sum((x[:, None] - x[None, :])**2, axis=-1)\n",
        "    distances = fill_diagonal(distances, 1) # because sqrt fails to compute gradient if called on 0s\n",
        "    distances = np.sqrt(distances)\n",
        "    D = 1 / distances\n",
        "    D = np.tril(D)\n",
        "    D = fill_diagonal(D, 0)\n",
        "    return D.flatten()"
      ],
      "outputs": [],
      "execution_count": 4,
      "metadata": {
        "collapsed": true,
        "jupyter": {
          "source_hidden": false,
          "outputs_hidden": false
        },
        "nteract": {
          "transient": {
            "deleting": false
          }
        },
        "execution": {
          "iopub.status.busy": "2020-11-04T18:39:07.787Z",
          "iopub.execute_input": "2020-11-04T18:39:07.798Z",
          "iopub.status.idle": "2020-11-04T18:39:07.813Z",
          "shell.execute_reply": "2020-11-04T18:39:07.823Z"
        }
      }
    },
    {
      "cell_type": "code",
      "source": [
        "kwargs = {'center': 0, 'vmax': 1.0, 'xticklabels': False, 'yticklabels': False }\n",
        "\n",
        "def animate(i):\n",
        "    plt.clf()\n",
        "    data = descriptor(X[i]).reshape(4, 4)\n",
        "    sns.heatmap(data, **kwargs)\n",
        "\n",
        "anim = animation.FuncAnimation(plt.figure(), animate, frames=20, repeat=False)\n",
        "anim.save('supz2.gif')"
      ],
      "outputs": [
        {
          "output_type": "stream",
          "name": "stderr",
          "text": [
            "WARNING:matplotlib.animation:MovieWriter ffmpeg unavailable; using Pillow instead.\n"
          ]
        },
        {
          "output_type": "display_data",
          "data": {
            "text/plain": "<Figure size 432x288 with 2 Axes>",
            "image/png": "[encoded data removed]"
          },
          "metadata": {
            "needs_background": "light"
          }
        }
      ],
      "execution_count": 14,
      "metadata": {
        "collapsed": true,
        "jupyter": {
          "source_hidden": false,
          "outputs_hidden": false
        },
        "nteract": {
          "transient": {
            "deleting": false
          }
        },
        "execution": {
          "iopub.status.busy": "2020-11-04T18:50:48.163Z",
          "iopub.execute_input": "2020-11-04T18:50:48.171Z",
          "iopub.status.idle": "2020-11-04T18:50:51.691Z",
          "shell.execute_reply": "2020-11-04T18:50:51.702Z"
        }
      }
    },
    {
      "cell_type": "code",
      "source": [
        "def heatmap_animation(generator, name='what', **heatmap_kwargs):\n",
        "    kwargs = {'xticklabels': False, 'yticklabels': False, **heatmap_kwargs}\n",
        "\n",
        "    def animate(i):\n",
        "        plt.clf()\n",
        "        data = generator(i)\n",
        "        sns.heatmap(data, **kwargs)\n",
        "\n",
        "    anim = animation.FuncAnimation(plt.figure(), animate, frames=20, repeat=False)\n",
        "    anim.save(f'{name}.gif')"
      ],
      "outputs": [],
      "execution_count": null,
      "metadata": {
        "collapsed": true,
        "jupyter": {
          "source_hidden": false,
          "outputs_hidden": false
        },
        "nteract": {
          "transient": {
            "deleting": false
          }
        },
        "execution": {
          "iopub.status.busy": "2020-11-04T19:04:59.589Z",
          "iopub.execute_input": "2020-11-04T19:04:59.599Z",
          "iopub.status.idle": "2020-11-04T19:05:03.179Z",
          "shell.execute_reply": "2020-11-04T19:05:03.190Z"
        }
      }
    },
    {
      "cell_type": "code",
      "source": [
        "heatmap_animation(lambda i: X[i], name='coordinates', vmin=-3.5, vmax=1)\n",
        "heatmap_animation(lambda i: descriptor(X[i]).reshape(4, 4), name='descriptors', center=0, vmax=1.0)"
      ],
      "outputs": [
        {
          "output_type": "stream",
          "name": "stderr",
          "text": [
            "WARNING:matplotlib.animation:MovieWriter ffmpeg unavailable; using Pillow instead.\n",
            "WARNING:matplotlib.animation:MovieWriter ffmpeg unavailable; using Pillow instead.\n"
          ]
        },
        {
          "output_type": "display_data",
          "data": {
            "text/plain": "<Figure size 432x288 with 2 Axes>",
            "image/png": "[encoded data removed]"
          },
          "metadata": {
            "needs_background": "light"
          }
        },
        {
          "output_type": "display_data",
          "data": {
            "text/plain": "<Figure size 432x288 with 2 Axes>",
            "image/png": "[encoded data removed]"
          },
          "metadata": {
            "needs_background": "light"
          }
        }
      ],
      "execution_count": 21,
      "metadata": {
        "collapsed": true,
        "jupyter": {
          "source_hidden": false,
          "outputs_hidden": false
        },
        "nteract": {
          "transient": {
            "deleting": false
          }
        },
        "execution": {
          "iopub.status.busy": "2020-11-04T19:12:11.932Z",
          "iopub.execute_input": "2020-11-04T19:12:11.941Z",
          "iopub.status.idle": "2020-11-04T19:12:18.347Z",
          "shell.execute_reply": "2020-11-04T19:12:18.356Z"
        }
      }
    },
    {
      "cell_type": "markdown",
      "source": [
        "The following are the coordinates\n",
        "![SegmentLocal](coordinates.gif \"coordinates\")\n",
        "and descriptors\n",
        "![SegmentLocal](descriptors.gif \"descriptors\")\n",
        "for the first few training samples"
      ],
      "metadata": {
        "nteract": {
          "transient": {
            "deleting": false
          }
        }
      }
    },
    {
      "cell_type": "code",
      "source": [
        "@jit\n",
        "def gaussian(x, x_, sigma=1):\n",
        "    d, d_ = descriptor(x), descriptor(x_)\n",
        "    sq_distance = np.sum((d - d_)**2)\n",
        "    return np.exp(-sq_distance / sigma)\n",
        "    "
      ],
      "outputs": [],
      "execution_count": 4,
      "metadata": {
        "collapsed": true,
        "jupyter": {
          "source_hidden": false,
          "outputs_hidden": false
        },
        "nteract": {
          "transient": {
            "deleting": false
          }
        },
        "execution": {
          "iopub.status.busy": "2020-11-04T13:25:57.607Z",
          "iopub.execute_input": "2020-11-04T13:25:57.614Z",
          "iopub.status.idle": "2020-11-04T13:25:57.627Z",
          "shell.execute_reply": "2020-11-04T13:25:57.635Z"
        }
      }
    },
    {
      "cell_type": "code",
      "source": [
        "from jax import jacfwd, jacrev\n",
        "def hessian(f):\n",
        "    return jacfwd(jacrev(f))"
      ],
      "outputs": [],
      "execution_count": 5,
      "metadata": {
        "collapsed": true,
        "jupyter": {
          "source_hidden": false,
          "outputs_hidden": false
        },
        "nteract": {
          "transient": {
            "deleting": false
          }
        },
        "execution": {
          "iopub.status.busy": "2020-11-04T13:25:58.109Z",
          "iopub.execute_input": "2020-11-04T13:25:58.117Z",
          "iopub.status.idle": "2020-11-04T13:25:58.130Z",
          "shell.execute_reply": "2020-11-04T13:25:58.137Z"
        }
      }
    },
    {
      "cell_type": "code",
      "source": [
        "from jax.config import config\n",
        "config.update(\"jax_debug_nans\", True)"
      ],
      "outputs": [],
      "execution_count": 6,
      "metadata": {
        "collapsed": true,
        "jupyter": {
          "source_hidden": false,
          "outputs_hidden": false
        },
        "nteract": {
          "transient": {
            "deleting": false
          }
        },
        "execution": {
          "iopub.status.busy": "2020-11-04T13:25:59.103Z",
          "iopub.execute_input": "2020-11-04T13:25:59.111Z",
          "iopub.status.idle": "2020-11-04T13:25:59.123Z",
          "shell.execute_reply": "2020-11-04T13:25:59.138Z"
        }
      }
    },
    {
      "cell_type": "code",
      "source": [
        "_gaussian = partial(gaussian, X[0])\n",
        "hess = hessian(_gaussian)\n",
        "hess(X[1]).shape"
      ],
      "outputs": [
        {
          "output_type": "execute_result",
          "execution_count": 7,
          "data": {
            "text/plain": "(4, 3, 4, 3)"
          },
          "metadata": {}
        }
      ],
      "execution_count": 7,
      "metadata": {
        "collapsed": false,
        "jupyter": {
          "source_hidden": false,
          "outputs_hidden": false
        },
        "nteract": {
          "transient": {
            "deleting": false
          }
        },
        "execution": {
          "iopub.status.busy": "2020-11-04T13:25:59.523Z",
          "iopub.execute_input": "2020-11-04T13:25:59.532Z",
          "iopub.status.idle": "2020-11-04T13:26:00.435Z",
          "shell.execute_reply": "2020-11-04T13:26:00.452Z"
        }
      }
    },
    {
      "cell_type": "code",
      "source": [
        "def hess_ij(H):\n",
        "    return np.sum(H, axis=(0, 2))\n",
        "    K = np.zeros((3, 3))\n",
        "    for i in range(3):\n",
        "        for j in range(3):\n",
        "            value = np.sum(H[:, i, :, j])\n",
        "            K = jax.ops.index_update(K, jax.ops.index[i, j], value)\n",
        "    return K"
      ],
      "outputs": [],
      "execution_count": 79,
      "metadata": {
        "collapsed": true,
        "jupyter": {
          "source_hidden": false,
          "outputs_hidden": false
        },
        "nteract": {
          "transient": {
            "deleting": false
          }
        },
        "execution": {
          "iopub.status.busy": "2020-11-04T14:01:33.489Z",
          "iopub.execute_input": "2020-11-04T14:01:33.496Z",
          "iopub.status.idle": "2020-11-04T14:01:33.509Z",
          "shell.execute_reply": "2020-11-04T14:01:33.516Z"
        }
      }
    },
    {
      "cell_type": "code",
      "source": [
        "H = hess(X[1])\n",
        "%timeit np.sum(H, axis=(0, 2))\n",
        "%timeit hess_ij(H)"
      ],
      "outputs": [
        {
          "output_type": "stream",
          "name": "stdout",
          "text": [
            "190 µs ± 29.9 µs per loop (mean ± std. dev. of 7 runs, 1000 loops each)\n",
            "37.2 ms ± 487 µs per loop (mean ± std. dev. of 7 runs, 10 loops each)\n"
          ]
        }
      ],
      "execution_count": 78,
      "metadata": {
        "collapsed": true,
        "jupyter": {
          "source_hidden": false,
          "outputs_hidden": false
        },
        "nteract": {
          "transient": {
            "deleting": false
          }
        },
        "execution": {
          "iopub.status.busy": "2020-11-04T14:00:30.117Z",
          "iopub.execute_input": "2020-11-04T14:00:30.126Z",
          "iopub.status.idle": "2020-11-04T14:00:34.815Z",
          "shell.execute_reply": "2020-11-04T14:00:34.832Z"
        }
      }
    },
    {
      "cell_type": "code",
      "source": [
        "@jit\n",
        "def kernel(x, x_):\n",
        "    _gaussian = partial(gaussian, x)\n",
        "    hess = hessian(_gaussian)\n",
        "    return hess_ij(hess(x_))"
      ],
      "outputs": [],
      "execution_count": 80,
      "metadata": {
        "collapsed": true,
        "jupyter": {
          "source_hidden": false,
          "outputs_hidden": false
        },
        "nteract": {
          "transient": {
            "deleting": false
          }
        },
        "execution": {
          "iopub.status.busy": "2020-11-04T14:01:37.319Z",
          "iopub.execute_input": "2020-11-04T14:01:37.326Z",
          "iopub.status.idle": "2020-11-04T14:01:37.339Z",
          "shell.execute_reply": "2020-11-04T14:01:37.347Z"
        }
      }
    },
    {
      "cell_type": "code",
      "source": [
        "def kernel_matrix(X):\n",
        "    samples = X.shape[0]\n",
        "    # K = np.zeros((samples, samples, 3, 3))\n",
        "    K = list()\n",
        "    for i in range(samples):\n",
        "        K.append(list())\n",
        "        for j in range(samples):\n",
        "            # K = jax.ops.index_update(K, jax.ops.index[i, j], kernel(X[i], X[j]))\n",
        "            K[i].append(kernel(X[i], X[j]))\n",
        "    K = np.block(K)\n",
        "    return K"
      ],
      "outputs": [],
      "execution_count": 81,
      "metadata": {
        "collapsed": true,
        "jupyter": {
          "source_hidden": false,
          "outputs_hidden": false
        },
        "nteract": {
          "transient": {
            "deleting": false
          }
        },
        "execution": {
          "iopub.status.busy": "2020-11-04T14:01:39.178Z",
          "iopub.execute_input": "2020-11-04T14:01:39.184Z",
          "iopub.status.idle": "2020-11-04T14:01:39.195Z",
          "shell.execute_reply": "2020-11-04T14:01:39.202Z"
        }
      }
    },
    {
      "cell_type": "code",
      "source": [
        "K = kernel_matrix(X[:10])"
      ],
      "outputs": [],
      "execution_count": 58,
      "metadata": {
        "collapsed": true,
        "jupyter": {
          "source_hidden": false,
          "outputs_hidden": false
        },
        "nteract": {
          "transient": {
            "deleting": false
          }
        },
        "execution": {
          "iopub.status.busy": "2020-11-04T13:56:54.249Z",
          "iopub.execute_input": "2020-11-04T13:56:54.257Z",
          "iopub.status.idle": "2020-11-04T13:56:55.295Z",
          "shell.execute_reply": "2020-11-04T13:56:55.344Z"
        }
      }
    },
    {
      "cell_type": "code",
      "source": [
        "K.shape"
      ],
      "outputs": [
        {
          "output_type": "execute_result",
          "execution_count": 59,
          "data": {
            "text/plain": "(30, 30)"
          },
          "metadata": {}
        }
      ],
      "execution_count": 59,
      "metadata": {
        "collapsed": true,
        "jupyter": {
          "source_hidden": false,
          "outputs_hidden": false
        },
        "nteract": {
          "transient": {
            "deleting": false
          }
        },
        "execution": {
          "iopub.status.busy": "2020-11-04T13:56:55.305Z",
          "iopub.execute_input": "2020-11-04T13:56:55.311Z",
          "iopub.status.idle": "2020-11-04T13:56:55.325Z",
          "shell.execute_reply": "2020-11-04T13:56:55.348Z"
        }
      }
    },
    {
      "cell_type": "code",
      "source": [
        "%matplotlib inline\n",
        "import matplotlib.pyplot as plt\n",
        "import seaborn as sns\n",
        "\n",
        "def matrix_heatmap(matrix, plt=plt, **kwargs):\n",
        "    ax = sns.heatmap(K, xticklabels=False, yticklabels=False, **kwargs)\n",
        "    plt.show()"
      ],
      "outputs": [],
      "execution_count": 5,
      "metadata": {
        "collapsed": true,
        "jupyter": {
          "source_hidden": false,
          "outputs_hidden": false
        },
        "nteract": {
          "transient": {
            "deleting": false
          }
        },
        "execution": {
          "iopub.status.busy": "2020-11-04T18:33:19.709Z",
          "iopub.execute_input": "2020-11-04T18:33:19.719Z",
          "shell.execute_reply": "2020-11-04T18:33:19.741Z",
          "iopub.status.idle": "2020-11-04T18:33:19.732Z"
        }
      }
    },
    {
      "cell_type": "code",
      "source": [
        "matrix_heatmap(K, center=0)"
      ],
      "outputs": [
        {
          "output_type": "display_data",
          "data": {
            "text/plain": "<Figure size 432x288 with 2 Axes>",
            "image/png": "[encoded data removed]"
          },
          "metadata": {
            "needs_background": "light"
          }
        }
      ],
      "execution_count": 87,
      "metadata": {
        "collapsed": true,
        "jupyter": {
          "source_hidden": false,
          "outputs_hidden": false
        },
        "nteract": {
          "transient": {
            "deleting": false
          }
        },
        "execution": {
          "iopub.status.busy": "2020-11-04T17:40:39.490Z",
          "iopub.execute_input": "2020-11-04T17:40:39.499Z",
          "iopub.status.idle": "2020-11-04T17:40:39.573Z",
          "shell.execute_reply": "2020-11-04T17:40:39.590Z"
        }
      }
    },
    {
      "cell_type": "code",
      "source": [
        "K = fill_diagonal(K, K.diagonal() + 1e-15)\n",
        "samples = 10\n",
        "y_ = y[:10].reshape(samples * 3)\n",
        "alphas = np.linalg.solve(K, y_)\n",
        "alphas = alphas.reshape(10, 3)"
      ],
      "outputs": [],
      "execution_count": 65,
      "metadata": {
        "collapsed": true,
        "jupyter": {
          "source_hidden": false,
          "outputs_hidden": false
        },
        "nteract": {
          "transient": {
            "deleting": false
          }
        },
        "execution": {
          "iopub.status.busy": "2020-11-04T13:57:51.378Z",
          "iopub.execute_input": "2020-11-04T13:57:51.386Z",
          "iopub.status.idle": "2020-11-04T13:57:51.398Z",
          "shell.execute_reply": "2020-11-04T13:57:51.405Z"
        }
      }
    },
    {
      "cell_type": "code",
      "source": [
        "def predict(x, samples=samples, X=X, alphas=alphas):\n",
        "    mu = np.zeros(3)\n",
        "    for i in range(samples):\n",
        "        mu += kernel(x, X[i]) @ alphas[i]\n",
        "    return mu"
      ],
      "outputs": [],
      "execution_count": 66,
      "metadata": {
        "collapsed": true,
        "jupyter": {
          "source_hidden": false,
          "outputs_hidden": false
        },
        "nteract": {
          "transient": {
            "deleting": false
          }
        },
        "execution": {
          "iopub.status.busy": "2020-11-04T13:57:53.750Z",
          "iopub.execute_input": "2020-11-04T13:57:53.758Z",
          "iopub.status.idle": "2020-11-04T13:57:53.771Z",
          "shell.execute_reply": "2020-11-04T13:57:53.780Z"
        }
      }
    },
    {
      "cell_type": "code",
      "source": [
        "y = y[:10].reshape(10, 3)\n",
        "print(predict(X[9]))\n",
        "print(y[9])"
      ],
      "outputs": [
        {
          "output_type": "stream",
          "name": "stdout",
          "text": [
            "[ 0.0460642  -0.28939608 -0.5582838 ]\n",
            "[ 0.04606372 -0.28939605 -0.5582838 ]\n"
          ]
        }
      ],
      "execution_count": 69,
      "metadata": {
        "collapsed": true,
        "jupyter": {
          "source_hidden": false,
          "outputs_hidden": false
        },
        "nteract": {
          "transient": {
            "deleting": false
          }
        },
        "execution": {
          "iopub.status.busy": "2020-11-04T13:58:26.961Z",
          "iopub.execute_input": "2020-11-04T13:58:26.971Z",
          "iopub.status.idle": "2020-11-04T13:58:26.989Z",
          "shell.execute_reply": "2020-11-04T13:58:27.005Z"
        }
      }
    },
    {
      "cell_type": "code",
      "source": [
        "from utils import KRR\n",
        "\n",
        "class VectorValuedKRR(KRR):\n",
        "\n",
        "    def fit(self, X, y):\n",
        "        self.X = X\n",
        "        samples = X.shape[0]\n",
        "        K = kernel_matrix(X)\n",
        "        y = y.reshape(samples * 3)\n",
        "        K = fill_diagonal(K, K.diagonal() + self.lamb)\n",
        "        alphas = np.linalg.solve(K, y)\n",
        "        self.alphas = alphas.reshape(samples, 3)\n",
        "\n",
        "    def predict(self, x):\n",
        "        results = [predict(_x, samples=self.samples, X=self.X, alphas=self.alphas) for _x in x]\n",
        "        return np.array(results)\n",
        "\n",
        "    def score(self, x, y):\n",
        "        yhat = self.predict(x)\n",
        "        return -np.mean(np.sum(np.abs(y - yhat), axis=1))\n"
      ],
      "outputs": [],
      "execution_count": 82,
      "metadata": {
        "collapsed": true,
        "jupyter": {
          "source_hidden": false,
          "outputs_hidden": false
        },
        "nteract": {
          "transient": {
            "deleting": false
          }
        },
        "execution": {
          "iopub.status.busy": "2020-11-04T14:01:42.071Z",
          "iopub.execute_input": "2020-11-04T14:01:42.080Z",
          "iopub.status.idle": "2020-11-04T14:01:42.091Z",
          "shell.execute_reply": "2020-11-04T14:01:42.097Z"
        }
      }
    },
    {
      "cell_type": "code",
      "source": [
        "model = VectorValuedKRR()\n",
        "model.fit(X[:10], y[:10])"
      ],
      "outputs": [],
      "execution_count": 83,
      "metadata": {
        "collapsed": true,
        "jupyter": {
          "source_hidden": false,
          "outputs_hidden": false
        },
        "nteract": {
          "transient": {
            "deleting": false
          }
        },
        "execution": {
          "iopub.status.busy": "2020-11-04T14:01:46.498Z",
          "iopub.execute_input": "2020-11-04T14:01:46.506Z",
          "iopub.status.idle": "2020-11-04T14:01:47.495Z",
          "shell.execute_reply": "2020-11-04T14:01:47.516Z"
        }
      }
    },
    {
      "cell_type": "code",
      "source": [
        "print(model.predict([X[51]]))\n",
        "print(y[51])"
      ],
      "outputs": [
        {
          "output_type": "stream",
          "name": "stdout",
          "text": [
            "[[-0.09556997 -1.0142157   0.7243877 ]]\n",
            "[-0.02243282  0.16857044  0.3250411 ]\n"
          ]
        }
      ],
      "execution_count": 84,
      "metadata": {
        "collapsed": true,
        "jupyter": {
          "source_hidden": false,
          "outputs_hidden": false
        },
        "nteract": {
          "transient": {
            "deleting": false
          }
        },
        "execution": {
          "iopub.status.busy": "2020-11-04T14:01:49.016Z",
          "iopub.execute_input": "2020-11-04T14:01:49.023Z",
          "iopub.status.idle": "2020-11-04T14:01:49.054Z",
          "shell.execute_reply": "2020-11-04T14:01:49.063Z"
        }
      }
    },
    {
      "cell_type": "code",
      "source": [
        "model.score(X[:10], y[:10])"
      ],
      "outputs": [
        {
          "output_type": "execute_result",
          "execution_count": 85,
          "data": {
            "text/plain": "DeviceArray(-9.4734133e-07, dtype=float32)"
          },
          "metadata": {}
        }
      ],
      "execution_count": 85,
      "metadata": {
        "collapsed": true,
        "jupyter": {
          "source_hidden": false,
          "outputs_hidden": false
        },
        "nteract": {
          "transient": {
            "deleting": false
          }
        },
        "execution": {
          "iopub.status.busy": "2020-11-04T14:01:54.924Z",
          "iopub.execute_input": "2020-11-04T14:01:54.931Z",
          "iopub.status.idle": "2020-11-04T14:01:55.336Z",
          "shell.execute_reply": "2020-11-04T14:01:55.351Z"
        }
      }
    },
    {
      "cell_type": "code",
      "source": [],
      "outputs": [],
      "execution_count": null,
      "metadata": {
        "collapsed": true,
        "jupyter": {
          "source_hidden": false,
          "outputs_hidden": false
        },
        "nteract": {
          "transient": {
            "deleting": false
          }
        }
      }
    }
  ],
  "metadata": {
    "kernel_info": {
      "name": "python3"
    },
    "language_info": {
      "name": "python",
      "version": "3.8.5",
      "mimetype": "text/x-python",
      "codemirror_mode": {
        "name": "ipython",
        "version": 3
      },
      "pygments_lexer": "ipython3",
      "nbconvert_exporter": "python",
      "file_extension": ".py"
    },
    "kernelspec": {
      "argv": [
        "/usr/local/bin/python3",
        "-m",
        "ipykernel_launcher",
        "-f",
        "{connection_file}"
      ],
      "display_name": "Python 3",
      "language": "python",
      "name": "python3"
    },
    "nteract": {
      "version": "0.26.0"
    }
  },
  "nbformat": 4,
  "nbformat_minor": 0
}