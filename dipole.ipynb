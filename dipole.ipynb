{
  "cells": [
    {
      "cell_type": "code",
      "source": [
        "import jax.numpy as np\n",
        "import jax.ops\n",
        "from jax import grad, jit, vmap\n",
        "from functools import partial"
      ],
      "outputs": [],
      "execution_count": 1,
      "metadata": {
        "collapsed": true,
        "jupyter": {
          "source_hidden": false,
          "outputs_hidden": false
        },
        "nteract": {
          "transient": {
            "deleting": false
          }
        },
        "execution": {
          "iopub.status.busy": "2020-11-04T13:25:55.407Z",
          "iopub.execute_input": "2020-11-04T13:25:55.416Z",
          "iopub.status.idle": "2020-11-04T13:25:57.121Z",
          "shell.execute_reply": "2020-11-04T13:25:57.100Z"
        }
      }
    },
    {
      "cell_type": "code",
      "source": [
        "data = np.load('data/HOOH.DFT.PBE-TS.light.MD.500K.50k.R_E_F_D_Q.npz')\n",
        "X = np.array(data['R'][:1000])\n",
        "y = np.array(data['D'][:1000])"
      ],
      "outputs": [],
      "execution_count": 37,
      "metadata": {
        "collapsed": true,
        "jupyter": {
          "source_hidden": false,
          "outputs_hidden": false
        },
        "nteract": {
          "transient": {
            "deleting": false
          }
        },
        "execution": {
          "iopub.status.busy": "2020-11-04T13:28:13.362Z",
          "iopub.execute_input": "2020-11-04T13:28:13.369Z",
          "iopub.status.idle": "2020-11-04T13:28:13.379Z",
          "shell.execute_reply": "2020-11-04T13:28:13.387Z"
        }
      }
    },
    {
      "cell_type": "code",
      "source": [
        "def fill_diagonal(a, value):\n",
        "    return jax.ops.index_update(a, np.diag_indices(a.shape[0]), value)\n",
        "\n",
        "@jit\n",
        "def descriptor(x):\n",
        "    distances = np.sum((x[:, None] - x[None, :])**2, axis=-1)\n",
        "    distances = fill_diagonal(distances, 1) # because sqrt fails to compute gradient if called on 0s\n",
        "    distances = np.sqrt(distances)\n",
        "    D = 1 / distances\n",
        "    D = np.tril(D)\n",
        "    D = fill_diagonal(D, 0)\n",
        "    return D.flatten()"
      ],
      "outputs": [],
      "execution_count": 3,
      "metadata": {
        "collapsed": true,
        "jupyter": {
          "source_hidden": false,
          "outputs_hidden": false
        },
        "nteract": {
          "transient": {
            "deleting": false
          }
        },
        "execution": {
          "iopub.status.busy": "2020-11-04T13:25:57.252Z",
          "iopub.execute_input": "2020-11-04T13:25:57.260Z",
          "iopub.status.idle": "2020-11-04T13:25:57.277Z",
          "shell.execute_reply": "2020-11-04T13:25:57.294Z"
        }
      }
    },
    {
      "cell_type": "code",
      "source": [
        "@jit\n",
        "def gaussian(x, x_, sigma=1):\n",
        "    d, d_ = descriptor(x), descriptor(x_)\n",
        "    sq_distance = np.sum((d - d_)**2)\n",
        "    return np.exp(-sq_distance / sigma)\n",
        "    "
      ],
      "outputs": [],
      "execution_count": 4,
      "metadata": {
        "collapsed": true,
        "jupyter": {
          "source_hidden": false,
          "outputs_hidden": false
        },
        "nteract": {
          "transient": {
            "deleting": false
          }
        },
        "execution": {
          "iopub.status.busy": "2020-11-04T13:25:57.607Z",
          "iopub.execute_input": "2020-11-04T13:25:57.614Z",
          "iopub.status.idle": "2020-11-04T13:25:57.627Z",
          "shell.execute_reply": "2020-11-04T13:25:57.635Z"
        }
      }
    },
    {
      "cell_type": "code",
      "source": [
        "from jax import jacfwd, jacrev\n",
        "def hessian(f):\n",
        "    return jacfwd(jacrev(f))"
      ],
      "outputs": [],
      "execution_count": 5,
      "metadata": {
        "collapsed": true,
        "jupyter": {
          "source_hidden": false,
          "outputs_hidden": false
        },
        "nteract": {
          "transient": {
            "deleting": false
          }
        },
        "execution": {
          "iopub.status.busy": "2020-11-04T13:25:58.109Z",
          "iopub.execute_input": "2020-11-04T13:25:58.117Z",
          "iopub.status.idle": "2020-11-04T13:25:58.130Z",
          "shell.execute_reply": "2020-11-04T13:25:58.137Z"
        }
      }
    },
    {
      "cell_type": "code",
      "source": [
        "from jax.config import config\n",
        "config.update(\"jax_debug_nans\", True)"
      ],
      "outputs": [],
      "execution_count": 6,
      "metadata": {
        "collapsed": true,
        "jupyter": {
          "source_hidden": false,
          "outputs_hidden": false
        },
        "nteract": {
          "transient": {
            "deleting": false
          }
        },
        "execution": {
          "iopub.status.busy": "2020-11-04T13:25:59.103Z",
          "iopub.execute_input": "2020-11-04T13:25:59.111Z",
          "iopub.status.idle": "2020-11-04T13:25:59.123Z",
          "shell.execute_reply": "2020-11-04T13:25:59.138Z"
        }
      }
    },
    {
      "cell_type": "code",
      "source": [
        "_gaussian = partial(gaussian, X[0])\n",
        "hess = hessian(_gaussian)\n",
        "hess(X[1]).shape"
      ],
      "outputs": [
        {
          "output_type": "execute_result",
          "execution_count": 7,
          "data": {
            "text/plain": "(4, 3, 4, 3)"
          },
          "metadata": {}
        }
      ],
      "execution_count": 7,
      "metadata": {
        "collapsed": false,
        "jupyter": {
          "source_hidden": false,
          "outputs_hidden": false
        },
        "nteract": {
          "transient": {
            "deleting": false
          }
        },
        "execution": {
          "iopub.status.busy": "2020-11-04T13:25:59.523Z",
          "iopub.execute_input": "2020-11-04T13:25:59.532Z",
          "iopub.status.idle": "2020-11-04T13:26:00.435Z",
          "shell.execute_reply": "2020-11-04T13:26:00.452Z"
        }
      }
    },
    {
      "cell_type": "code",
      "source": [
        "@jit\n",
        "def hess_ij(H):\n",
        "    K = np.zeros((3, 3))\n",
        "    for i in range(3):\n",
        "        for j in range(3):\n",
        "            value = np.sum(H[:, i, :, j])\n",
        "            K = jax.ops.index_update(K, jax.ops.index[i, j], value)\n",
        "    return K"
      ],
      "outputs": [],
      "execution_count": 8,
      "metadata": {
        "collapsed": true,
        "jupyter": {
          "source_hidden": false,
          "outputs_hidden": false
        },
        "nteract": {
          "transient": {
            "deleting": false
          }
        },
        "execution": {
          "iopub.status.busy": "2020-11-04T13:26:02.265Z",
          "iopub.execute_input": "2020-11-04T13:26:02.272Z",
          "iopub.status.idle": "2020-11-04T13:26:02.285Z",
          "shell.execute_reply": "2020-11-04T13:26:02.293Z"
        }
      }
    },
    {
      "cell_type": "code",
      "source": [
        "k = hess_ij(hess(X[1]))\n",
        "k"
      ],
      "outputs": [
        {
          "output_type": "execute_result",
          "execution_count": 9,
          "data": {
            "text/plain": "DeviceArray([[-5.9604645e-08, -5.9604645e-08, -5.9604645e-08],\n             [ 2.9802322e-08,  2.9802322e-08,  0.0000000e+00],\n             [-5.9604645e-08, -1.1920929e-07,  2.3841858e-07]],            dtype=float32)"
          },
          "metadata": {}
        }
      ],
      "execution_count": 9,
      "metadata": {
        "collapsed": true,
        "jupyter": {
          "source_hidden": false,
          "outputs_hidden": false
        },
        "nteract": {
          "transient": {
            "deleting": false
          }
        },
        "execution": {
          "iopub.status.busy": "2020-11-04T13:26:03.395Z",
          "iopub.execute_input": "2020-11-04T13:26:03.403Z",
          "iopub.status.idle": "2020-11-04T13:26:03.669Z",
          "shell.execute_reply": "2020-11-04T13:26:03.684Z"
        }
      }
    },
    {
      "cell_type": "code",
      "source": [
        "@jit\n",
        "def kernel(x, x_):\n",
        "    _gaussian = partial(gaussian, x)\n",
        "    hess = hessian(_gaussian)\n",
        "    return hess_ij(hess(x_))"
      ],
      "outputs": [],
      "execution_count": 22,
      "metadata": {
        "collapsed": true,
        "jupyter": {
          "source_hidden": false,
          "outputs_hidden": false
        },
        "nteract": {
          "transient": {
            "deleting": false
          }
        },
        "execution": {
          "iopub.status.busy": "2020-11-04T13:26:49.372Z",
          "iopub.execute_input": "2020-11-04T13:26:49.382Z",
          "iopub.status.idle": "2020-11-04T13:26:49.399Z",
          "shell.execute_reply": "2020-11-04T13:26:49.410Z"
        }
      }
    },
    {
      "cell_type": "code",
      "source": [
        "def kernel_matrix(X):\n",
        "    samples = X.shape[0]\n",
        "    # K = np.zeros((samples, samples, 3, 3))\n",
        "    K = list()\n",
        "    for i in range(samples):\n",
        "        K.append(list())\n",
        "        for j in range(samples):\n",
        "            # K = jax.ops.index_update(K, jax.ops.index[i, j], kernel(X[i], X[j]))\n",
        "            K[i].append(kernel(X[i], X[j]))\n",
        "    K = np.block(K)\n",
        "    return K"
      ],
      "outputs": [],
      "execution_count": 23,
      "metadata": {
        "collapsed": true,
        "jupyter": {
          "source_hidden": false,
          "outputs_hidden": false
        },
        "nteract": {
          "transient": {
            "deleting": false
          }
        },
        "execution": {
          "iopub.status.busy": "2020-11-04T13:26:50.046Z",
          "iopub.execute_input": "2020-11-04T13:26:50.053Z",
          "iopub.status.idle": "2020-11-04T13:26:50.066Z",
          "shell.execute_reply": "2020-11-04T13:26:50.073Z"
        }
      }
    },
    {
      "cell_type": "code",
      "source": [
        "K = kernel_matrix(X[:10])"
      ],
      "outputs": [],
      "execution_count": 24,
      "metadata": {
        "collapsed": true,
        "jupyter": {
          "source_hidden": false,
          "outputs_hidden": false
        },
        "nteract": {
          "transient": {
            "deleting": false
          }
        },
        "execution": {
          "iopub.status.busy": "2020-11-04T13:26:52.317Z",
          "iopub.execute_input": "2020-11-04T13:26:52.325Z",
          "iopub.status.idle": "2020-11-04T13:26:53.464Z",
          "shell.execute_reply": "2020-11-04T13:26:53.473Z"
        }
      }
    },
    {
      "cell_type": "code",
      "source": [
        "K.shape"
      ],
      "outputs": [
        {
          "output_type": "execute_result",
          "execution_count": 25,
          "data": {
            "text/plain": "(30, 30)"
          },
          "metadata": {}
        }
      ],
      "execution_count": 25,
      "metadata": {
        "collapsed": true,
        "jupyter": {
          "source_hidden": false,
          "outputs_hidden": false
        },
        "nteract": {
          "transient": {
            "deleting": false
          }
        },
        "execution": {
          "iopub.status.busy": "2020-11-04T13:26:54.289Z",
          "iopub.execute_input": "2020-11-04T13:26:54.296Z",
          "iopub.status.idle": "2020-11-04T13:26:54.313Z",
          "shell.execute_reply": "2020-11-04T13:26:54.321Z"
        }
      }
    },
    {
      "cell_type": "code",
      "source": [
        "%matplotlib inline\n",
        "import matplotlib.pyplot as plt\n",
        "import seaborn as sns"
      ],
      "outputs": [],
      "execution_count": 14,
      "metadata": {
        "collapsed": true,
        "jupyter": {
          "source_hidden": false,
          "outputs_hidden": false
        },
        "nteract": {
          "transient": {
            "deleting": false
          }
        },
        "execution": {
          "iopub.status.busy": "2020-11-04T13:26:15.356Z",
          "iopub.execute_input": "2020-11-04T13:26:15.363Z",
          "shell.execute_reply": "2020-11-04T13:26:16.970Z",
          "iopub.status.idle": "2020-11-04T13:26:16.941Z"
        }
      }
    },
    {
      "cell_type": "code",
      "source": [
        "ax = sns.heatmap(K, center=0, xticklabels=False, yticklabels=False)\n",
        "plt.show()"
      ],
      "outputs": [
        {
          "output_type": "display_data",
          "data": {
            "text/plain": "<Figure size 432x288 with 2 Axes>",
            "image/png": "[encoded data removed]"
          },
          "metadata": {
            "needs_background": "light"
          }
        }
      ],
      "execution_count": 26,
      "metadata": {
        "collapsed": true,
        "jupyter": {
          "source_hidden": false,
          "outputs_hidden": false
        },
        "nteract": {
          "transient": {
            "deleting": false
          }
        },
        "execution": {
          "iopub.status.busy": "2020-11-04T13:27:03.236Z",
          "iopub.execute_input": "2020-11-04T13:27:03.247Z",
          "iopub.status.idle": "2020-11-04T13:27:03.385Z",
          "shell.execute_reply": "2020-11-04T13:27:03.403Z"
        }
      }
    },
    {
      "cell_type": "code",
      "source": [
        "K = fill_diagonal(K, K.diagonal() + 1e-15)\n",
        "samples = X.shape[0]\n",
        "y = y.reshape(samples * 3)\n",
        "alphas = np.linalg.solve(K, y)\n",
        "alphas = alphas.reshape(10, 3)"
      ],
      "outputs": [],
      "execution_count": 27,
      "metadata": {
        "collapsed": true,
        "jupyter": {
          "source_hidden": false,
          "outputs_hidden": false
        },
        "nteract": {
          "transient": {
            "deleting": false
          }
        },
        "execution": {
          "iopub.status.busy": "2020-11-04T13:27:05.650Z",
          "iopub.execute_input": "2020-11-04T13:27:05.657Z",
          "iopub.status.idle": "2020-11-04T13:27:05.669Z",
          "shell.execute_reply": "2020-11-04T13:27:05.676Z"
        }
      }
    },
    {
      "cell_type": "code",
      "source": [
        "def predict(x, samples=samples, X=X, alphas=alphas):\n",
        "    mu = np.zeros(3)\n",
        "    for i in range(samples):\n",
        "        mu += kernel(x, X[i]) @ alphas[i]\n",
        "    return mu"
      ],
      "outputs": [],
      "execution_count": 28,
      "metadata": {
        "collapsed": true,
        "jupyter": {
          "source_hidden": false,
          "outputs_hidden": false
        },
        "nteract": {
          "transient": {
            "deleting": false
          }
        },
        "execution": {
          "iopub.status.busy": "2020-11-04T13:27:06.968Z",
          "iopub.execute_input": "2020-11-04T13:27:06.975Z",
          "iopub.status.idle": "2020-11-04T13:27:06.988Z",
          "shell.execute_reply": "2020-11-04T13:27:06.994Z"
        }
      }
    },
    {
      "cell_type": "code",
      "source": [
        "y = y.reshape(10, 3)\n",
        "print(predict(X[9]))\n",
        "print(y[9])"
      ],
      "outputs": [
        {
          "output_type": "stream",
          "name": "stdout",
          "text": [
            "[ 0.04606384 -0.2893961  -0.5582838 ]\n",
            "[ 0.04606372 -0.28939605 -0.5582838 ]\n"
          ]
        }
      ],
      "execution_count": 29,
      "metadata": {
        "collapsed": true,
        "jupyter": {
          "source_hidden": false,
          "outputs_hidden": false
        },
        "nteract": {
          "transient": {
            "deleting": false
          }
        },
        "execution": {
          "iopub.status.busy": "2020-11-04T13:27:07.793Z",
          "iopub.execute_input": "2020-11-04T13:27:07.801Z",
          "iopub.status.idle": "2020-11-04T13:27:07.835Z",
          "shell.execute_reply": "2020-11-04T13:27:07.843Z"
        }
      }
    },
    {
      "cell_type": "code",
      "source": [
        "from utils import KRR\n",
        "\n",
        "class VectorValuedKRR(KRR):\n",
        "\n",
        "    def fit(self, X, y):\n",
        "        self.X = X\n",
        "        samples = X.shape[0]\n",
        "        K = kernel_matrix(X)\n",
        "        y = y.reshape(samples * 3)\n",
        "        K = fill_diagonal(K, K.diagonal() + self.lamb)\n",
        "        alphas = np.linalg.solve(K, y)\n",
        "        self.alphas = alphas.reshape(samples, 3)\n",
        "\n",
        "    def predict(self, x):\n",
        "        results = [predict(_x, samples=self.samples, X=self.X, alphas=self.alphas) for _x in x]\n",
        "        return np.array(results)\n",
        "\n",
        "    def score(self, x, y):\n",
        "        yhat = self.predict(x)\n",
        "        return -np.mean(np.sum(np.abs(y - yhat), axis=1))\n"
      ],
      "outputs": [],
      "execution_count": 30,
      "metadata": {
        "collapsed": true,
        "jupyter": {
          "source_hidden": false,
          "outputs_hidden": false
        },
        "nteract": {
          "transient": {
            "deleting": false
          }
        },
        "execution": {
          "iopub.status.busy": "2020-11-04T13:27:09.318Z",
          "iopub.execute_input": "2020-11-04T13:27:09.325Z",
          "iopub.status.idle": "2020-11-04T13:27:09.338Z",
          "shell.execute_reply": "2020-11-04T13:27:09.348Z"
        }
      }
    },
    {
      "cell_type": "code",
      "source": [
        "model = VectorValuedKRR()\n",
        "model.fit(X[:50], y[:50])"
      ],
      "outputs": [],
      "execution_count": 40,
      "metadata": {
        "collapsed": true,
        "jupyter": {
          "source_hidden": false,
          "outputs_hidden": false
        },
        "nteract": {
          "transient": {
            "deleting": false
          }
        },
        "execution": {
          "iopub.status.busy": "2020-11-04T13:28:33.223Z",
          "iopub.execute_input": "2020-11-04T13:28:33.232Z",
          "iopub.status.idle": "2020-11-04T13:29:01.390Z",
          "shell.execute_reply": "2020-11-04T13:29:01.381Z"
        }
      }
    },
    {
      "cell_type": "code",
      "source": [
        "print(model.predict([X[51]]))\n",
        "print(y[51])"
      ],
      "outputs": [
        {
          "output_type": "stream",
          "name": "stdout",
          "text": [
            "[[  2.0926805 -16.000454    9.09699  ]]\n",
            "[-0.02243282  0.16857044  0.3250411 ]\n"
          ]
        }
      ],
      "execution_count": 42,
      "metadata": {
        "collapsed": true,
        "jupyter": {
          "source_hidden": false,
          "outputs_hidden": false
        },
        "nteract": {
          "transient": {
            "deleting": false
          }
        },
        "execution": {
          "iopub.status.busy": "2020-11-04T13:29:52.447Z",
          "iopub.execute_input": "2020-11-04T13:29:52.455Z",
          "iopub.status.idle": "2020-11-04T13:29:52.612Z",
          "shell.execute_reply": "2020-11-04T13:29:52.619Z"
        }
      }
    },
    {
      "cell_type": "code",
      "source": [
        "model.score(X[:50], y[:50])"
      ],
      "outputs": [
        {
          "output_type": "execute_result",
          "execution_count": 44,
          "data": {
            "text/plain": "DeviceArray(-1.7730996e-05, dtype=float32)"
          },
          "metadata": {}
        }
      ],
      "execution_count": 44,
      "metadata": {
        "collapsed": true,
        "jupyter": {
          "source_hidden": false,
          "outputs_hidden": false
        },
        "nteract": {
          "transient": {
            "deleting": false
          }
        },
        "execution": {
          "iopub.status.busy": "2020-11-04T13:30:20.381Z",
          "iopub.execute_input": "2020-11-04T13:30:20.390Z",
          "iopub.status.idle": "2020-11-04T13:30:28.168Z",
          "shell.execute_reply": "2020-11-04T13:30:28.183Z"
        }
      }
    },
    {
      "cell_type": "code",
      "source": [],
      "outputs": [],
      "execution_count": null,
      "metadata": {
        "collapsed": true,
        "jupyter": {
          "source_hidden": false,
          "outputs_hidden": false
        },
        "nteract": {
          "transient": {
            "deleting": false
          }
        }
      }
    }
  ],
  "metadata": {
    "kernel_info": {
      "name": "python3"
    },
    "language_info": {
      "name": "python",
      "version": "3.8.5",
      "mimetype": "text/x-python",
      "codemirror_mode": {
        "name": "ipython",
        "version": 3
      },
      "pygments_lexer": "ipython3",
      "nbconvert_exporter": "python",
      "file_extension": ".py"
    },
    "kernelspec": {
      "argv": [
        "/usr/local/bin/python3",
        "-m",
        "ipykernel_launcher",
        "-f",
        "{connection_file}"
      ],
      "display_name": "Python 3",
      "language": "python",
      "name": "python3"
    },
    "nteract": {
      "version": "0.26.0"
    }
  },
  "nbformat": 4,
  "nbformat_minor": 0
}