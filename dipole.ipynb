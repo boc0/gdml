{
  "cells": [
    {
      "cell_type": "code",
      "source": [
        "import jax.numpy as np\n",
        "import jax.ops\n",
        "from jax import grad, jit, vmap\n",
        "from functools import partial\n"
      ],
      "outputs": [],
      "execution_count": 1,
      "metadata": {
        "collapsed": true,
        "jupyter": {
          "source_hidden": false,
          "outputs_hidden": false
        },
        "nteract": {
          "transient": {
            "deleting": false
          }
        },
        "execution": {
          "iopub.status.busy": "2020-11-04T20:12:31.643Z",
          "iopub.execute_input": "2020-11-04T20:12:31.653Z",
          "iopub.status.idle": "2020-11-04T20:12:32.163Z",
          "shell.execute_reply": "2020-11-04T20:12:32.176Z"
        }
      }
    },
    {
      "cell_type": "code",
      "source": [
        "import seaborn as sns\n",
        "import matplotlib.pyplot as plt\n",
        "from matplotlib import animation"
      ],
      "outputs": [],
      "execution_count": 2,
      "metadata": {
        "collapsed": true,
        "jupyter": {
          "source_hidden": false,
          "outputs_hidden": false
        },
        "nteract": {
          "transient": {
            "deleting": false
          }
        },
        "execution": {
          "iopub.status.busy": "2020-11-04T20:12:33.397Z",
          "iopub.execute_input": "2020-11-04T20:12:33.406Z",
          "iopub.status.idle": "2020-11-04T20:12:35.131Z",
          "shell.execute_reply": "2020-11-04T20:12:35.170Z"
        }
      }
    },
    {
      "cell_type": "code",
      "source": [
        "data = np.load('data/HOOH.DFT.PBE-TS.light.MD.500K.50k.R_E_F_D_Q.npz')\n",
        "X = np.array(data['R'][:1000])\n",
        "y = np.array(data['D'][:1000])"
      ],
      "outputs": [
        {
          "output_type": "stream",
          "name": "stderr",
          "text": [
            "WARNING:absl:No GPU/TPU found, falling back to CPU. (Set TF_CPP_MIN_LOG_LEVEL=0 and rerun for more info.)\n"
          ]
        }
      ],
      "execution_count": 3,
      "metadata": {
        "collapsed": true,
        "jupyter": {
          "source_hidden": false,
          "outputs_hidden": false
        },
        "nteract": {
          "transient": {
            "deleting": false
          }
        },
        "execution": {
          "iopub.status.busy": "2020-11-05T23:20:04.232Z",
          "iopub.execute_input": "2020-11-05T23:20:04.241Z",
          "iopub.status.idle": "2020-11-05T23:20:04.272Z",
          "shell.execute_reply": "2020-11-05T23:20:04.283Z"
        }
      }
    },
    {
      "cell_type": "markdown",
      "source": [
        "The dipole moment is a three-dimensional quantity. To learn this vector-valued function, we will need to adjust our KRR model.\n",
        "\n",
        "# Model\n",
        "our predictor is given by \n",
        "\n",
        "$$ \\begin{equation} \\vec{\\mu} (\\textbf{x}) = \\sum_{l=1}^{M} \\kappa_{rHess}^{(3\\times 3)}(\\textbf{x},\\textbf{x}_l) \\vec{\\alpha}_l \\end{equation} $$\n",
        "\n",
        "where $\\kappa_{rHess}^{(3\\times 3)}(\\textbf{x},\\textbf{x}_l)$ is now not a scalar, but a 3x3 matrix given by"
      ],
      "metadata": {
        "nteract": {
          "transient": {
            "deleting": false
          }
        }
      }
    },
    {
      "cell_type": "code",
      "source": [
        "from utils import descriptor, fill_diagonal"
      ],
      "outputs": [],
      "execution_count": 4,
      "metadata": {
        "collapsed": true,
        "jupyter": {
          "source_hidden": false,
          "outputs_hidden": false
        },
        "nteract": {
          "transient": {
            "deleting": false
          }
        },
        "execution": {
          "iopub.status.busy": "2020-11-04T20:12:36.710Z",
          "iopub.execute_input": "2020-11-04T20:12:36.719Z",
          "iopub.status.idle": "2020-11-04T20:12:36.736Z",
          "shell.execute_reply": "2020-11-04T20:12:36.746Z"
        }
      }
    },
    {
      "cell_type": "code",
      "source": [
        "def heatmap_animation(generator, name='what', **heatmap_kwargs):\n",
        "    kwargs = {'xticklabels': False, 'yticklabels': False, **heatmap_kwargs}\n",
        "\n",
        "    def animate(i):\n",
        "        plt.clf()\n",
        "        data = generator(i)\n",
        "        sns.heatmap(data, **kwargs)\n",
        "\n",
        "    anim = animation.FuncAnimation(plt.figure(), animate, frames=20, repeat=False)\n",
        "    anim.save(f'{name}.gif')"
      ],
      "outputs": [],
      "execution_count": 5,
      "metadata": {
        "collapsed": true,
        "jupyter": {
          "source_hidden": false,
          "outputs_hidden": false
        },
        "nteract": {
          "transient": {
            "deleting": false
          }
        },
        "execution": {
          "iopub.status.busy": "2020-11-04T20:12:37.714Z",
          "iopub.execute_input": "2020-11-04T20:12:37.723Z",
          "iopub.status.idle": "2020-11-04T20:12:37.736Z",
          "shell.execute_reply": "2020-11-04T20:12:37.744Z"
        }
      }
    },
    {
      "cell_type": "code",
      "source": [
        "heatmap_animation(lambda i: X[i], name='coordinates', vmin=-3.5, vmax=1)\n",
        "heatmap_animation(lambda i: descriptor(X[i]).reshape(4, 4), name='descriptors', center=0, vmax=1.0)"
      ],
      "outputs": [
        {
          "output_type": "stream",
          "name": "stderr",
          "text": [
            "WARNING:matplotlib.animation:MovieWriter ffmpeg unavailable; using Pillow instead.\n",
            "WARNING:matplotlib.animation:MovieWriter ffmpeg unavailable; using Pillow instead.\n"
          ]
        },
        {
          "output_type": "display_data",
          "data": {
            "text/plain": "<Figure size 432x288 with 2 Axes>",
            "image/png": "[encoded data removed]"
          },
          "metadata": {
            "needs_background": "light"
          }
        },
        {
          "output_type": "display_data",
          "data": {
            "text/plain": "<Figure size 432x288 with 2 Axes>",
            "image/png": "[encoded data removed]"
          },
          "metadata": {
            "needs_background": "light"
          }
        }
      ],
      "execution_count": 6,
      "metadata": {
        "collapsed": true,
        "jupyter": {
          "source_hidden": false,
          "outputs_hidden": false
        },
        "nteract": {
          "transient": {
            "deleting": false
          }
        },
        "execution": {
          "iopub.status.busy": "2020-11-04T20:12:38.880Z",
          "iopub.execute_input": "2020-11-04T20:12:38.890Z",
          "iopub.status.idle": "2020-11-04T20:12:45.364Z",
          "shell.execute_reply": "2020-11-04T20:12:45.387Z"
        }
      }
    },
    {
      "cell_type": "markdown",
      "source": [
        "The following are the coordinates\n",
        "![SegmentLocal](coordinates.gif \"coordinates\")\n",
        "and descriptors\n",
        "![SegmentLocal](descriptors.gif \"descriptors\")\n",
        "for the first few training samples"
      ],
      "metadata": {
        "nteract": {
          "transient": {
            "deleting": false
          }
        }
      }
    },
    {
      "cell_type": "code",
      "source": [
        "def gaussian(x, x_, sigma=1):\n",
        "    d, d_ = descriptor(x), descriptor(x_)\n",
        "    sq_distance = np.sum((d - d_)**2)\n",
        "    return np.exp(-sq_distance / sigma)"
      ],
      "outputs": [],
      "execution_count": 20,
      "metadata": {
        "collapsed": true,
        "jupyter": {
          "source_hidden": false,
          "outputs_hidden": false
        },
        "nteract": {
          "transient": {
            "deleting": false
          }
        },
        "execution": {
          "iopub.status.busy": "2020-11-04T20:39:17.520Z",
          "iopub.execute_input": "2020-11-04T20:39:17.528Z",
          "iopub.status.idle": "2020-11-04T20:39:17.542Z",
          "shell.execute_reply": "2020-11-04T20:39:17.551Z"
        }
      }
    },
    {
      "cell_type": "code",
      "source": [
        "def gaussian_kernel(X, sigma=1):\n",
        "    def gaussian(x, x_):\n",
        "        d, d_ = descriptor(x), descriptor(x_)\n",
        "        sq_distance = np.sum((d - d_)**2)\n",
        "        return np.exp(-sq_distance / sigma)\n",
        "    @vmap\n",
        "    def _gaussians(x, sigma=sigma):\n",
        "        _gaussian = vmap(partial(gaussian, x))\n",
        "        return _gaussian(X)\n",
        "    return _gaussians(X)\n",
        "\n",
        "K = gaussian_kernel(X)\n",
        "matrix_heatmap(K, center=1)"
      ],
      "outputs": [
        {
          "output_type": "display_data",
          "data": {
            "text/plain": "<Figure size 432x288 with 2 Axes>",
            "image/png": "[encoded data removed]"
          },
          "metadata": {
            "needs_background": "light"
          }
        }
      ],
      "execution_count": 30,
      "metadata": {
        "collapsed": true,
        "jupyter": {
          "source_hidden": false,
          "outputs_hidden": false
        },
        "nteract": {
          "transient": {
            "deleting": false
          }
        },
        "execution": {
          "iopub.status.busy": "2020-11-04T20:41:50.877Z",
          "iopub.execute_input": "2020-11-04T20:41:50.889Z",
          "iopub.status.idle": "2020-11-04T20:41:51.940Z",
          "shell.execute_reply": "2020-11-04T20:41:51.962Z"
        }
      }
    },
    {
      "cell_type": "code",
      "source": [],
      "outputs": [],
      "execution_count": null,
      "metadata": {
        "collapsed": true,
        "jupyter": {
          "source_hidden": false,
          "outputs_hidden": false
        },
        "nteract": {
          "transient": {
            "deleting": false
          }
        }
      }
    },
    {
      "cell_type": "code",
      "source": [
        "from jax import jacfwd, jacrev\n",
        "def hessian(f):\n",
        "    return jacfwd(jacrev(f))"
      ],
      "outputs": [],
      "execution_count": 31,
      "metadata": {
        "collapsed": true,
        "jupyter": {
          "source_hidden": false,
          "outputs_hidden": false
        },
        "nteract": {
          "transient": {
            "deleting": false
          }
        },
        "execution": {
          "iopub.status.busy": "2020-11-04T20:42:24.268Z",
          "iopub.execute_input": "2020-11-04T20:42:24.278Z",
          "iopub.status.idle": "2020-11-04T20:42:24.296Z",
          "shell.execute_reply": "2020-11-04T20:42:24.305Z"
        }
      }
    },
    {
      "cell_type": "code",
      "source": [
        "from jax.config import config\n",
        "config.update(\"jax_debug_nans\", True)"
      ],
      "outputs": [],
      "execution_count": 32,
      "metadata": {
        "collapsed": true,
        "jupyter": {
          "source_hidden": false,
          "outputs_hidden": false
        },
        "nteract": {
          "transient": {
            "deleting": false
          }
        },
        "execution": {
          "iopub.status.busy": "2020-11-04T20:42:25.473Z",
          "iopub.execute_input": "2020-11-04T20:42:25.484Z",
          "iopub.status.idle": "2020-11-04T20:42:25.498Z",
          "shell.execute_reply": "2020-11-04T20:42:25.507Z"
        }
      }
    },
    {
      "cell_type": "code",
      "source": [
        "_gaussian = partial(gaussian, X[0])\n",
        "hess = hessian(_gaussian)\n",
        "hess(X[1]).shape"
      ],
      "outputs": [
        {
          "output_type": "execute_result",
          "execution_count": 33,
          "data": {
            "text/plain": "(4, 3, 4, 3)"
          },
          "metadata": {}
        }
      ],
      "execution_count": 33,
      "metadata": {
        "collapsed": false,
        "jupyter": {
          "source_hidden": false,
          "outputs_hidden": false
        },
        "nteract": {
          "transient": {
            "deleting": false
          }
        },
        "execution": {
          "iopub.status.busy": "2020-11-04T20:42:25.907Z",
          "iopub.execute_input": "2020-11-04T20:42:25.918Z",
          "iopub.status.idle": "2020-11-04T20:42:26.983Z",
          "shell.execute_reply": "2020-11-04T20:42:27.004Z"
        }
      }
    },
    {
      "cell_type": "code",
      "source": [
        "def hess_ij(H):\n",
        "    return np.sum(H, axis=(0, 2))\n",
        "    K = np.zeros((3, 3))\n",
        "    for i in range(3):\n",
        "        for j in range(3):\n",
        "            value = np.sum(H[:, i, :, j])\n",
        "            K = jax.ops.index_update(K, jax.ops.index[i, j], value)\n",
        "    return K"
      ],
      "outputs": [],
      "execution_count": 34,
      "metadata": {
        "collapsed": true,
        "jupyter": {
          "source_hidden": false,
          "outputs_hidden": false
        },
        "nteract": {
          "transient": {
            "deleting": false
          }
        },
        "execution": {
          "iopub.status.busy": "2020-11-04T20:42:36.514Z",
          "iopub.execute_input": "2020-11-04T20:42:36.524Z",
          "iopub.status.idle": "2020-11-04T20:42:36.540Z",
          "shell.execute_reply": "2020-11-04T20:42:36.549Z"
        }
      }
    },
    {
      "cell_type": "code",
      "source": [
        "@jit\n",
        "def kernel(x, x_):\n",
        "    _gaussian = partial(gaussian, x)\n",
        "    hess = hessian(_gaussian)\n",
        "    return hess_ij(hess(x_))"
      ],
      "outputs": [],
      "execution_count": 40,
      "metadata": {
        "collapsed": true,
        "jupyter": {
          "source_hidden": false,
          "outputs_hidden": false
        },
        "nteract": {
          "transient": {
            "deleting": false
          }
        },
        "execution": {
          "iopub.status.busy": "2020-11-04T20:50:26.662Z",
          "iopub.execute_input": "2020-11-04T20:50:26.670Z",
          "iopub.status.idle": "2020-11-04T20:50:26.686Z",
          "shell.execute_reply": "2020-11-04T20:50:26.695Z"
        }
      }
    },
    {
      "cell_type": "code",
      "source": [
        "def kernel_matrix_fast(X, sigma=1):\n",
        "    def kernel(x, x_):\n",
        "        _gaussian = partial(gaussian, x, sigma=sigma)\n",
        "        hess = hessian(_gaussian)\n",
        "        return hess_ij(hess(x_))\n",
        "    \n",
        "    @vmap\n",
        "    def _kernels(x, sigma=sigma):\n",
        "        _kernel = vmap(partial(kernel, x))\n",
        "        return _kernel(X)\n",
        "    K = _kernels(X)\n",
        "    return K\n",
        "    # blocks = [list(x) for x in K]\n",
        "    # return np.block(blocks)\n",
        "  \n",
        "def kernel_matrix_slow(X):\n",
        "    samples = X.shape[0]\n",
        "    K = list()\n",
        "    for i in range(samples):\n",
        "        K.append(list())\n",
        "        for j in range(samples):\n",
        "            # K = jax.ops.index_update(K, jax.ops.index[i, j], kernel(X[i], X[j]))\n",
        "            K[i].append(kernel(X[i], X[j]))\n",
        "    # K = np.block(K)\n",
        "    return K"
      ],
      "outputs": [],
      "execution_count": 71,
      "metadata": {
        "collapsed": true,
        "jupyter": {
          "source_hidden": false,
          "outputs_hidden": false
        },
        "nteract": {
          "transient": {
            "deleting": false
          }
        },
        "execution": {
          "iopub.status.busy": "2020-11-04T21:00:46.099Z",
          "iopub.execute_input": "2020-11-04T21:00:46.108Z",
          "iopub.status.idle": "2020-11-04T21:00:46.123Z",
          "shell.execute_reply": "2020-11-04T21:00:46.135Z"
        }
      }
    },
    {
      "cell_type": "code",
      "source": [
        "K1 = kernel_matrix_slow(X[:2])\n",
        "K2 = kernel_matrix_fast(X[:2])\n",
        "# print(K1.shape, K2.shape)"
      ],
      "outputs": [],
      "execution_count": 73,
      "metadata": {
        "collapsed": true,
        "jupyter": {
          "source_hidden": false,
          "outputs_hidden": false
        },
        "nteract": {
          "transient": {
            "deleting": false
          }
        },
        "execution": {
          "iopub.status.busy": "2020-11-04T21:00:54.929Z",
          "iopub.execute_input": "2020-11-04T21:00:54.938Z",
          "iopub.status.idle": "2020-11-04T21:00:54.966Z",
          "shell.execute_reply": "2020-11-04T21:00:54.977Z"
        }
      }
    },
    {
      "cell_type": "code",
      "source": [
        "K1[1][0] - K1[0][1]"
      ],
      "outputs": [
        {
          "output_type": "execute_result",
          "execution_count": 75,
          "data": {
            "text/plain": "DeviceArray([[-5.9604645e-08,  0.0000000e+00,  5.9604645e-08],\n             [ 0.0000000e+00,  0.0000000e+00, -1.7881393e-07],\n             [ 1.1920929e-07, -5.9604645e-08, -1.1920929e-07]],            dtype=float32)"
          },
          "metadata": {}
        }
      ],
      "execution_count": 75,
      "metadata": {
        "collapsed": true,
        "jupyter": {
          "source_hidden": false,
          "outputs_hidden": false
        },
        "nteract": {
          "transient": {
            "deleting": false
          }
        },
        "execution": {
          "iopub.status.busy": "2020-11-04T21:01:12.913Z",
          "iopub.execute_input": "2020-11-04T21:01:12.921Z",
          "iopub.status.idle": "2020-11-04T21:01:12.940Z",
          "shell.execute_reply": "2020-11-04T21:01:12.949Z"
        }
      }
    },
    {
      "cell_type": "code",
      "source": [
        "%matplotlib inline\n",
        "import matplotlib.pyplot as plt\n",
        "import seaborn as sns\n",
        "\n",
        "def matrix_heatmap(matrix, plt=plt, **kwargs):\n",
        "    ax = sns.heatmap(K, xticklabels=False, yticklabels=False, **kwargs)\n",
        "    plt.show()"
      ],
      "outputs": [],
      "execution_count": 28,
      "metadata": {
        "collapsed": true,
        "jupyter": {
          "source_hidden": false,
          "outputs_hidden": false
        },
        "nteract": {
          "transient": {
            "deleting": false
          }
        },
        "execution": {
          "iopub.status.busy": "2020-11-04T20:40:52.594Z",
          "iopub.execute_input": "2020-11-04T20:40:52.604Z",
          "shell.execute_reply": "2020-11-04T20:40:52.633Z",
          "iopub.status.idle": "2020-11-04T20:40:52.622Z"
        }
      }
    },
    {
      "cell_type": "code",
      "source": [
        "matrix_heatmap(K, center=0)"
      ],
      "outputs": [
        {
          "output_type": "display_data",
          "data": {
            "text/plain": "<Figure size 432x288 with 2 Axes>",
            "image/png": "[encoded data removed]"
          },
          "metadata": {
            "needs_background": "light"
          }
        }
      ],
      "execution_count": 87,
      "metadata": {
        "collapsed": true,
        "jupyter": {
          "source_hidden": false,
          "outputs_hidden": false
        },
        "nteract": {
          "transient": {
            "deleting": false
          }
        },
        "execution": {
          "iopub.status.busy": "2020-11-04T17:40:39.490Z",
          "iopub.execute_input": "2020-11-04T17:40:39.499Z",
          "iopub.status.idle": "2020-11-04T17:40:39.573Z",
          "shell.execute_reply": "2020-11-04T17:40:39.590Z"
        }
      }
    },
    {
      "cell_type": "code",
      "source": [
        "K = fill_diagonal(K, K.diagonal() + 1e-15)\n",
        "samples = 10\n",
        "y_ = y[:10].reshape(samples * 3)\n",
        "alphas = np.linalg.solve(K, y_)\n",
        "alphas = alphas.reshape(10, 3)"
      ],
      "outputs": [],
      "execution_count": 65,
      "metadata": {
        "collapsed": true,
        "jupyter": {
          "source_hidden": false,
          "outputs_hidden": false
        },
        "nteract": {
          "transient": {
            "deleting": false
          }
        },
        "execution": {
          "iopub.status.busy": "2020-11-04T13:57:51.378Z",
          "iopub.execute_input": "2020-11-04T13:57:51.386Z",
          "iopub.status.idle": "2020-11-04T13:57:51.398Z",
          "shell.execute_reply": "2020-11-04T13:57:51.405Z"
        }
      }
    },
    {
      "cell_type": "code",
      "source": [
        "def predict(x, samples=samples, X=X, alphas=alphas):\n",
        "    mu = np.zeros(3)\n",
        "    for i in range(samples):\n",
        "        mu += kernel(x, X[i]) @ alphas[i]\n",
        "    return mu"
      ],
      "outputs": [],
      "execution_count": 66,
      "metadata": {
        "collapsed": true,
        "jupyter": {
          "source_hidden": false,
          "outputs_hidden": false
        },
        "nteract": {
          "transient": {
            "deleting": false
          }
        },
        "execution": {
          "iopub.status.busy": "2020-11-04T13:57:53.750Z",
          "iopub.execute_input": "2020-11-04T13:57:53.758Z",
          "iopub.status.idle": "2020-11-04T13:57:53.771Z",
          "shell.execute_reply": "2020-11-04T13:57:53.780Z"
        }
      }
    },
    {
      "cell_type": "code",
      "source": [
        "y = y[:10].reshape(10, 3)\n",
        "print(predict(X[9]))\n",
        "print(y[9])"
      ],
      "outputs": [
        {
          "output_type": "stream",
          "name": "stdout",
          "text": [
            "[ 0.0460642  -0.28939608 -0.5582838 ]\n",
            "[ 0.04606372 -0.28939605 -0.5582838 ]\n"
          ]
        }
      ],
      "execution_count": 69,
      "metadata": {
        "collapsed": true,
        "jupyter": {
          "source_hidden": false,
          "outputs_hidden": false
        },
        "nteract": {
          "transient": {
            "deleting": false
          }
        },
        "execution": {
          "iopub.status.busy": "2020-11-04T13:58:26.961Z",
          "iopub.execute_input": "2020-11-04T13:58:26.971Z",
          "iopub.status.idle": "2020-11-04T13:58:26.989Z",
          "shell.execute_reply": "2020-11-04T13:58:27.005Z"
        }
      }
    },
    {
      "cell_type": "code",
      "source": [
        "from utils import KRR\n",
        "\n",
        "class VectorValuedKRR(KRR):\n",
        "\n",
        "    def fit(self, X, y):\n",
        "        self.X = X\n",
        "        samples = X.shape[0]\n",
        "        K = kernel_matrix(X)\n",
        "        y = y.reshape(samples * 3)\n",
        "        K = fill_diagonal(K, K.diagonal() + self.lamb)\n",
        "        alphas = np.linalg.solve(K, y)\n",
        "        self.alphas = alphas.reshape(samples, 3)\n",
        "\n",
        "    def predict(self, x):\n",
        "        results = [predict(_x, samples=self.samples, X=self.X, alphas=self.alphas) for _x in x]\n",
        "        return np.array(results)\n",
        "\n",
        "    def score(self, x, y):\n",
        "        yhat = self.predict(x)\n",
        "        return -np.mean(np.sum(np.abs(y - yhat), axis=1))\n"
      ],
      "outputs": [],
      "execution_count": 82,
      "metadata": {
        "collapsed": true,
        "jupyter": {
          "source_hidden": false,
          "outputs_hidden": false
        },
        "nteract": {
          "transient": {
            "deleting": false
          }
        },
        "execution": {
          "iopub.status.busy": "2020-11-04T14:01:42.071Z",
          "iopub.execute_input": "2020-11-04T14:01:42.080Z",
          "iopub.status.idle": "2020-11-04T14:01:42.091Z",
          "shell.execute_reply": "2020-11-04T14:01:42.097Z"
        }
      }
    },
    {
      "cell_type": "code",
      "source": [
        "model = VectorValuedKRR()\n",
        "model.fit(X[:10], y[:10])"
      ],
      "outputs": [],
      "execution_count": 83,
      "metadata": {
        "collapsed": true,
        "jupyter": {
          "source_hidden": false,
          "outputs_hidden": false
        },
        "nteract": {
          "transient": {
            "deleting": false
          }
        },
        "execution": {
          "iopub.status.busy": "2020-11-04T14:01:46.498Z",
          "iopub.execute_input": "2020-11-04T14:01:46.506Z",
          "iopub.status.idle": "2020-11-04T14:01:47.495Z",
          "shell.execute_reply": "2020-11-04T14:01:47.516Z"
        }
      }
    },
    {
      "cell_type": "code",
      "source": [
        "print(model.predict([X[51]]))\n",
        "print(y[51])"
      ],
      "outputs": [
        {
          "output_type": "stream",
          "name": "stdout",
          "text": [
            "[[-0.09556997 -1.0142157   0.7243877 ]]\n",
            "[-0.02243282  0.16857044  0.3250411 ]\n"
          ]
        }
      ],
      "execution_count": 84,
      "metadata": {
        "collapsed": true,
        "jupyter": {
          "source_hidden": false,
          "outputs_hidden": false
        },
        "nteract": {
          "transient": {
            "deleting": false
          }
        },
        "execution": {
          "iopub.status.busy": "2020-11-04T14:01:49.016Z",
          "iopub.execute_input": "2020-11-04T14:01:49.023Z",
          "iopub.status.idle": "2020-11-04T14:01:49.054Z",
          "shell.execute_reply": "2020-11-04T14:01:49.063Z"
        }
      }
    },
    {
      "cell_type": "code",
      "source": [
        "model.score(X[:10], y[:10])"
      ],
      "outputs": [
        {
          "output_type": "execute_result",
          "execution_count": 85,
          "data": {
            "text/plain": "DeviceArray(-9.4734133e-07, dtype=float32)"
          },
          "metadata": {}
        }
      ],
      "execution_count": 85,
      "metadata": {
        "collapsed": true,
        "jupyter": {
          "source_hidden": false,
          "outputs_hidden": false
        },
        "nteract": {
          "transient": {
            "deleting": false
          }
        },
        "execution": {
          "iopub.status.busy": "2020-11-04T14:01:54.924Z",
          "iopub.execute_input": "2020-11-04T14:01:54.931Z",
          "iopub.status.idle": "2020-11-04T14:01:55.336Z",
          "shell.execute_reply": "2020-11-04T14:01:55.351Z"
        }
      }
    },
    {
      "cell_type": "code",
      "source": [],
      "outputs": [],
      "execution_count": null,
      "metadata": {
        "collapsed": true,
        "jupyter": {
          "source_hidden": false,
          "outputs_hidden": false
        },
        "nteract": {
          "transient": {
            "deleting": false
          }
        }
      }
    }
  ],
  "metadata": {
    "kernel_info": {
      "name": "python3"
    },
    "language_info": {
      "name": "python",
      "version": "3.8.5",
      "mimetype": "text/x-python",
      "codemirror_mode": {
        "name": "ipython",
        "version": 3
      },
      "pygments_lexer": "ipython3",
      "nbconvert_exporter": "python",
      "file_extension": ".py"
    },
    "kernelspec": {
      "argv": [
        "/usr/local/bin/python3",
        "-m",
        "ipykernel_launcher",
        "-f",
        "{connection_file}"
      ],
      "display_name": "Python 3",
      "language": "python",
      "name": "python3"
    },
    "nteract": {
      "version": "0.26.0"
    }
  },
  "nbformat": 4,
  "nbformat_minor": 0
}