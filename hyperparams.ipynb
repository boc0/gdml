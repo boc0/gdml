{
 "cells": [
  {
   "cell_type": "code",
   "execution_count": 3,
   "metadata": {
    "execution": {
     "iopub.execute_input": "2020-12-02T13:11:11.510Z",
     "iopub.status.busy": "2020-12-02T13:11:11.502Z",
     "iopub.status.idle": "2020-12-02T13:11:14.007Z",
     "shell.execute_reply": "2020-12-02T13:11:14.021Z"
    },
    "jupyter": {
     "outputs_hidden": false,
     "source_hidden": false
    },
    "nteract": {
     "transient": {
      "deleting": false
     }
    }
   },
   "outputs": [],
   "source": [
    "from functools import partial\n",
    "import jax.numpy as np\n",
    "from jax import grad, jit, vmap\n",
    "\n",
    "from dipole import VectorValuedKRR\n",
    "from utils import matern, gaussian"
   ]
  },
  {
   "cell_type": "code",
   "execution_count": null,
   "metadata": {
    "execution": {
     "iopub.execute_input": "2020-12-02T16:58:08.670Z",
     "iopub.status.busy": "2020-12-02T16:58:08.661Z",
     "iopub.status.idle": "2020-12-02T16:58:08.752Z",
     "shell.execute_reply": "2020-12-02T16:58:08.772Z"
    },
    "jupyter": {
     "outputs_hidden": false,
     "source_hidden": false
    },
    "nteract": {
     "transient": {
      "deleting": false
     }
    }
   },
   "outputs": [],
   "source": [
    "data = np.load('data/HOOH.DFT.PBE-TS.light.MD.500K.50k.R_E_F_D_Q.npz')\n",
    "X = np.array(data['R'])\n",
    "y = np.array(data['D'])"
   ]
  },
  {
   "cell_type": "markdown",
   "metadata": {},
   "source": [
    "The following cells will visualise the hessian of the similarity for the first few data points. Being that we are dealing with a dataset of trajectories, data points with similar indices represent similar geometries."
   ]
  },
  {
   "cell_type": "code",
   "execution_count": 75,
   "metadata": {
    "collapsed": true,
    "execution": {
     "iopub.execute_input": "2020-12-02T16:58:24.974Z",
     "iopub.status.busy": "2020-12-02T16:58:24.960Z",
     "iopub.status.idle": "2020-12-02T16:58:24.987Z",
     "shell.execute_reply": "2020-12-02T16:58:24.995Z"
    },
    "jupyter": {
     "outputs_hidden": false,
     "source_hidden": false
    },
    "nteract": {
     "transient": {
      "deleting": false
     }
    }
   },
   "outputs": [],
   "source": [
    "import numpy as onp\n",
    "from sklearn.model_selection import GridSearchCV\n",
    "\n",
    "\n",
    "def search_hyperparams(size=50, **choices):\n",
    "    fixed = {}\n",
    "    for param, values in choices.items():\n",
    "        if not isinstance(values, list):\n",
    "            fixed[param] = values\n",
    "            choices[param] = [values]\n",
    "        else:\n",
    "            search_param = param\n",
    "     \n",
    "    M = X.shape[0]\n",
    "\n",
    "    indices = onp.random.choice(M, size=size, replace=False)\n",
    "    Xtrain, ytrain = X[indices], y[indices]\n",
    "\n",
    "    cross_validation = GridSearchCV(VectorValuedKRR(), choices)\n",
    "    cross_validation.fit(Xtrain, ytrain)\n",
    "    results = cross_validation.cv_results_\n",
    "    mean_scores = -results['mean_test_score']\n",
    "    return choices[search_param], mean_scores"
   ]
  },
  {
   "cell_type": "code",
   "execution_count": 63,
   "metadata": {
    "collapsed": true,
    "execution": {
     "iopub.execute_input": "2020-12-02T14:59:51.496Z",
     "iopub.status.busy": "2020-12-02T14:59:51.487Z",
     "iopub.status.idle": "2020-12-02T14:59:51.506Z",
     "shell.execute_reply": "2020-12-02T14:59:51.583Z"
    },
    "jupyter": {
     "outputs_hidden": false,
     "source_hidden": false
    },
    "nteract": {
     "transient": {
      "deleting": false
     }
    }
   },
   "outputs": [],
   "source": [
    "import pandas as pd\n",
    "import seaborn as sns\n",
    "import matplotlib.pyplot as plt"
   ]
  },
  {
   "cell_type": "code",
   "execution_count": 76,
   "metadata": {
    "execution": {
     "iopub.execute_input": "2020-12-02T16:58:27.505Z",
     "iopub.status.busy": "2020-12-02T16:58:27.491Z",
     "iopub.status.idle": "2020-12-02T17:00:39.049Z",
     "shell.execute_reply": "2020-12-02T17:00:39.066Z"
    },
    "jupyter": {
     "outputs_hidden": false,
     "source_hidden": false
    },
    "nteract": {
     "transient": {
      "deleting": false
     }
    }
   },
   "outputs": [
    {
     "data": {
      "text/plain": [
       "<AxesSubplot:xlabel='lambda', ylabel='mean test score'>"
      ]
     },
     "execution_count": 76,
     "metadata": {},
     "output_type": "execute_result"
    },
    {
     "data": {
      "image/png": "[encoded data removed]",
      "text/plain": [
       "<Figure size 576x432 with 1 Axes>"
      ]
     },
     "metadata": {},
     "output_type": "display_data"
    }
   ],
   "source": [
    "param_values_lambda, scores_lambda = search_hyperparams(lamb=[1e-15, 1e-10, 1e-5, 1e-2, 1.0], sigma=100)\n",
    "data = pd.DataFrame({'lambda': param_values_lambda, 'mean test score': scores_lambda})\n",
    "sns.pointplot(x='lambda', y='mean test score', data=data)"
   ]
  },
  {
   "cell_type": "code",
   "execution_count": 88,
   "metadata": {
    "execution": {
     "iopub.execute_input": "2020-12-02T19:03:08.021Z",
     "iopub.status.busy": "2020-12-02T19:03:08.008Z",
     "iopub.status.idle": "2020-12-02T19:03:08.044Z",
     "shell.execute_reply": "2020-12-02T19:03:08.053Z"
    },
    "jupyter": {
     "outputs_hidden": false,
     "source_hidden": false
    },
    "nteract": {
     "transient": {
      "deleting": false
     }
    }
   },
   "outputs": [
    {
     "data": {
      "text/plain": [
       "array([2.11447762e+04, 6.59759784e+03, 1.24975112e-01, 1.24990930e-01,\n",
       "       1.24990965e-01])"
      ]
     },
     "execution_count": 88,
     "metadata": {},
     "output_type": "execute_result"
    }
   ],
   "source": [
    "scores_lambda"
   ]
  },
  {
   "cell_type": "code",
   "execution_count": 89,
   "metadata": {
    "execution": {
     "iopub.execute_input": "2020-12-02T23:16:37.341Z",
     "iopub.status.busy": "2020-12-02T23:16:37.271Z",
     "iopub.status.idle": "2020-12-02T23:19:48.924Z",
     "shell.execute_reply": "2020-12-02T23:19:48.942Z"
    },
    "jupyter": {
     "outputs_hidden": false,
     "source_hidden": false
    },
    "nteract": {
     "transient": {
      "deleting": false
     }
    }
   },
   "outputs": [
    {
     "data": {
      "text/plain": [
       "<AxesSubplot:xlabel='sigma', ylabel='mean test score'>"
      ]
     },
     "execution_count": 89,
     "metadata": {},
     "output_type": "execute_result"
    },
    {
     "data": {
      "image/png": "[encoded data removed]",
      "text/plain": [
       "<Figure size 576x432 with 1 Axes>"
      ]
     },
     "metadata": {},
     "output_type": "display_data"
    }
   ],
   "source": [
    "param_values_sigma, scores_sigma = search_hyperparams(lamb=1e-5, sigma=[10, 20, 50, 100, 200, 500, 1000, 2000, 5000])\n",
    "data = pd.DataFrame({'sigma': param_values_sigma, 'mean test score': scores_sigma})\n",
    "sns.pointplot(x='sigma', y='mean test score', data=data)"
   ]
  },
  {
   "cell_type": "code",
   "execution_count": 90,
   "metadata": {
    "execution": {
     "iopub.execute_input": "2020-12-03T02:43:33.981Z",
     "iopub.status.busy": "2020-12-03T02:43:33.967Z",
     "iopub.status.idle": "2020-12-03T02:43:34.149Z",
     "shell.execute_reply": "2020-12-03T02:43:34.162Z"
    },
    "jupyter": {
     "outputs_hidden": false,
     "source_hidden": false
    },
    "nteract": {
     "transient": {
      "deleting": false
     }
    }
   },
   "outputs": [
    {
     "data": {
      "text/plain": [
       "array([0.15499019, 0.15296831, 0.15051026, 0.15022951, 0.15084054,\n",
       "       0.15090252, 0.15095864, 0.15095631, 0.15093392])"
      ]
     },
     "execution_count": 90,
     "metadata": {},
     "output_type": "execute_result"
    }
   ],
   "source": [
    "scores_sigma"
   ]
  },
  {
   "cell_type": "code",
   "execution_count": 80,
   "metadata": {
    "execution": {
     "iopub.execute_input": "2020-12-02T17:12:13.125Z",
     "iopub.status.busy": "2020-12-02T17:12:13.114Z",
     "iopub.status.idle": "2020-12-02T17:14:13.993Z",
     "shell.execute_reply": "2020-12-02T17:14:14.034Z"
    },
    "jupyter": {
     "outputs_hidden": false,
     "source_hidden": false
    },
    "nteract": {
     "transient": {
      "deleting": false
     }
    }
   },
   "outputs": [
    {
     "data": {
      "text/plain": [
       "<AxesSubplot:xlabel='sigma', ylabel='mean test score'>"
      ]
     },
     "execution_count": 80,
     "metadata": {},
     "output_type": "execute_result"
    },
    {
     "data": {
      "image/png": "[encoded data removed]",
      "text/plain": [
       "<Figure size 576x432 with 1 Axes>"
      ]
     },
     "metadata": {},
     "output_type": "display_data"
    }
   ],
   "source": [
    "param_values_lambda_gauss, scores_lambda_gauss = search_hyperparams(lamb=[1e-15, 1e-10, 1e-5, 1e-2, 1.0], sigma=200, similarity=gaussian)\n",
    "data = pd.DataFrame({'sigma': param_values_lambda_gauss, 'mean test score': scores_lambda_gauss})\n",
    "sns.pointplot(x='sigma', y='mean test score', data=data)"
   ]
  },
  {
   "cell_type": "code",
   "execution_count": 83,
   "metadata": {
    "execution": {
     "iopub.execute_input": "2020-12-02T17:19:06.513Z",
     "iopub.status.busy": "2020-12-02T17:19:06.503Z",
     "iopub.status.idle": "2020-12-02T17:19:06.534Z",
     "shell.execute_reply": "2020-12-02T17:19:06.547Z"
    },
    "jupyter": {
     "outputs_hidden": false,
     "source_hidden": false
    },
    "nteract": {
     "transient": {
      "deleting": false
     }
    }
   },
   "outputs": [
    {
     "data": {
      "text/plain": [
       "array([5.41738234e+13, 3.73475293e+04, 1.56291698e-01, 1.56393957e-01,\n",
       "       1.56394061e-01])"
      ]
     },
     "execution_count": 83,
     "metadata": {},
     "output_type": "execute_result"
    }
   ],
   "source": [
    "scores_lambda_gauss"
   ]
  },
  {
   "cell_type": "code",
   "execution_count": 86,
   "metadata": {
    "execution": {
     "iopub.execute_input": "2020-12-02T18:54:53.579Z",
     "iopub.status.busy": "2020-12-02T18:54:53.518Z",
     "iopub.status.idle": "2020-12-02T18:57:57.696Z",
     "shell.execute_reply": "2020-12-02T18:57:57.714Z"
    },
    "jupyter": {
     "outputs_hidden": false,
     "source_hidden": false
    },
    "nteract": {
     "transient": {
      "deleting": false
     }
    }
   },
   "outputs": [
    {
     "data": {
      "text/plain": [
       "<AxesSubplot:xlabel='sigma', ylabel='mean test score'>"
      ]
     },
     "execution_count": 86,
     "metadata": {},
     "output_type": "execute_result"
    },
    {
     "data": {
      "image/png": "[encoded data removed]",
      "text/plain": [
       "<Figure size 576x432 with 1 Axes>"
      ]
     },
     "metadata": {},
     "output_type": "display_data"
    }
   ],
   "source": [
    "param_values_sigma_gauss, scores_sigma_gauss = search_hyperparams(lamb=1e-5, sigma=[10, 20, 50, 100, 200, 500, 1000, 2000, 5000], similarity=gaussian)\n",
    "data = pd.DataFrame({'sigma': param_values_sigma_gauss, 'mean test score': scores_sigma_gauss})\n",
    "sns.pointplot(x='sigma', y='mean test score', data=data)"
   ]
  },
  {
   "cell_type": "code",
   "execution_count": 87,
   "metadata": {
    "execution": {
     "iopub.execute_input": "2020-12-02T19:02:26.837Z",
     "iopub.status.busy": "2020-12-02T19:02:26.827Z",
     "iopub.status.idle": "2020-12-02T19:02:26.859Z",
     "shell.execute_reply": "2020-12-02T19:02:26.868Z"
    },
    "jupyter": {
     "outputs_hidden": false,
     "source_hidden": false
    },
    "nteract": {
     "transient": {
      "deleting": false
     }
    }
   },
   "outputs": [
    {
     "data": {
      "text/plain": [
       "array([0.16012809, 0.16868149, 0.16630048, 0.16544107, 0.16552861,\n",
       "       0.16571148, 0.1657382 , 0.16573166, 0.16569427])"
      ]
     },
     "execution_count": 87,
     "metadata": {},
     "output_type": "execute_result"
    }
   ],
   "source": [
    "scores_sigma_gauss"
   ]
  }
 ],
 "metadata": {
  "kernel_info": {
   "name": "python3"
  },
  "kernelspec": {
   "display_name": "Python 3",
   "language": "python",
   "name": "python3"
  },
  "language_info": {
   "codemirror_mode": {
    "name": "ipython",
    "version": 3
   },
   "file_extension": ".py",
   "mimetype": "text/x-python",
   "name": "python",
   "nbconvert_exporter": "python",
   "pygments_lexer": "ipython3",
   "version": "3.7.4"
  },
  "nteract": {
   "version": "0.27.0"
  }
 },
 "nbformat": 4,
 "nbformat_minor": 1
}
