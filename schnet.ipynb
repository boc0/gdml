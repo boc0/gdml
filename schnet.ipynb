{
 "cells": [
  {
   "cell_type": "markdown",
   "metadata": {},
   "source": [
    "# Kernel Ridge Regression vs SchNet: data efficiency\n",
    "\n",
    "The molecular trajectory datasets that we use to train a dipolar moment prediction model are generated through expensive simulations. Therefore, the ability of a family of models to learn from small datasets is of interest. This work will compare the performance of a Kernel Ridge Regression (KRR) model and SchNet model for datasets of size between 10 and 100 points. Each subsequent dataset will be a superset of the previous, with the whole training set of 100 points being randomly sampled."
   ]
  },
  {
   "cell_type": "code",
   "execution_count": 1,
   "metadata": {
    "collapsed": false,
    "jupyter": {
     "outputs_hidden": false,
     "source_hidden": false
    },
    "nteract": {
     "transient": {
      "deleting": false
     }
    }
   },
   "outputs": [],
   "source": [
    "import os\n",
    "\n",
    "import numpy as onp\n",
    "import jax.numpy as np\n",
    "import pandas as pd\n",
    "\n",
    "import matplotlib.pyplot as plt\n",
    "import seaborn as sns\n",
    "\n",
    "from sklearn.model_selection import GridSearchCV\n",
    "\n",
    "from dipole import VectorValuedKRR\n",
    "from utils import matern, coulomb"
   ]
  },
  {
   "cell_type": "code",
   "execution_count": 2,
   "metadata": {
    "collapsed": false,
    "jupyter": {
     "outputs_hidden": false,
     "source_hidden": false
    },
    "nteract": {
     "transient": {
      "deleting": false
     }
    },
    "scrolled": true
   },
   "outputs": [
    {
     "name": "stderr",
     "output_type": "stream",
     "text": [
      "WARNING:absl:No GPU/TPU found, falling back to CPU. (Set TF_CPP_MIN_LOG_LEVEL=0 and rerun for more info.)\n"
     ]
    }
   ],
   "source": [
    "data = np.load('data/HOOH.DFT.PBE-TS.light.MD.500K.50k.R_E_F_D_Q.npz')\n",
    "X = np.array(data['R'])\n",
    "y = np.array(data['D'])"
   ]
  },
  {
   "cell_type": "code",
   "execution_count": 3,
   "metadata": {
    "collapsed": false,
    "jupyter": {
     "outputs_hidden": false,
     "source_hidden": false
    },
    "nteract": {
     "transient": {
      "deleting": false
     }
    }
   },
   "outputs": [
    {
     "name": "stdout",
     "output_type": "stream",
     "text": [
      "2000\n"
     ]
    }
   ],
   "source": [
    "import schnetpack as spk\n",
    "from ase.db.jsondb import JSONDatabase\n",
    "from schnetpack.data import AtomsData\n",
    "atomsdb = AtomsData('data/data.json')\n",
    "M = len(atomsdb)\n",
    "print(M)"
   ]
  },
  {
   "cell_type": "code",
   "execution_count": 4,
   "metadata": {
    "collapsed": false,
    "jupyter": {
     "outputs_hidden": false,
     "source_hidden": false
    },
    "nteract": {
     "transient": {
      "deleting": false
     }
    }
   },
   "outputs": [],
   "source": [
    "import torch\n",
    "import schnetpack as spk\n",
    "\n",
    "# loss function\n",
    "def squared_norm(batch, result):\n",
    "    diff = batch['dipole'].squeeze() - result['dipole'].squeeze()\n",
    "    err_sq = torch.linalg.norm(diff, axis=1)**2\n",
    "    return err_sq.mean().item()\n",
    "\n",
    "\n",
    "def train_schnet(train, val, size=50):\n",
    "\n",
    "    train_loader = spk.AtomsLoader(train, batch_size=2048, shuffle=True)\n",
    "    val_loader = spk.AtomsLoader(val, batch_size=2048)\n",
    "\n",
    "    schnet = spk.representation.SchNet(\n",
    "        n_atom_basis=30, n_filters=30, n_gaussians=20, n_interactions=5,\n",
    "        cutoff=4., cutoff_network=spk.nn.cutoff.CosineCutoff\n",
    "    )\n",
    "\n",
    "    output_alpha = spk.atomistic.DipoleMoment(n_in=30, property='dipole')\n",
    "    model = spk.AtomisticModel(representation=schnet, output_modules=output_alpha)\n",
    "\n",
    "    optimizer = torch.optim.Adam(model.parameters(), lr=1e-2)\n",
    "    loss = spk.train.build_mse_loss(['dipole'])\n",
    "\n",
    "    metrics = [spk.metrics.MeanAbsoluteError('dipole')]\n",
    "    hooks = [\n",
    "        spk.train.ReduceLROnPlateauHook(\n",
    "            optimizer,\n",
    "            patience=5, factor=0.8, min_lr=1e-6,\n",
    "            stop_after_min=True\n",
    "        ),\n",
    "        spk.train.EarlyStoppingHook(8)\n",
    "    ]\n",
    "\n",
    "    model_dir = f'model-{size}'\n",
    "    trainer = spk.train.Trainer(\n",
    "        model_path=model_dir,\n",
    "        model=model,\n",
    "        hooks=hooks,\n",
    "        loss_fn=loss,\n",
    "        optimizer=optimizer,\n",
    "        train_loader=train_loader,\n",
    "        validation_loader=val_loader,\n",
    "    )\n",
    "\n",
    "    trainer.train(device='cpu', n_epochs=50)\n",
    "\n",
    "    return torch.load(os.path.join(model_dir, 'best_model'))"
   ]
  },
  {
   "cell_type": "code",
   "execution_count": 5,
   "metadata": {
    "collapsed": false,
    "jupyter": {
     "outputs_hidden": false,
     "source_hidden": false
    },
    "nteract": {
     "transient": {
      "deleting": false
     }
    }
   },
   "outputs": [
    {
     "name": "stderr",
     "output_type": "stream",
     "text": [
      "/Library/Frameworks/Python.framework/Versions/3.7/lib/python3.7/site-packages/jax/_src/lax/lax.py:6271: UserWarning: Explicitly requested dtype <class 'int'> requested in linspace is not available, and will be truncated to dtype int32. To enable more dtypes, set the jax_enable_x64 configuration option or the JAX_ENABLE_X64 shell environment variable. See https://github.com/google/jax#current-gotchas for more.\n",
      "  warnings.warn(msg.format(dtype, fun_name , truncated_dtype))\n",
      "/Library/Frameworks/Python.framework/Versions/3.7/lib/python3.7/site-packages/ase/atoms.py:972: VisibleDeprecationWarning: Use get_global_number_of_atoms() instead\n",
      "  np.VisibleDeprecationWarning)\n"
     ]
    },
    {
     "name": "stdout",
     "output_type": "stream",
     "text": [
      "size: 10\n",
      "gdml error: 0.429327\n",
      "schnet error: 0.022477\n",
      "size: 20\n",
      "gdml error: 0.029824\n",
      "schnet error: 0.006545\n",
      "size: 30\n",
      "gdml error: 0.097247\n",
      "schnet error: 0.195346\n",
      "size: 40\n",
      "gdml error: 0.033223\n",
      "schnet error: 0.189256\n",
      "size: 50\n",
      "gdml error: 0.038128\n",
      "schnet error: 0.001093\n",
      "size: 60\n",
      "gdml error: 0.045432\n",
      "schnet error: 0.162942\n",
      "size: 70\n",
      "gdml error: 0.026639\n",
      "schnet error: 0.119751\n",
      "size: 80\n",
      "gdml error: 0.034595\n",
      "schnet error: 0.180008\n",
      "size: 90\n",
      "gdml error: 0.116423\n",
      "schnet error: 0.149139\n",
      "size: 100\n",
      "gdml error: 0.032114\n",
      "schnet error: 0.200092\n"
     ]
    }
   ],
   "source": [
    "data_subset_sizes = list(np.linspace(10, 100, 10, dtype=int))\n",
    "sigmas = list(np.logspace(1, 4, 19))\n",
    "lambdas = list(np.logspace(0, 3, 10))\n",
    "parameters = {'sigma': sigmas, 'lamb': lambdas}\n",
    "\n",
    "test_indices = onp.random.choice(M, size=100, replace=False)\n",
    "test_data = atomsdb.create_subset(list(test_indices))\n",
    "test_batch = list(spk.AtomsLoader(test_data, batch_size=2048))[0]\n",
    "Xtest, ytest = X[test_indices], y[test_indices]\n",
    "\n",
    "mask = onp.ones(M, dtype=bool)\n",
    "mask[test_indices] = False\n",
    "X, y = X[mask], y[mask]\n",
    "\n",
    "train_indices = onp.random.choice(M-100, size=data_subset_sizes[-1], replace=False)\n",
    "X, y = X[train_indices], y[train_indices]\n",
    "\n",
    "errors_gdml, errors_schnet = [], []\n",
    "\n",
    "for size in data_subset_sizes:\n",
    "    print(f'size: {size}')\n",
    "\n",
    "    Xtrain, ytrain = X[:size], y[:size]\n",
    "\n",
    "    cross_validation = GridSearchCV(VectorValuedKRR(), parameters)\n",
    "    cross_validation.fit(Xtrain, ytrain)\n",
    "    results = cross_validation.cv_results_\n",
    "    best = np.argmin(results['rank_test_score'])\n",
    "    best_params = results['params'][best]\n",
    "    # print(f'best params: {best_params}')\n",
    "    best_model = VectorValuedKRR(**best_params)\n",
    "    best_model.fit(Xtrain, ytrain)\n",
    "    best_test_error = -best_model.score(Xtest, ytest).item()\n",
    "    errors_gdml.append(best_test_error)\n",
    "    print(f'gdml error: {best_test_error:.6f}')\n",
    "\n",
    "    data_cut = atomsdb.create_subset(train_indices[:size])\n",
    "    val_size = size // 10\n",
    "    train, val, test = spk.train_test_split(\n",
    "        data=data_cut,\n",
    "        num_train=size - val_size,\n",
    "        num_val=val_size\n",
    "    )\n",
    "    best_model = train_schnet(train, val, size=size)\n",
    "    prediction = best_model(test_batch)\n",
    "    test_error_schnet = squared_norm(prediction, test_batch)\n",
    "    print(f'schnet error: {test_error_schnet:.6f}')\n",
    "    errors_schnet.append(test_error_schnet)\n"
   ]
  },
  {
   "cell_type": "code",
   "execution_count": 6,
   "metadata": {},
   "outputs": [
    {
     "data": {
      "text/plain": [
       "<AxesSubplot:label='4b0b5a1e-5be8-4df0-829f-053b9179e89c', xlabel='samples trained on', ylabel='schnet error'>"
      ]
     },
     "execution_count": 6,
     "metadata": {},
     "output_type": "execute_result"
    },
    {
     "data": {
      "image/png": "[encoded data removed]",
      "text/plain": [
       "<Figure size 432x288 with 2 Axes>"
      ]
     },
     "metadata": {
      "needs_background": "light"
     },
     "output_type": "display_data"
    }
   ],
   "source": [
    "data = pd.DataFrame({'samples trained on': data_subset_sizes, 'gdml error': errors_gdml, 'schnet error': errors_schnet})\n",
    "fig, ax = plt.subplots()\n",
    "ax2 = ax.twinx()\n",
    "sns.pointplot(x='samples trained on', y='gdml error', data=data, s=100, ax=ax, color='royalblue')\n",
    "ax2.set_ylim(ax.get_ylim())\n",
    "sns.pointplot(x='samples trained on', y='schnet error', data=data, s=100, ax=ax2, color='forestgreen')"
   ]
  },
  {
   "cell_type": "markdown",
   "metadata": {},
   "source": [
    "As seen on the plot, our method (blue) usually outperforms a deep SchNet model on a small training set. "
   ]
  }
 ],
 "metadata": {
  "kernel_info": {
   "name": "python3"
  },
  "kernelspec": {
   "display_name": "Python 3",
   "language": "python",
   "name": "python3"
  },
  "language_info": {
   "codemirror_mode": {
    "name": "ipython",
    "version": 3
   },
   "file_extension": ".py",
   "mimetype": "text/x-python",
   "name": "python",
   "nbconvert_exporter": "python",
   "pygments_lexer": "ipython3",
   "version": "3.7.4"
  },
  "nteract": {
   "version": "0.27.0"
  }
 },
 "nbformat": 4,
 "nbformat_minor": 4
}
