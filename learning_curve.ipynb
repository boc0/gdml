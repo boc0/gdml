{
 "cells": [
  {
   "cell_type": "code",
   "execution_count": 1,
   "metadata": {
    "collapsed": false,
    "jupyter": {
     "outputs_hidden": false,
     "source_hidden": false
    },
    "nteract": {
     "transient": {
      "deleting": false
     }
    }
   },
   "outputs": [
    {
     "name": "stderr",
     "output_type": "stream",
     "text": [
      "WARNING:absl:No GPU/TPU found, falling back to CPU. (Set TF_CPP_MIN_LOG_LEVEL=0 and rerun for more info.)\n"
     ]
    }
   ],
   "source": [
    "import jax.numpy as np\n",
    "import numpy as onp\n",
    "import pandas as pd\n",
    "import seaborn as sns\n",
    "import matplotlib.pyplot as plt\n",
    "from sklearn.model_selection import GridSearchCV\n",
    "from tqdm import tqdm\n",
    "import mlflow\n",
    "\n",
    "from dipole import VectorValuedKRR, train\n",
    "from learning_curve import learning_curve"
   ]
  },
  {
   "cell_type": "code",
   "execution_count": 2,
   "metadata": {
    "collapsed": false,
    "jupyter": {
     "outputs_hidden": false,
     "source_hidden": false
    },
    "nteract": {
     "transient": {
      "deleting": false
     }
    }
   },
   "outputs": [
    {
     "name": "stderr",
     "output_type": "stream",
     "text": [
      "/Library/Frameworks/Python.framework/Versions/3.7/lib/python3.7/site-packages/jax/_src/lax/lax.py:6271: UserWarning: Explicitly requested dtype <class 'int'> requested in linspace is not available, and will be truncated to dtype int32. To enable more dtypes, set the jax_enable_x64 configuration option or the JAX_ENABLE_X64 shell environment variable. See https://github.com/google/jax#current-gotchas for more.\n",
      "  warnings.warn(msg.format(dtype, fun_name , truncated_dtype))\n",
      "2021/02/10 10:37:29 INFO mlflow.utils.autologging_utils: sklearn autologging will track hyperparameters, performance metrics, model artifacts, and lineage information for the current sklearn workflow to the MLflow run with ID '8d320faf573c43f491d91bfbec5bb6f2'\n"
     ]
    },
    {
     "name": "stdout",
     "output_type": "stream",
     "text": [
      "Fitting 5 folds for each of 2 candidates, totalling 10 fits\n"
     ]
    },
    {
     "name": "stderr",
     "output_type": "stream",
     "text": [
      "2021/02/10 10:37:46 WARNING mlflow.utils.autologging_utils: MLflow issued a warning during sklearn autologging: \"/Library/Frameworks/Python.framework/Versions/3.7/lib/python3.7/site-packages/mlflow/sklearn/__init__.py:824: UserWarning: Logging to MLflow failed: Got invalid value -0.22418082 for metric 'training_score' (timestamp=1612949866199). Please specify value as a valid double (64-bit floating point)\"\n",
      "2021/02/10 10:37:46 WARNING mlflow.sklearn: Failed to infer model signature: Expected one of (pandas.DataFrame, numpy array, dictionary of (name -> numpy.ndarray), pyspark.sql.DataFrame) but got '<class 'jax.interpreters.xla.DeviceArray'>'\n"
     ]
    },
    {
     "name": "stdout",
     "output_type": "stream",
     "text": [
      "best params: {'lamb': 5.547119471592124, 'sigma': 7257.005721594274}\n",
      "test error: 0.31944915652275085\n",
      "mean angle: 82.28938293457031\n",
      "time taken: 23.503825187683105\n"
     ]
    },
    {
     "name": "stderr",
     "output_type": "stream",
     "text": [
      "2021/02/10 10:37:53 INFO mlflow.utils.autologging_utils: sklearn autologging will track hyperparameters, performance metrics, model artifacts, and lineage information for the current sklearn workflow to the MLflow run with ID 'b998d9eb6af74f92a7155a14f45db16e'\n"
     ]
    },
    {
     "name": "stdout",
     "output_type": "stream",
     "text": [
      "Fitting 5 folds for each of 2 candidates, totalling 10 fits\n"
     ]
    },
    {
     "name": "stderr",
     "output_type": "stream",
     "text": [
      "2021/02/10 10:38:11 WARNING mlflow.utils.autologging_utils: MLflow issued a warning during sklearn autologging: \"/Library/Frameworks/Python.framework/Versions/3.7/lib/python3.7/site-packages/mlflow/sklearn/__init__.py:824: UserWarning: Logging to MLflow failed: Got invalid value -0.21899079 for metric 'training_score' (timestamp=1612949891693). Please specify value as a valid double (64-bit floating point)\"\n",
      "2021/02/10 10:38:13 WARNING mlflow.sklearn: Failed to infer model signature: Expected one of (pandas.DataFrame, numpy array, dictionary of (name -> numpy.ndarray), pyspark.sql.DataFrame) but got '<class 'jax.interpreters.xla.DeviceArray'>'\n"
     ]
    },
    {
     "name": "stdout",
     "output_type": "stream",
     "text": [
      "best params: {'lamb': 5.547119471592124, 'sigma': 7257.005721594274}\n",
      "test error: 0.30315425992012024\n",
      "mean angle: 79.8437728881836\n",
      "time taken: 27.189923763275146\n"
     ]
    },
    {
     "data": {
      "image/png": "[encoded data removed]",
      "text/plain": [
       "<Figure size 432x288 with 2 Axes>"
      ]
     },
     "metadata": {
      "needs_background": "light"
     },
     "output_type": "display_data"
    }
   ],
   "source": [
    "run_id = learning_curve(cv='random', randomize=False)"
   ]
  },
  {
   "cell_type": "code",
   "execution_count": 3,
   "metadata": {},
   "outputs": [
    {
     "name": "stderr",
     "output_type": "stream",
     "text": [
      "/Library/Frameworks/Python.framework/Versions/3.7/lib/python3.7/site-packages/jax/_src/lax/lax.py:6271: UserWarning: Explicitly requested dtype <class 'int'> requested in linspace is not available, and will be truncated to dtype int32. To enable more dtypes, set the jax_enable_x64 configuration option or the JAX_ENABLE_X64 shell environment variable. See https://github.com/google/jax#current-gotchas for more.\n",
      "  warnings.warn(msg.format(dtype, fun_name , truncated_dtype))\n",
      "2021/02/09 09:35:25 INFO mlflow.utils.autologging_utils: sklearn autologging will track hyperparameters, performance metrics, model artifacts, and lineage information for the current sklearn workflow to the MLflow run with ID 'b57f8e4612604c6bb261ec3de861eabd'\n",
      "2021/02/09 09:35:25 WARNING mlflow.sklearn.utils: Truncated the value of the key `param_grid`. Truncated value: `{'sigma': [10.0, 14.677991, 21.54435, 31.622776, 46.415897, 68.12921, 100.0, 146.77995, 215.44354, 316.22775, 464.15897, 681.29193, 1000.0, 1467.7987, 2154.4355, 3162.2776, 4641.59, 6812.9194, 10000.0], 'lamb': [0.01, 0.021544348, 0.046415895, 0.1...`\n",
      "2021/02/09 09:54:24 WARNING mlflow.utils.autologging_utils: MLflow issued a warning during sklearn autologging: \"/Library/Frameworks/Python.framework/Versions/3.7/lib/python3.7/site-packages/mlflow/sklearn/__init__.py:824: UserWarning: Logging to MLflow failed: Got invalid value -0.21896432 for metric 'training_score' (timestamp=1612860864889). Please specify value as a valid double (64-bit floating point)\"\n",
      "2021/02/09 09:54:27 WARNING mlflow.sklearn: Failed to infer model signature: Expected one of (pandas.DataFrame, numpy array, dictionary of (name -> numpy.ndarray), pyspark.sql.DataFrame) but got '<class 'jax.interpreters.xla.DeviceArray'>'\n"
     ]
    },
    {
     "name": "stdout",
     "output_type": "stream",
     "text": [
      "best params: {'lamb': 1000.0, 'sigma': 10000.0}\n",
      "test error: 0.3435981273651123\n",
      "mean angle: 85.98793029785156\n",
      "time taken: 1229.5398170948029\n"
     ]
    },
    {
     "name": "stderr",
     "output_type": "stream",
     "text": [
      "2021/02/09 09:55:55 INFO mlflow.utils.autologging_utils: sklearn autologging will track hyperparameters, performance metrics, model artifacts, and lineage information for the current sklearn workflow to the MLflow run with ID '754c7019622d4f75a3a349157cbfe36d'\n",
      "2021/02/09 09:55:55 WARNING mlflow.sklearn.utils: Truncated the value of the key `param_grid`. Truncated value: `{'sigma': [10.0, 14.677991, 21.54435, 31.622776, 46.415897, 68.12921, 100.0, 146.77995, 215.44354, 316.22775, 464.15897, 681.29193, 1000.0, 1467.7987, 2154.4355, 3162.2776, 4641.59, 6812.9194, 10000.0], 'lamb': [0.01, 0.021544348, 0.046415895, 0.1...`\n",
      "2021/02/09 10:18:27 WARNING mlflow.utils.autologging_utils: MLflow issued a warning during sklearn autologging: \"/Library/Frameworks/Python.framework/Versions/3.7/lib/python3.7/site-packages/mlflow/sklearn/__init__.py:824: UserWarning: Logging to MLflow failed: Got invalid value -0.21245675 for metric 'training_score' (timestamp=1612862307624). Please specify value as a valid double (64-bit floating point)\"\n",
      "2021/02/09 10:18:30 WARNING mlflow.sklearn: Failed to infer model signature: Expected one of (pandas.DataFrame, numpy array, dictionary of (name -> numpy.ndarray), pyspark.sql.DataFrame) but got '<class 'jax.interpreters.xla.DeviceArray'>'\n"
     ]
    },
    {
     "name": "stdout",
     "output_type": "stream",
     "text": [
      "best params: {'lamb': 1000.0, 'sigma': 10000.0}\n",
      "test error: 0.3326292037963867\n",
      "mean angle: 85.96851348876953\n",
      "time taken: 1448.30406498909\n"
     ]
    },
    {
     "name": "stderr",
     "output_type": "stream",
     "text": [
      "2021/02/09 10:20:03 INFO mlflow.utils.autologging_utils: sklearn autologging will track hyperparameters, performance metrics, model artifacts, and lineage information for the current sklearn workflow to the MLflow run with ID 'd5fde5b76cba4f17948f6e4727fe2989'\n",
      "2021/02/09 10:20:03 WARNING mlflow.sklearn.utils: Truncated the value of the key `param_grid`. Truncated value: `{'sigma': [10.0, 14.677991, 21.54435, 31.622776, 46.415897, 68.12921, 100.0, 146.77995, 215.44354, 316.22775, 464.15897, 681.29193, 1000.0, 1467.7987, 2154.4355, 3162.2776, 4641.59, 6812.9194, 10000.0], 'lamb': [0.01, 0.021544348, 0.046415895, 0.1...`\n",
      "2021/02/09 10:45:23 WARNING mlflow.utils.autologging_utils: MLflow issued a warning during sklearn autologging: \"/Library/Frameworks/Python.framework/Versions/3.7/lib/python3.7/site-packages/mlflow/sklearn/__init__.py:824: UserWarning: Logging to MLflow failed: Got invalid value -0.20568345 for metric 'training_score' (timestamp=1612863923668). Please specify value as a valid double (64-bit floating point)\"\n",
      "2021/02/09 10:45:26 WARNING mlflow.sklearn: Failed to infer model signature: Expected one of (pandas.DataFrame, numpy array, dictionary of (name -> numpy.ndarray), pyspark.sql.DataFrame) but got '<class 'jax.interpreters.xla.DeviceArray'>'\n"
     ]
    },
    {
     "name": "stdout",
     "output_type": "stream",
     "text": [
      "best params: {'lamb': 1000.0, 'sigma': 10000.0}\n",
      "test error: 0.3040699064731598\n",
      "mean angle: 85.95068359375\n",
      "time taken: 1643.7622950077057\n"
     ]
    },
    {
     "name": "stderr",
     "output_type": "stream",
     "text": [
      "2021/02/09 10:47:27 INFO mlflow.utils.autologging_utils: sklearn autologging will track hyperparameters, performance metrics, model artifacts, and lineage information for the current sklearn workflow to the MLflow run with ID '1e019a27ac1e4735a1047ac24cf8b498'\n",
      "2021/02/09 10:47:27 WARNING mlflow.sklearn.utils: Truncated the value of the key `param_grid`. Truncated value: `{'sigma': [10.0, 14.677991, 21.54435, 31.622776, 46.415897, 68.12921, 100.0, 146.77995, 215.44354, 316.22775, 464.15897, 681.29193, 1000.0, 1467.7987, 2154.4355, 3162.2776, 4641.59, 6812.9194, 10000.0], 'lamb': [0.01, 0.021544348, 0.046415895, 0.1...`\n",
      "2021/02/09 11:20:35 WARNING mlflow.utils.autologging_utils: MLflow issued a warning during sklearn autologging: \"/Library/Frameworks/Python.framework/Versions/3.7/lib/python3.7/site-packages/mlflow/sklearn/__init__.py:824: UserWarning: Logging to MLflow failed: Got invalid value -0.047414202 for metric 'training_score' (timestamp=1612866035756). Please specify value as a valid double (64-bit floating point)\"\n",
      "2021/02/09 11:20:40 WARNING mlflow.sklearn: Failed to infer model signature: Expected one of (pandas.DataFrame, numpy array, dictionary of (name -> numpy.ndarray), pyspark.sql.DataFrame) but got '<class 'jax.interpreters.xla.DeviceArray'>'\n"
     ]
    },
    {
     "name": "stdout",
     "output_type": "stream",
     "text": [
      "best params: {'lamb': 10.000003, 'sigma': 21.54435}\n",
      "test error: 0.42624688148498535\n",
      "mean angle: 58.404754638671875\n",
      "time taken: 2139.745871067047\n"
     ]
    },
    {
     "name": "stderr",
     "output_type": "stream",
     "text": [
      "2021/02/09 11:23:07 INFO mlflow.utils.autologging_utils: sklearn autologging will track hyperparameters, performance metrics, model artifacts, and lineage information for the current sklearn workflow to the MLflow run with ID '3535720da5554fdcbf6b5ca14eb38442'\n",
      "2021/02/09 11:23:07 WARNING mlflow.sklearn.utils: Truncated the value of the key `param_grid`. Truncated value: `{'sigma': [10.0, 14.677991, 21.54435, 31.622776, 46.415897, 68.12921, 100.0, 146.77995, 215.44354, 316.22775, 464.15897, 681.29193, 1000.0, 1467.7987, 2154.4355, 3162.2776, 4641.59, 6812.9194, 10000.0], 'lamb': [0.01, 0.021544348, 0.046415895, 0.1...`\n",
      "2021/02/09 12:01:00 WARNING mlflow.utils.autologging_utils: MLflow issued a warning during sklearn autologging: \"/Library/Frameworks/Python.framework/Versions/3.7/lib/python3.7/site-packages/mlflow/sklearn/__init__.py:824: UserWarning: Logging to MLflow failed: Got invalid value -0.073941894 for metric 'training_score' (timestamp=1612868460277). Please specify value as a valid double (64-bit floating point)\"\n",
      "2021/02/09 12:01:04 WARNING mlflow.sklearn: Failed to infer model signature: Expected one of (pandas.DataFrame, numpy array, dictionary of (name -> numpy.ndarray), pyspark.sql.DataFrame) but got '<class 'jax.interpreters.xla.DeviceArray'>'\n"
     ]
    },
    {
     "name": "stdout",
     "output_type": "stream",
     "text": [
      "best params: {'lamb': 46.415897, 'sigma': 14.677991}\n",
      "test error: 0.23906807601451874\n",
      "mean angle: 43.327205657958984\n",
      "time taken: 2438.242344856262\n"
     ]
    },
    {
     "name": "stderr",
     "output_type": "stream",
     "text": [
      "2021/02/09 12:03:45 INFO mlflow.utils.autologging_utils: sklearn autologging will track hyperparameters, performance metrics, model artifacts, and lineage information for the current sklearn workflow to the MLflow run with ID '4358d5929dae48d8b918d15351267810'\n",
      "2021/02/09 12:03:45 WARNING mlflow.sklearn.utils: Truncated the value of the key `param_grid`. Truncated value: `{'sigma': [10.0, 14.677991, 21.54435, 31.622776, 46.415897, 68.12921, 100.0, 146.77995, 215.44354, 316.22775, 464.15897, 681.29193, 1000.0, 1467.7987, 2154.4355, 3162.2776, 4641.59, 6812.9194, 10000.0], 'lamb': [0.01, 0.021544348, 0.046415895, 0.1...`\n",
      "2021/02/09 12:44:40 WARNING mlflow.utils.autologging_utils: MLflow issued a warning during sklearn autologging: \"/Library/Frameworks/Python.framework/Versions/3.7/lib/python3.7/site-packages/mlflow/sklearn/__init__.py:824: UserWarning: Logging to MLflow failed: Got invalid value -1.8793169 for metric 'training_score' (timestamp=1612871080758). Please specify value as a valid double (64-bit floating point)\"\n",
      "2021/02/09 12:44:44 WARNING mlflow.sklearn: Failed to infer model signature: Expected one of (pandas.DataFrame, numpy array, dictionary of (name -> numpy.ndarray), pyspark.sql.DataFrame) but got '<class 'jax.interpreters.xla.DeviceArray'>'\n"
     ]
    },
    {
     "name": "stdout",
     "output_type": "stream",
     "text": [
      "best params: {'lamb': 215.44344, 'sigma': 14.677991}\n",
      "test error: 2.1031200885772705\n",
      "mean angle: 90.0664291381836\n",
      "time taken: 2639.7656288146973\n"
     ]
    },
    {
     "name": "stderr",
     "output_type": "stream",
     "text": [
      "2021/02/09 12:47:45 INFO mlflow.utils.autologging_utils: sklearn autologging will track hyperparameters, performance metrics, model artifacts, and lineage information for the current sklearn workflow to the MLflow run with ID '74fa26124ec940748f80196cd1024986'\n",
      "2021/02/09 12:47:45 WARNING mlflow.sklearn.utils: Truncated the value of the key `param_grid`. Truncated value: `{'sigma': [10.0, 14.677991, 21.54435, 31.622776, 46.415897, 68.12921, 100.0, 146.77995, 215.44354, 316.22775, 464.15897, 681.29193, 1000.0, 1467.7987, 2154.4355, 3162.2776, 4641.59, 6812.9194, 10000.0], 'lamb': [0.01, 0.021544348, 0.046415895, 0.1...`\n",
      "2021/02/09 13:28:39 WARNING mlflow.utils.autologging_utils: MLflow issued a warning during sklearn autologging: \"/Library/Frameworks/Python.framework/Versions/3.7/lib/python3.7/site-packages/mlflow/sklearn/__init__.py:824: UserWarning: Logging to MLflow failed: Got invalid value -0.069104046 for metric 'training_score' (timestamp=1612873719083). Please specify value as a valid double (64-bit floating point)\"\n",
      "2021/02/09 13:28:42 WARNING mlflow.sklearn: Failed to infer model signature: Expected one of (pandas.DataFrame, numpy array, dictionary of (name -> numpy.ndarray), pyspark.sql.DataFrame) but got '<class 'jax.interpreters.xla.DeviceArray'>'\n"
     ]
    },
    {
     "name": "stdout",
     "output_type": "stream",
     "text": [
      "best params: {'lamb': 215.44344, 'sigma': 46.415897}\n",
      "test error: 0.0853474959731102\n",
      "mean angle: 14.811203956604004\n",
      "time taken: 2640.2081582546234\n"
     ]
    },
    {
     "name": "stderr",
     "output_type": "stream",
     "text": [
      "2021/02/09 13:31:46 INFO mlflow.utils.autologging_utils: sklearn autologging will track hyperparameters, performance metrics, model artifacts, and lineage information for the current sklearn workflow to the MLflow run with ID '46e04c0a60124e6ba30f7fbc546cf7f8'\n",
      "2021/02/09 13:31:46 WARNING mlflow.sklearn.utils: Truncated the value of the key `param_grid`. Truncated value: `{'sigma': [10.0, 14.677991, 21.54435, 31.622776, 46.415897, 68.12921, 100.0, 146.77995, 215.44354, 316.22775, 464.15897, 681.29193, 1000.0, 1467.7987, 2154.4355, 3162.2776, 4641.59, 6812.9194, 10000.0], 'lamb': [0.01, 0.021544348, 0.046415895, 0.1...`\n",
      "2021/02/09 14:17:43 WARNING mlflow.utils.autologging_utils: MLflow issued a warning during sklearn autologging: \"/Library/Frameworks/Python.framework/Versions/3.7/lib/python3.7/site-packages/mlflow/sklearn/__init__.py:824: UserWarning: Logging to MLflow failed: Got invalid value -0.14641212 for metric 'training_score' (timestamp=1612876663734). Please specify value as a valid double (64-bit floating point)\"\n",
      "2021/02/09 14:17:47 WARNING mlflow.sklearn: Failed to infer model signature: Expected one of (pandas.DataFrame, numpy array, dictionary of (name -> numpy.ndarray), pyspark.sql.DataFrame) but got '<class 'jax.interpreters.xla.DeviceArray'>'\n"
     ]
    },
    {
     "name": "stdout",
     "output_type": "stream",
     "text": [
      "best params: {'lamb': 464.15872, 'sigma': 31.622776}\n",
      "test error: 0.11986810714006424\n",
      "mean angle: 25.321548461914062\n",
      "time taken: 2957.6717641353607\n"
     ]
    },
    {
     "name": "stderr",
     "output_type": "stream",
     "text": [
      "2021/02/09 14:21:03 INFO mlflow.utils.autologging_utils: sklearn autologging will track hyperparameters, performance metrics, model artifacts, and lineage information for the current sklearn workflow to the MLflow run with ID 'beb729c7e2a944ae8a966bb4eb906f91'\n",
      "2021/02/09 14:21:03 WARNING mlflow.sklearn.utils: Truncated the value of the key `param_grid`. Truncated value: `{'sigma': [10.0, 14.677991, 21.54435, 31.622776, 46.415897, 68.12921, 100.0, 146.77995, 215.44354, 316.22775, 464.15897, 681.29193, 1000.0, 1467.7987, 2154.4355, 3162.2776, 4641.59, 6812.9194, 10000.0], 'lamb': [0.01, 0.021544348, 0.046415895, 0.1...`\n",
      "2021/02/09 14:59:26 WARNING mlflow.utils.autologging_utils: MLflow issued a warning during sklearn autologging: \"/Library/Frameworks/Python.framework/Versions/3.7/lib/python3.7/site-packages/mlflow/sklearn/__init__.py:824: UserWarning: Logging to MLflow failed: Got invalid value -0.07078356 for metric 'training_score' (timestamp=1612879166769). Please specify value as a valid double (64-bit floating point)\"\n",
      "2021/02/09 14:59:29 WARNING mlflow.sklearn: Failed to infer model signature: Expected one of (pandas.DataFrame, numpy array, dictionary of (name -> numpy.ndarray), pyspark.sql.DataFrame) but got '<class 'jax.interpreters.xla.DeviceArray'>'\n"
     ]
    },
    {
     "name": "stdout",
     "output_type": "stream",
     "text": [
      "best params: {'lamb': 1000.0, 'sigma': 21.54435}\n",
      "test error: 0.09690824896097183\n",
      "mean angle: 22.488231658935547\n",
      "time taken: 2459.1338460445404\n"
     ]
    },
    {
     "name": "stderr",
     "output_type": "stream",
     "text": [
      "2021/02/09 15:02:03 INFO mlflow.utils.autologging_utils: sklearn autologging will track hyperparameters, performance metrics, model artifacts, and lineage information for the current sklearn workflow to the MLflow run with ID '701ce267faf540c4bc4ba7ca66043d7e'\n",
      "2021/02/09 15:02:03 WARNING mlflow.sklearn.utils: Truncated the value of the key `param_grid`. Truncated value: `{'sigma': [10.0, 14.677991, 21.54435, 31.622776, 46.415897, 68.12921, 100.0, 146.77995, 215.44354, 316.22775, 464.15897, 681.29193, 1000.0, 1467.7987, 2154.4355, 3162.2776, 4641.59, 6812.9194, 10000.0], 'lamb': [0.01, 0.021544348, 0.046415895, 0.1...`\n",
      "2021/02/09 15:49:22 WARNING mlflow.utils.autologging_utils: MLflow issued a warning during sklearn autologging: \"/Library/Frameworks/Python.framework/Versions/3.7/lib/python3.7/site-packages/mlflow/sklearn/__init__.py:824: UserWarning: Logging to MLflow failed: Got invalid value -0.06525884 for metric 'training_score' (timestamp=1612882162671). Please specify value as a valid double (64-bit floating point)\"\n",
      "2021/02/09 15:49:25 WARNING mlflow.sklearn: Failed to infer model signature: Expected one of (pandas.DataFrame, numpy array, dictionary of (name -> numpy.ndarray), pyspark.sql.DataFrame) but got '<class 'jax.interpreters.xla.DeviceArray'>'\n"
     ]
    },
    {
     "name": "stdout",
     "output_type": "stream",
     "text": [
      "best params: {'lamb': 2.154435, 'sigma': 6812.9194}\n",
      "test error: 0.09522810578346252\n",
      "mean angle: 24.285903930664062\n",
      "time taken: 2997.1371829509735\n"
     ]
    },
    {
     "data": {
      "image/png": "[encoded data removed]",
      "text/plain": [
       "<Figure size 432x288 with 2 Axes>"
      ]
     },
     "metadata": {
      "needs_background": "light"
     },
     "output_type": "display_data"
    }
   ],
   "source": []
  },
  {
   "cell_type": "code",
   "execution_count": 5,
   "metadata": {},
   "outputs": [
    {
     "name": "stderr",
     "output_type": "stream",
     "text": [
      "100%|██████████| 10/10 [2:41:00<00:00, 966.08s/it]  \n"
     ]
    }
   ],
   "source": [
    "results = []\n",
    "for _ in tqdm(range(10)):\n",
    "    results.append(cv())"
   ]
  }
 ],
 "metadata": {
  "kernel_info": {
   "name": "python3"
  },
  "kernelspec": {
   "display_name": "Python 3",
   "language": "python",
   "name": "python3"
  },
  "language_info": {
   "codemirror_mode": {
    "name": "ipython",
    "version": 3
   },
   "file_extension": ".py",
   "mimetype": "text/x-python",
   "name": "python",
   "nbconvert_exporter": "python",
   "pygments_lexer": "ipython3",
   "version": "3.7.4"
  },
  "nteract": {
   "version": "0.27.0"
  }
 },
 "nbformat": 4,
 "nbformat_minor": 4
}
